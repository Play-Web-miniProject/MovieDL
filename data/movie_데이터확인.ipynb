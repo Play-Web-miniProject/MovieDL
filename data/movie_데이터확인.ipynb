{
  "cells": [
    {
      "cell_type": "code",
      "execution_count": 2,
      "metadata": {
        "id": "fyLFfeakcZq_"
      },
      "outputs": [],
      "source": [
        "import plotly.express as px\n",
        "import seaborn as sns\n",
        "import matplotlib.pyplot as plt\n",
        "import warnings\n",
        "import pandas as pd\n",
        "warnings.filterwarnings(action='ignore')"
      ]
    },
    {
      "cell_type": "code",
      "execution_count": 11,
      "metadata": {
        "id": "LmrIn4zTcjm8"
      },
      "outputs": [
        {
          "data": {
            "text/html": [
              "<div>\n",
              "<style scoped>\n",
              "    .dataframe tbody tr th:only-of-type {\n",
              "        vertical-align: middle;\n",
              "    }\n",
              "\n",
              "    .dataframe tbody tr th {\n",
              "        vertical-align: top;\n",
              "    }\n",
              "\n",
              "    .dataframe thead th {\n",
              "        text-align: right;\n",
              "    }\n",
              "</style>\n",
              "<table border=\"1\" class=\"dataframe\">\n",
              "  <thead>\n",
              "    <tr style=\"text-align: right;\">\n",
              "      <th></th>\n",
              "      <th>영화명</th>\n",
              "      <th>감독</th>\n",
              "      <th>제작사</th>\n",
              "      <th>수입사</th>\n",
              "      <th>배급사</th>\n",
              "      <th>개봉일</th>\n",
              "      <th>영화유형</th>\n",
              "      <th>영화형태</th>\n",
              "      <th>국적</th>\n",
              "      <th>전국 스크린수</th>\n",
              "      <th>전국 매출액</th>\n",
              "      <th>전국 관객수</th>\n",
              "      <th>서울 매출액</th>\n",
              "      <th>서울 관객수</th>\n",
              "      <th>장르</th>\n",
              "      <th>등급</th>\n",
              "      <th>영화구분</th>\n",
              "    </tr>\n",
              "    <tr>\n",
              "      <th>순번</th>\n",
              "      <th></th>\n",
              "      <th></th>\n",
              "      <th></th>\n",
              "      <th></th>\n",
              "      <th></th>\n",
              "      <th></th>\n",
              "      <th></th>\n",
              "      <th></th>\n",
              "      <th></th>\n",
              "      <th></th>\n",
              "      <th></th>\n",
              "      <th></th>\n",
              "      <th></th>\n",
              "      <th></th>\n",
              "      <th></th>\n",
              "      <th></th>\n",
              "      <th></th>\n",
              "    </tr>\n",
              "  </thead>\n",
              "  <tbody>\n",
              "    <tr>\n",
              "      <th>1</th>\n",
              "      <td>명량</td>\n",
              "      <td>김한민</td>\n",
              "      <td>(주)빅스톤픽쳐스</td>\n",
              "      <td>NaN</td>\n",
              "      <td>(주)씨제이이엔엠</td>\n",
              "      <td>2014-07-30</td>\n",
              "      <td>개봉영화</td>\n",
              "      <td>장편</td>\n",
              "      <td>한국</td>\n",
              "      <td>1587</td>\n",
              "      <td>1.357484e+11</td>\n",
              "      <td>17613682</td>\n",
              "      <td>3.312123e+10</td>\n",
              "      <td>4163666</td>\n",
              "      <td>사극</td>\n",
              "      <td>15세이상관람가</td>\n",
              "      <td>일반영화</td>\n",
              "    </tr>\n",
              "    <tr>\n",
              "      <th>2</th>\n",
              "      <td>극한직업</td>\n",
              "      <td>이병헌</td>\n",
              "      <td>(주)어바웃잇,영화사 해그림 주식회사,(주)씨제이이엔엠</td>\n",
              "      <td>NaN</td>\n",
              "      <td>(주)씨제이이엔엠</td>\n",
              "      <td>2019-01-23</td>\n",
              "      <td>개봉영화</td>\n",
              "      <td>장편</td>\n",
              "      <td>한국</td>\n",
              "      <td>1978</td>\n",
              "      <td>1.396480e+11</td>\n",
              "      <td>16264944</td>\n",
              "      <td>3.185866e+10</td>\n",
              "      <td>3638287</td>\n",
              "      <td>코미디</td>\n",
              "      <td>15세이상관람가</td>\n",
              "      <td>일반영화</td>\n",
              "    </tr>\n",
              "    <tr>\n",
              "      <th>3</th>\n",
              "      <td>신과함께-죄와 벌</td>\n",
              "      <td>김용화</td>\n",
              "      <td>리얼라이즈픽쳐스(주),(주)덱스터스튜디오</td>\n",
              "      <td>NaN</td>\n",
              "      <td>롯데쇼핑㈜롯데엔터테인먼트</td>\n",
              "      <td>2017-12-20</td>\n",
              "      <td>개봉영화</td>\n",
              "      <td>장편</td>\n",
              "      <td>한국</td>\n",
              "      <td>1912</td>\n",
              "      <td>1.156987e+11</td>\n",
              "      <td>14410754</td>\n",
              "      <td>2.753083e+10</td>\n",
              "      <td>3346172</td>\n",
              "      <td>판타지</td>\n",
              "      <td>12세이상관람가</td>\n",
              "      <td>일반영화</td>\n",
              "    </tr>\n",
              "    <tr>\n",
              "      <th>4</th>\n",
              "      <td>국제시장</td>\n",
              "      <td>윤제균</td>\n",
              "      <td>(주)제이케이필름,(주)씨제이이엔엠</td>\n",
              "      <td>NaN</td>\n",
              "      <td>(주)씨제이이엔엠</td>\n",
              "      <td>2014-12-17</td>\n",
              "      <td>개봉영화</td>\n",
              "      <td>장편</td>\n",
              "      <td>한국</td>\n",
              "      <td>966</td>\n",
              "      <td>1.108280e+11</td>\n",
              "      <td>14245998</td>\n",
              "      <td>2.584252e+10</td>\n",
              "      <td>3233946</td>\n",
              "      <td>드라마</td>\n",
              "      <td>12세이상관람가</td>\n",
              "      <td>일반영화</td>\n",
              "    </tr>\n",
              "    <tr>\n",
              "      <th>5</th>\n",
              "      <td>어벤져스: 엔드게임</td>\n",
              "      <td>안소니 루소,조 루소</td>\n",
              "      <td>NaN</td>\n",
              "      <td>월트디즈니컴퍼니코리아 유한책임회사</td>\n",
              "      <td>월트디즈니컴퍼니코리아 유한책임회사</td>\n",
              "      <td>2019-04-24</td>\n",
              "      <td>개봉영화</td>\n",
              "      <td>장편</td>\n",
              "      <td>미국</td>\n",
              "      <td>2835</td>\n",
              "      <td>1.221827e+11</td>\n",
              "      <td>13934592</td>\n",
              "      <td>3.357714e+10</td>\n",
              "      <td>3597963</td>\n",
              "      <td>액션</td>\n",
              "      <td>12세이상관람가</td>\n",
              "      <td>일반영화</td>\n",
              "    </tr>\n",
              "  </tbody>\n",
              "</table>\n",
              "</div>"
            ],
            "text/plain": [
              "           영화명           감독                             제작사  \\\n",
              "순번                                                            \n",
              "1           명량          김한민                       (주)빅스톤픽쳐스   \n",
              "2         극한직업          이병헌  (주)어바웃잇,영화사 해그림 주식회사,(주)씨제이이엔엠   \n",
              "3    신과함께-죄와 벌          김용화          리얼라이즈픽쳐스(주),(주)덱스터스튜디오   \n",
              "4         국제시장          윤제균             (주)제이케이필름,(주)씨제이이엔엠   \n",
              "5   어벤져스: 엔드게임  안소니 루소,조 루소                             NaN   \n",
              "\n",
              "                   수입사                 배급사         개봉일  영화유형 영화형태  국적  \\\n",
              "순번                                                                      \n",
              "1                  NaN           (주)씨제이이엔엠  2014-07-30  개봉영화   장편  한국   \n",
              "2                  NaN           (주)씨제이이엔엠  2019-01-23  개봉영화   장편  한국   \n",
              "3                  NaN       롯데쇼핑㈜롯데엔터테인먼트  2017-12-20  개봉영화   장편  한국   \n",
              "4                  NaN           (주)씨제이이엔엠  2014-12-17  개봉영화   장편  한국   \n",
              "5   월트디즈니컴퍼니코리아 유한책임회사  월트디즈니컴퍼니코리아 유한책임회사  2019-04-24  개봉영화   장편  미국   \n",
              "\n",
              "    전국 스크린수        전국 매출액    전국 관객수        서울 매출액   서울 관객수   장르        등급  \\\n",
              "순번                                                                          \n",
              "1      1587  1.357484e+11  17613682  3.312123e+10  4163666   사극  15세이상관람가   \n",
              "2      1978  1.396480e+11  16264944  3.185866e+10  3638287  코미디  15세이상관람가   \n",
              "3      1912  1.156987e+11  14410754  2.753083e+10  3346172  판타지  12세이상관람가   \n",
              "4       966  1.108280e+11  14245998  2.584252e+10  3233946  드라마  12세이상관람가   \n",
              "5      2835  1.221827e+11  13934592  3.357714e+10  3597963   액션  12세이상관람가   \n",
              "\n",
              "    영화구분  \n",
              "순번        \n",
              "1   일반영화  \n",
              "2   일반영화  \n",
              "3   일반영화  \n",
              "4   일반영화  \n",
              "5   일반영화  "
            ]
          },
          "execution_count": 11,
          "metadata": {},
          "output_type": "execute_result"
        }
      ],
      "source": [
        "df = pd.read_csv('movie_data/movie03_22.csv', index_col=\"순번\", encoding='cp949')\n",
        "df.head()"
      ]
    },
    {
      "cell_type": "code",
      "execution_count": null,
      "metadata": {
        "colab": {
          "base_uri": "https://localhost:8080/",
          "height": 403
        },
        "id": "X2GdQvZMdtyl",
        "outputId": "3f63c7ae-1559-437f-9535-6fc7431026eb"
      },
      "outputs": [
        {
          "data": {
            "text/html": [
              "\n",
              "  <div id=\"df-e2dcf97a-abe5-462f-a3ef-dbfa7d7ad970\">\n",
              "    <div class=\"colab-df-container\">\n",
              "      <div>\n",
              "<style scoped>\n",
              "    .dataframe tbody tr th:only-of-type {\n",
              "        vertical-align: middle;\n",
              "    }\n",
              "\n",
              "    .dataframe tbody tr th {\n",
              "        vertical-align: top;\n",
              "    }\n",
              "\n",
              "    .dataframe thead th {\n",
              "        text-align: right;\n",
              "    }\n",
              "</style>\n",
              "<table border=\"1\" class=\"dataframe\">\n",
              "  <thead>\n",
              "    <tr style=\"text-align: right;\">\n",
              "      <th></th>\n",
              "      <th>영화명</th>\n",
              "      <th>감독</th>\n",
              "      <th>제작사</th>\n",
              "      <th>수입사</th>\n",
              "      <th>배급사</th>\n",
              "      <th>개봉일</th>\n",
              "      <th>영화유형</th>\n",
              "      <th>영화형태</th>\n",
              "      <th>국적</th>\n",
              "      <th>전국스크린수</th>\n",
              "      <th>전국 매출액</th>\n",
              "      <th>전국 관객수</th>\n",
              "      <th>장르</th>\n",
              "      <th>등급</th>\n",
              "      <th>영화구분</th>\n",
              "    </tr>\n",
              "    <tr>\n",
              "      <th>순번</th>\n",
              "      <th></th>\n",
              "      <th></th>\n",
              "      <th></th>\n",
              "      <th></th>\n",
              "      <th></th>\n",
              "      <th></th>\n",
              "      <th></th>\n",
              "      <th></th>\n",
              "      <th></th>\n",
              "      <th></th>\n",
              "      <th></th>\n",
              "      <th></th>\n",
              "      <th></th>\n",
              "      <th></th>\n",
              "      <th></th>\n",
              "    </tr>\n",
              "  </thead>\n",
              "  <tbody>\n",
              "    <tr>\n",
              "      <th>1</th>\n",
              "      <td>명량</td>\n",
              "      <td>김한민</td>\n",
              "      <td>(주)빅스톤픽쳐스</td>\n",
              "      <td>NaN</td>\n",
              "      <td>(주)씨제이이엔엠</td>\n",
              "      <td>2014-07-30</td>\n",
              "      <td>개봉영화</td>\n",
              "      <td>장편</td>\n",
              "      <td>한국</td>\n",
              "      <td>1,587</td>\n",
              "      <td>135,748,398,910</td>\n",
              "      <td>17,613,682</td>\n",
              "      <td>사극</td>\n",
              "      <td>15세이상관람가</td>\n",
              "      <td>일반영화</td>\n",
              "    </tr>\n",
              "    <tr>\n",
              "      <th>2</th>\n",
              "      <td>극한직업</td>\n",
              "      <td>이병헌</td>\n",
              "      <td>(주)어바웃잇,영화사 해그림 주식회사,(주)씨제이이엔엠</td>\n",
              "      <td>NaN</td>\n",
              "      <td>(주)씨제이이엔엠</td>\n",
              "      <td>2019-01-23</td>\n",
              "      <td>개봉영화</td>\n",
              "      <td>장편</td>\n",
              "      <td>한국</td>\n",
              "      <td>1,978</td>\n",
              "      <td>139,647,979,516</td>\n",
              "      <td>16,264,944</td>\n",
              "      <td>코미디</td>\n",
              "      <td>15세이상관람가</td>\n",
              "      <td>일반영화</td>\n",
              "    </tr>\n",
              "    <tr>\n",
              "      <th>3</th>\n",
              "      <td>신과함께-죄와 벌</td>\n",
              "      <td>김용화</td>\n",
              "      <td>리얼라이즈픽쳐스(주),(주)덱스터스튜디오</td>\n",
              "      <td>NaN</td>\n",
              "      <td>롯데쇼핑㈜롯데엔터테인먼트</td>\n",
              "      <td>2017-12-20</td>\n",
              "      <td>개봉영화</td>\n",
              "      <td>장편</td>\n",
              "      <td>한국</td>\n",
              "      <td>1,912</td>\n",
              "      <td>115,698,654,137</td>\n",
              "      <td>14,410,754</td>\n",
              "      <td>판타지</td>\n",
              "      <td>12세이상관람가</td>\n",
              "      <td>일반영화</td>\n",
              "    </tr>\n",
              "    <tr>\n",
              "      <th>4</th>\n",
              "      <td>국제시장</td>\n",
              "      <td>윤제균</td>\n",
              "      <td>(주)제이케이필름,(주)씨제이이엔엠</td>\n",
              "      <td>NaN</td>\n",
              "      <td>(주)씨제이이엔엠</td>\n",
              "      <td>2014-12-17</td>\n",
              "      <td>개봉영화</td>\n",
              "      <td>장편</td>\n",
              "      <td>한국</td>\n",
              "      <td>966</td>\n",
              "      <td>110,828,014,630</td>\n",
              "      <td>14,245,998</td>\n",
              "      <td>드라마</td>\n",
              "      <td>12세이상관람가</td>\n",
              "      <td>일반영화</td>\n",
              "    </tr>\n",
              "    <tr>\n",
              "      <th>5</th>\n",
              "      <td>어벤져스: 엔드게임</td>\n",
              "      <td>안소니 루소,조 루소</td>\n",
              "      <td>NaN</td>\n",
              "      <td>월트디즈니컴퍼니코리아 유한책임회사</td>\n",
              "      <td>월트디즈니컴퍼니코리아 유한책임회사</td>\n",
              "      <td>2019-04-24</td>\n",
              "      <td>개봉영화</td>\n",
              "      <td>장편</td>\n",
              "      <td>미국</td>\n",
              "      <td>2,835</td>\n",
              "      <td>122,182,694,160</td>\n",
              "      <td>13,934,592</td>\n",
              "      <td>액션</td>\n",
              "      <td>12세이상관람가</td>\n",
              "      <td>일반영화</td>\n",
              "    </tr>\n",
              "  </tbody>\n",
              "</table>\n",
              "</div>\n",
              "      <button class=\"colab-df-convert\" onclick=\"convertToInteractive('df-e2dcf97a-abe5-462f-a3ef-dbfa7d7ad970')\"\n",
              "              title=\"Convert this dataframe to an interactive table.\"\n",
              "              style=\"display:none;\">\n",
              "        \n",
              "  <svg xmlns=\"http://www.w3.org/2000/svg\" height=\"24px\"viewBox=\"0 0 24 24\"\n",
              "       width=\"24px\">\n",
              "    <path d=\"M0 0h24v24H0V0z\" fill=\"none\"/>\n",
              "    <path d=\"M18.56 5.44l.94 2.06.94-2.06 2.06-.94-2.06-.94-.94-2.06-.94 2.06-2.06.94zm-11 1L8.5 8.5l.94-2.06 2.06-.94-2.06-.94L8.5 2.5l-.94 2.06-2.06.94zm10 10l.94 2.06.94-2.06 2.06-.94-2.06-.94-.94-2.06-.94 2.06-2.06.94z\"/><path d=\"M17.41 7.96l-1.37-1.37c-.4-.4-.92-.59-1.43-.59-.52 0-1.04.2-1.43.59L10.3 9.45l-7.72 7.72c-.78.78-.78 2.05 0 2.83L4 21.41c.39.39.9.59 1.41.59.51 0 1.02-.2 1.41-.59l7.78-7.78 2.81-2.81c.8-.78.8-2.07 0-2.86zM5.41 20L4 18.59l7.72-7.72 1.47 1.35L5.41 20z\"/>\n",
              "  </svg>\n",
              "      </button>\n",
              "      \n",
              "  <style>\n",
              "    .colab-df-container {\n",
              "      display:flex;\n",
              "      flex-wrap:wrap;\n",
              "      gap: 12px;\n",
              "    }\n",
              "\n",
              "    .colab-df-convert {\n",
              "      background-color: #E8F0FE;\n",
              "      border: none;\n",
              "      border-radius: 50%;\n",
              "      cursor: pointer;\n",
              "      display: none;\n",
              "      fill: #1967D2;\n",
              "      height: 32px;\n",
              "      padding: 0 0 0 0;\n",
              "      width: 32px;\n",
              "    }\n",
              "\n",
              "    .colab-df-convert:hover {\n",
              "      background-color: #E2EBFA;\n",
              "      box-shadow: 0px 1px 2px rgba(60, 64, 67, 0.3), 0px 1px 3px 1px rgba(60, 64, 67, 0.15);\n",
              "      fill: #174EA6;\n",
              "    }\n",
              "\n",
              "    [theme=dark] .colab-df-convert {\n",
              "      background-color: #3B4455;\n",
              "      fill: #D2E3FC;\n",
              "    }\n",
              "\n",
              "    [theme=dark] .colab-df-convert:hover {\n",
              "      background-color: #434B5C;\n",
              "      box-shadow: 0px 1px 3px 1px rgba(0, 0, 0, 0.15);\n",
              "      filter: drop-shadow(0px 1px 2px rgba(0, 0, 0, 0.3));\n",
              "      fill: #FFFFFF;\n",
              "    }\n",
              "  </style>\n",
              "\n",
              "      <script>\n",
              "        const buttonEl =\n",
              "          document.querySelector('#df-e2dcf97a-abe5-462f-a3ef-dbfa7d7ad970 button.colab-df-convert');\n",
              "        buttonEl.style.display =\n",
              "          google.colab.kernel.accessAllowed ? 'block' : 'none';\n",
              "\n",
              "        async function convertToInteractive(key) {\n",
              "          const element = document.querySelector('#df-e2dcf97a-abe5-462f-a3ef-dbfa7d7ad970');\n",
              "          const dataTable =\n",
              "            await google.colab.kernel.invokeFunction('convertToInteractive',\n",
              "                                                     [key], {});\n",
              "          if (!dataTable) return;\n",
              "\n",
              "          const docLinkHtml = 'Like what you see? Visit the ' +\n",
              "            '<a target=\"_blank\" href=https://colab.research.google.com/notebooks/data_table.ipynb>data table notebook</a>'\n",
              "            + ' to learn more about interactive tables.';\n",
              "          element.innerHTML = '';\n",
              "          dataTable['output_type'] = 'display_data';\n",
              "          await google.colab.output.renderOutput(dataTable, element);\n",
              "          const docLink = document.createElement('div');\n",
              "          docLink.innerHTML = docLinkHtml;\n",
              "          element.appendChild(docLink);\n",
              "        }\n",
              "      </script>\n",
              "    </div>\n",
              "  </div>\n",
              "  "
            ],
            "text/plain": [
              "           영화명           감독                             제작사  \\\n",
              "순번                                                            \n",
              "1           명량          김한민                       (주)빅스톤픽쳐스   \n",
              "2         극한직업          이병헌  (주)어바웃잇,영화사 해그림 주식회사,(주)씨제이이엔엠   \n",
              "3    신과함께-죄와 벌          김용화          리얼라이즈픽쳐스(주),(주)덱스터스튜디오   \n",
              "4         국제시장          윤제균             (주)제이케이필름,(주)씨제이이엔엠   \n",
              "5   어벤져스: 엔드게임  안소니 루소,조 루소                             NaN   \n",
              "\n",
              "                   수입사                 배급사         개봉일  영화유형 영화형태  국적 전국스크린수  \\\n",
              "순번                                                                             \n",
              "1                  NaN           (주)씨제이이엔엠  2014-07-30  개봉영화   장편  한국  1,587   \n",
              "2                  NaN           (주)씨제이이엔엠  2019-01-23  개봉영화   장편  한국  1,978   \n",
              "3                  NaN       롯데쇼핑㈜롯데엔터테인먼트  2017-12-20  개봉영화   장편  한국  1,912   \n",
              "4                  NaN           (주)씨제이이엔엠  2014-12-17  개봉영화   장편  한국    966   \n",
              "5   월트디즈니컴퍼니코리아 유한책임회사  월트디즈니컴퍼니코리아 유한책임회사  2019-04-24  개봉영화   장편  미국  2,835   \n",
              "\n",
              "             전국 매출액      전국 관객수   장르        등급  영화구분  \n",
              "순번                                                    \n",
              "1   135,748,398,910  17,613,682   사극  15세이상관람가  일반영화  \n",
              "2   139,647,979,516  16,264,944  코미디  15세이상관람가  일반영화  \n",
              "3   115,698,654,137  14,410,754  판타지  12세이상관람가  일반영화  \n",
              "4   110,828,014,630  14,245,998  드라마  12세이상관람가  일반영화  \n",
              "5   122,182,694,160  13,934,592   액션  12세이상관람가  일반영화  "
            ]
          },
          "execution_count": 3,
          "metadata": {},
          "output_type": "execute_result"
        }
      ],
      "source": [
        "df.head()"
      ]
    },
    {
      "cell_type": "code",
      "execution_count": null,
      "metadata": {
        "colab": {
          "base_uri": "https://localhost:8080/"
        },
        "id": "4vbYuhNOeBIc",
        "outputId": "6fb20b35-f0bf-48d7-9dc5-7393bdacdee8"
      },
      "outputs": [
        {
          "name": "stdout",
          "output_type": "stream",
          "text": [
            "<class 'pandas.core.frame.DataFrame'>\n",
            "Int64Index: 19543 entries, 1 to 19543\n",
            "Data columns (total 15 columns):\n",
            " #   Column  Non-Null Count  Dtype \n",
            "---  ------  --------------  ----- \n",
            " 0   영화명     19543 non-null  object\n",
            " 1   감독      18261 non-null  object\n",
            " 2   제작사     7168 non-null   object\n",
            " 3   수입사     11565 non-null  object\n",
            " 4   배급사     19499 non-null  object\n",
            " 5   개봉일     19542 non-null  object\n",
            " 6   영화유형    19543 non-null  object\n",
            " 7   영화형태    19542 non-null  object\n",
            " 8   국적      19543 non-null  object\n",
            " 9   전국스크린수  19543 non-null  object\n",
            " 10  전국 매출액  19522 non-null  object\n",
            " 11  전국 관객수  19543 non-null  object\n",
            " 12  장르      19472 non-null  object\n",
            " 13  등급      19538 non-null  object\n",
            " 14  영화구분    19543 non-null  object\n",
            "dtypes: object(15)\n",
            "memory usage: 2.4+ MB\n"
          ]
        }
      ],
      "source": [
        "df.info()"
      ]
    },
    {
      "cell_type": "code",
      "execution_count": null,
      "metadata": {
        "colab": {
          "base_uri": "https://localhost:8080/"
        },
        "id": "-riRvFvveDQ7",
        "outputId": "02c3d6a0-3b76-4de0-e941-ec3db0a0a7d9"
      },
      "outputs": [
        {
          "data": {
            "text/plain": [
              "영화명           0\n",
              "감독         1282\n",
              "제작사       12375\n",
              "수입사        7978\n",
              "배급사          44\n",
              "개봉일           1\n",
              "영화유형          0\n",
              "영화형태          1\n",
              "국적            0\n",
              "전국스크린수        0\n",
              "전국 매출액       21\n",
              "전국 관객수        0\n",
              "장르           71\n",
              "등급            5\n",
              "영화구분          0\n",
              "dtype: int64"
            ]
          },
          "execution_count": 5,
          "metadata": {},
          "output_type": "execute_result"
        }
      ],
      "source": [
        "df.isnull().sum()"
      ]
    },
    {
      "cell_type": "code",
      "execution_count": null,
      "metadata": {
        "id": "uqWWoB9TfhUT"
      },
      "outputs": [],
      "source": [
        "df = df.drop(['제작사', '수입사'], axis=1)\n",
        "df['감독'].fillna('기타', inplace=True)\n",
        "df['장르'].fillna('기타', inplace=True)\n",
        "df['배급사'].fillna('기타', inplace=True)\n",
        "df['영화형태'].fillna('기타', inplace=True)"
      ]
    },
    {
      "cell_type": "code",
      "execution_count": null,
      "metadata": {
        "colab": {
          "base_uri": "https://localhost:8080/"
        },
        "id": "ixNxbzapfxDN",
        "outputId": "a9c36868-bb97-4cb4-90ee-a1b98b659bbd"
      },
      "outputs": [
        {
          "data": {
            "text/plain": [
              "순번\n",
              "867     NaN\n",
              "988     NaN\n",
              "1013    NaN\n",
              "8732    NaN\n",
              "9033    NaN\n",
              "Name: 등급, dtype: object"
            ]
          },
          "execution_count": 7,
          "metadata": {},
          "output_type": "execute_result"
        }
      ],
      "source": [
        "df['등급'][df['등급'].isnull()]"
      ]
    },
    {
      "cell_type": "code",
      "execution_count": null,
      "metadata": {
        "colab": {
          "base_uri": "https://localhost:8080/"
        },
        "id": "3UsA4tUSgG7k",
        "outputId": "512052b7-b30b-4e35-b138-545654a17e45"
      },
      "outputs": [
        {
          "data": {
            "text/plain": [
              "영화명        0\n",
              "감독         0\n",
              "배급사        0\n",
              "개봉일        1\n",
              "영화유형       0\n",
              "영화형태       0\n",
              "국적         0\n",
              "전국스크린수     0\n",
              "전국 매출액    21\n",
              "전국 관객수     0\n",
              "장르         0\n",
              "등급         5\n",
              "영화구분       0\n",
              "dtype: int64"
            ]
          },
          "execution_count": 8,
          "metadata": {},
          "output_type": "execute_result"
        }
      ],
      "source": [
        "df.isnull().sum()"
      ]
    },
    {
      "cell_type": "code",
      "execution_count": null,
      "metadata": {
        "colab": {
          "base_uri": "https://localhost:8080/"
        },
        "id": "rjhka0SZgb04",
        "outputId": "2a661f08-a9ab-4c1e-8b2f-71dc27f6b550"
      },
      "outputs": [
        {
          "data": {
            "text/plain": [
              "순번\n",
              "8732    NaN\n",
              "Name: 개봉일, dtype: object"
            ]
          },
          "execution_count": 9,
          "metadata": {},
          "output_type": "execute_result"
        }
      ],
      "source": [
        "df['개봉일'][df['개봉일'].isnull()]"
      ]
    },
    {
      "cell_type": "code",
      "execution_count": null,
      "metadata": {
        "id": "LjI4exL4goBm"
      },
      "outputs": [],
      "source": [
        "for i in df['개봉일'][df['개봉일'].isnull()].index:\n",
        "    df = df.drop(i)\n",
        "for i in df['전국 매출액'][df['전국 매출액'].isnull()].index:\n",
        "    df = df.drop(i)\n",
        "for i in df['등급'][df['등급'].isnull()].index:\n",
        "    df = df.drop(i)\n",
        "# df2 = df2.drop(df2.loc[df2['등급'].isnull()].index)"
      ]
    },
    {
      "cell_type": "code",
      "execution_count": null,
      "metadata": {
        "colab": {
          "base_uri": "https://localhost:8080/"
        },
        "id": "scnmgn1fg4I5",
        "outputId": "45912ae8-a72c-49e3-cbd1-9f7d1c0308e6"
      },
      "outputs": [
        {
          "data": {
            "text/plain": [
              "영화명       0\n",
              "감독        0\n",
              "배급사       0\n",
              "개봉일       0\n",
              "영화유형      0\n",
              "영화형태      0\n",
              "국적        0\n",
              "전국스크린수    0\n",
              "전국 매출액    0\n",
              "전국 관객수    0\n",
              "장르        0\n",
              "등급        0\n",
              "영화구분      0\n",
              "dtype: int64"
            ]
          },
          "execution_count": 11,
          "metadata": {},
          "output_type": "execute_result"
        }
      ],
      "source": [
        "df.isnull().sum()"
      ]
    },
    {
      "cell_type": "code",
      "execution_count": null,
      "metadata": {
        "id": "p0X6XfROhqpR"
      },
      "outputs": [],
      "source": [
        "# 영화 데이터 범주형 확인"
      ]
    },
    {
      "cell_type": "code",
      "execution_count": null,
      "metadata": {
        "colab": {
          "base_uri": "https://localhost:8080/"
        },
        "id": "lWDdoX7bhAaH",
        "outputId": "7e04e8e8-7ebb-4e6b-b905-88d77ce85108"
      },
      "outputs": [
        {
          "name": "stdout",
          "output_type": "stream",
          "text": [
            "컬럼 [영화명] UNIQUE : 19161\n",
            "컬럼 [감독] UNIQUE : 7791\n",
            "컬럼 [배급사] UNIQUE : 1327\n",
            "컬럼 [영화유형] UNIQUE : 1\n",
            "컬럼 [영화형태] UNIQUE : 4\n",
            "컬럼 [국적] UNIQUE : 72\n",
            "컬럼 [장르] UNIQUE : 21\n",
            "컬럼 [등급] UNIQUE : 17\n",
            "컬럼 [영화구분] UNIQUE : 2\n"
          ]
        }
      ],
      "source": [
        "category_cols = ['영화명','감독', '배급사', '영화유형','영화형태','국적','장르','등급','영화구분',]\n",
        "for col in category_cols:\n",
        "      print('컬럼 [{}] UNIQUE : {}'.format(col, len(df[col].unique())))"
      ]
    },
    {
      "cell_type": "code",
      "execution_count": null,
      "metadata": {
        "colab": {
          "base_uri": "https://localhost:8080/"
        },
        "id": "NtbMaHf3hxO5",
        "outputId": "58781a0e-a595-4230-de94-6accdfbbb935"
      },
      "outputs": [
        {
          "data": {
            "text/plain": [
              "array(['김한민', '이병헌', '김용화', ..., '오카다 히로', '허재형', '레 탄 선'], dtype=object)"
            ]
          },
          "execution_count": 14,
          "metadata": {},
          "output_type": "execute_result"
        }
      ],
      "source": [
        "df['감독'].unique()"
      ]
    },
    {
      "cell_type": "code",
      "execution_count": null,
      "metadata": {
        "id": "rdOpU6xaholC"
      },
      "outputs": [],
      "source": [
        "# 다수의 감독 데이터 변경\n",
        "# 다수의 감독이 있는 경우 콤마(,)로 구분되어 있다.\n",
        "for idx, row in df.iterrows():\n",
        "    if ',' in row['감독']:\n",
        "        directors = row['감독'].split(',')\n",
        "        # 양 끝 공백 제거 후 정렬\n",
        "        directors.sort(key=lambda x : x.strip())\n",
        "        df['감독'][idx] = directors[0].strip()"
      ]
    },
    {
      "cell_type": "code",
      "execution_count": null,
      "metadata": {
        "colab": {
          "base_uri": "https://localhost:8080/"
        },
        "id": "rN5U-kjpiC1k",
        "outputId": "efaccb39-c079-4d3a-a751-a132fc33f820"
      },
      "outputs": [
        {
          "data": {
            "text/plain": [
              "(7520,\n",
              " array(['김한민', '이병헌', '김용화', ..., '오카다 히로', '허재형', '레 탄 선'], dtype=object))"
            ]
          },
          "execution_count": 16,
          "metadata": {},
          "output_type": "execute_result"
        }
      ],
      "source": [
        "len(df['감독'].unique()), df['감독'].unique()"
      ]
    },
    {
      "cell_type": "code",
      "execution_count": null,
      "metadata": {
        "colab": {
          "base_uri": "https://localhost:8080/"
        },
        "id": "3qFmOEPYid0G",
        "outputId": "ca6a3eb4-c278-4255-9135-4062411d281f"
      },
      "outputs": [
        {
          "data": {
            "text/plain": [
              "array(['(주)씨제이이엔엠', '롯데쇼핑㈜롯데엔터테인먼트', '월트디즈니컴퍼니코리아 유한책임회사', ..., '하드릴',\n",
              "       '주식회사 게티스버그컴퍼니', '쇼이스트(주),(주)씨제이이엔엠'], dtype=object)"
            ]
          },
          "execution_count": 17,
          "metadata": {},
          "output_type": "execute_result"
        }
      ],
      "source": [
        "# 2.배급사\n",
        "df['배급사'].unique()"
      ]
    },
    {
      "cell_type": "code",
      "execution_count": null,
      "metadata": {
        "colab": {
          "base_uri": "https://localhost:8080/"
        },
        "id": "n0SFwABrjm6a",
        "outputId": "60e2c2a9-26b7-4ffd-a974-21689098b087"
      },
      "outputs": [
        {
          "data": {
            "text/plain": [
              "array(['(주)씨제이이엔엠', '롯데쇼핑㈜롯데엔터테인먼트', '월트디즈니컴퍼니코리아 유한책임회사', ..., '하드릴',\n",
              "       '주식회사 게티스버그컴퍼니', '쇼이스트(주),(주)씨제이이엔엠'], dtype=object)"
            ]
          },
          "execution_count": 18,
          "metadata": {},
          "output_type": "execute_result"
        }
      ],
      "source": [
        "# 생략없이 보고 싶으면\n",
        "# row 생략 없이 출력\n",
        "pd.set_option('display.max_rows', None)\n",
        "# col 생략 없이 출력\n",
        "pd.set_option('display.max_columns', None)\n",
        "df['배급사'].unique()"
      ]
    },
    {
      "cell_type": "code",
      "execution_count": null,
      "metadata": {
        "id": "dq-GOowgim_7"
      },
      "outputs": [],
      "source": [
        "# 다수 배급사 정리\n",
        "for idx, row in df.iterrows():\n",
        "  if ',' in row['배급사']:\n",
        "      distributor = row['배급사'].split(',')\n",
        "      # 양 끝 공백 제거 후 변경\n",
        "      df['배급사'][idx] = distributor[0].strip()"
      ]
    },
    {
      "cell_type": "code",
      "execution_count": null,
      "metadata": {
        "colab": {
          "base_uri": "https://localhost:8080/"
        },
        "id": "9iUFTyi_iy9U",
        "outputId": "e79453a4-91ac-44e9-b7a4-d41838a7b18e"
      },
      "outputs": [
        {
          "data": {
            "text/plain": [
              "(814,\n",
              " array(['(주)씨제이이엔엠', '롯데쇼핑㈜롯데엔터테인먼트', '월트디즈니컴퍼니코리아 유한책임회사', '주식회사 해리슨앤컴퍼니',\n",
              "        '(주)쇼박스', '(주)넥스트엔터테인먼트월드(NEW)', '주식회사 에이비오엔터테인먼트', '(주)시네마서비스',\n",
              "        '롯데컬처웍스(주)롯데엔터테인먼트', '(주)다자인소프트', 'CJ ENM',\n",
              "        '소니픽쳐스릴리징월트디즈니스튜디오스코리아(주)', '워너브러더스 코리아(주)',\n",
              "        '소니픽쳐스엔터테인먼트코리아주식회사극장배급지점', '이십세기폭스코리아(주)', '플러스엠 엔터테인먼트',\n",
              "        '(주)디스테이션', '유니버설픽쳐스인터내셔널 코리아(유)', 'UIP코리아', '한국소니픽쳐스릴리징브에나비스타영화㈜',\n",
              "        '월트디즈니컴퍼니코리아(주)', 'CGV아트하우스', '브에나비스타인터내셔널코리아', '(주)싸이더스',\n",
              "        '판씨네마(주)', '(주)와우픽쳐스', '이십세기폭스필름코퍼레이션', '(주)에이스메이커무비웍스',\n",
              "        '소니픽쳐스릴리징코리아', '(주)스튜디오디에이치엘', '코리아픽쳐스(주)', '(주)프라임엔터테인먼트',\n",
              "        '아이러브시네마', '(주)이수C&E', '(주)인벤트스톤', '㈜인디스토리', '필라멘트픽쳐스',\n",
              "        '(주)엠케이픽처스', '오퍼스픽쳐스(유)', '㈜스튜디오이쩜영', '영화사청어람(주)', '쇼이스트(주)',\n",
              "        '워터홀컴퍼니(주)', '에스케이플래닛(주)', '씨네그루(주)다우기술', '(주)팝엔터테인먼트', '(주)홈초이스',\n",
              "        '(주)튜브엔터테인먼트', '(주)시너지하우스 (시너지)', '(주)메리크리스마스', '(주)제이앤씨미디어그룹',\n",
              "        '(주)일레븐엔터테인먼트', '(주)퍼스트런', '씨너스엔터테인먼트(주)', '에스케이텔레콤(주)',\n",
              "        '(주)스튜디오이쩜영', '(주)영화사 그램', '(유)씨에이치엔터테인먼트', '기타', '(주)키다리이엔티',\n",
              "        '(주)영화특별시에스엠씨', '(주)스튜디오210', '유니코리아문예투자(주)', '(주)바이포엠스튜디오',\n",
              "        '(주)누리픽쳐스', '(주)에스비에스콘텐츠허브', '글뫼 주식회사', '(주)벤티지홀딩스', '(주)스마일이엔티',\n",
              "        '(주)마인드마크', '이언픽쳐스', '(주)화앤담이엔티', '(주)올스타엔터테인먼트', '(주)노바미디어',\n",
              "        '프라임픽쳐스', '(주)리틀빅픽쳐스', '(주)엔케이컨텐츠', '(주)피터팬픽쳐스', '(주)영화사오원',\n",
              "        '(주)대교 미디어콘텐츠사업본부', '에이원엔터테인먼트', '(주)미디어데이', '유나이티드픽처스(주)',\n",
              "        '주식회사 우리네트웍스', '(주)나이너스엔터테인먼트', '(주)엣나인필름', '㈜케이디미디어',\n",
              "        'TCO(주)더콘텐츠온', '씨제이 씨지브이(CJ CGV)(주)', '영화사올(주)', '(주)콘텐츠지오',\n",
              "        '(주)성원아이컴', '스튜디오플러스(주)', '(주)엠엔에프씨', '(주)미로비젼', '주식회사 마운틴픽쳐스',\n",
              "        '(주)마인스 엔터테인먼트', '(주)동아수출공사', '오드', '(유)영화사 화수분', '(주)스폰지이엔티',\n",
              "        '(주)아펙스 엔터테인먼트', '주식회사 더쿱', '실버스푼', '롯데쇼핑㈜롯데시네마', 'CGV ICECON',\n",
              "        '(주)아이필름코퍼레이션', '(주)프레인글로벌', '(주)삼백상회', '대원미디어(주)',\n",
              "        '(주)스튜디오 산타클로스엔터테인먼트', '(주)박수엔터테인먼트', '타임스토리그룹(주)', '팝엔터테인먼트',\n",
              "        '(주)팝파트너스', '(재)CBS', '예지림엔터테인먼트', '(주)엠플러스픽쳐스', '(주)영화사한결',\n",
              "        '(주)영화사 빅', '㈜코리아스크린', '(주)그노스', '(주)이놀미디어', '(주)까멜리아이엔티', '스폰지',\n",
              "        '(주)모멘텀엔터테인먼트', '(주)키위미디어그룹', '㈜메가박스', '미디어라인코리아', '메가박스중앙(주)',\n",
              "        '(주)티캐스트', '(주)셀트리온엔터테인먼트', '투니버스(주)온미디어', '(주)대명문화공장', '(주)화천공사',\n",
              "        '(주)케이알씨지', '(주)에이앤비픽쳐스', '그린나래미디어(주)', '(주)영화사 진진',\n",
              "        '미디어필름인터내셔날(주)', 'THE 픽쳐스', '(주)드림팩트엔터테인먼트', '찬란', '와이드 릴리즈(주)',\n",
              "        '(주)아이코닉스', '(합)알지애니메이션스튜디오', '(주)콘텐츠판다', '(주)미디어캐슬',\n",
              "        '에이아이씨코리아(AIC KOREA)', '커넥트픽쳐스(주)', '(주)티캐스트콘텐츠허브', '(주)씨네필운',\n",
              "        'KT&G 상상마당 영화사업팀 컴퍼니에스에스(주)', '대원씨앤에이홀딩스', '동우에이앤이(주)',\n",
              "        '(주)삼지애니메이션', '윤스', '(주)영화사 안다미로', '(주)지어소프트', '(주)에이원엔터테인먼트',\n",
              "        '블루미지', '(주)트리플픽쳐스', '씨제이포디플렉스 주식회사', '주식회사 왓챠', '(주)무빙픽쳐스컴퍼니',\n",
              "        '(주)케이티알파', '(주)영화사구안', '파이오니아21', '(주)더블앤조이픽쳐스', '(주)크리픽쳐스',\n",
              "        '무비즈엔터테인먼트㈜', '(주)애니플러스', '(주)라이크콘텐츠', '(주)씨지브이신도림', '(주)새인컴퍼니',\n",
              "        '(유)조이앤시네마', '(주)포켓몬코리아', '(주)태원엔터테인먼트', '(주)시네마달', '(주)와이즈베이',\n",
              "        '아이비젼엔터테인먼트(주)', '(주)영화제작전원사', '(주)엔터모드', '(주)스톰픽쳐스코리아',\n",
              "        '(주)브리즈픽처스', '㈜T-JOY', '(주)아이에이치큐', '힘컨텐츠(주)', '아우라엔터테인먼트',\n",
              "        '(주)얼리버드픽쳐스', '데이지엔터테인먼트', '㈜영화사 백두대간', '(주)소스원프로덕션', '주식회사 온 피크',\n",
              "        '㈜씨에이엔', '(주)메인타이틀픽쳐스', '토이 엔터테인먼트', '신한영화(주)', '주식회사 디에스이이디',\n",
              "        '프리비젼엔터테인먼트', '(주)엠제이픽쳐스', '(주)아이엠비씨', '(주)마노엔터테인먼트', '(주)필름더데이즈',\n",
              "        '소서러스어프렌티스(주)', '(주)인디플러그', '(주)유레카픽쳐스', '(주)스튜디오 보난자',\n",
              "        '트윈플러스파트너스(주)', '(주)코카반', '어뮤즈', '골든타이드픽처스(주)', '(주)이모션픽처스',\n",
              "        '(주)두타연', '이미지팩토리', '(주)서태지컴퍼니', '(주)에스와이코마드', '이달투', '(주)에스피엠',\n",
              "        '(주)디오시네마', '브릿지웍스 엔터테인먼트(주)', '(유)마스엔터테인먼트코리아', '주식회사 컨텐츠썬',\n",
              "        '(주)머스트씨무비릴리징컴퍼니', '(주)씨네포트', '(주)베어엔터테인먼트', '(주)빅웨이브시네마',\n",
              "        '플레이리스트(주)', '메가픽쳐스제이씨(주)', '해피송', '아이 엠', '제인앤유', '필름뱅크(주)',\n",
              "        '(주)팬엔터테인먼트', '(주)드림웨스트픽쳐스', '(주)에픽캔', '필름메신저', '(주)씨네진',\n",
              "        '(주)버킷스튜디오', 'M&M 인터내셔널', '(주)좋은 하늘', '(주)파인스토리', 'KBS 미디어', '오키넷',\n",
              "        '주식회사 씨네룩스', '영화사 마농(주)', '(주)블룸즈베리파트너스', '<나쁜 나라> 배급위원회',\n",
              "        '제이에스필름', '(주)동숭아트센터', '스튜디오느림보', '(주)화인픽쳐스', '(주)빅버젯',\n",
              "        '(주)아우라픽처스', '(주)영화사조아', '(주) 포커스픽쳐', '라인트리엔터테인먼트',\n",
              "        '스튜디오 프로그레시브 인큐베이터', '(주)미디어로그', '주식회사 풍경소리', '콜럼비아트라이스타㈜',\n",
              "        '시네마 뉴원', '주식회사 단유필름', '(주)명필름', '씨네파크', '(주)영화사 조제', '하준사',\n",
              "        '㈜세종커뮤니케이션스', '주식회사 엔픽플', '(주)머스트씨무비', '(주)메타플레이', '영화사 풀',\n",
              "        '미디어소프트', '주식회사 슈아픽처스', '알토미디어(주)', '(주)씨에이씨엔터테인먼트', '더핑크퐁컴퍼니(주)',\n",
              "        '(주)다날엔터테인먼트', '(주)앤드플러스미디어웍스', '(주)소나무픽쳐스', '(주)중헌홀딩스',\n",
              "        '(주)블룸즈베리리소시스리미티드', '(주)알앤오엔터테인먼트', '(주)디지컴코리아엠앤엠', '주식회사 블루필름웍스',\n",
              "        '크로스픽쳐스(주)', '애니박스 엔터테인먼트', '(주)더 피플', '(주)띵크', '(주)뮤제엔터테인먼트',\n",
              "        '뉴원시네마', '씨네21아이(주)', '위드시네마', '스크린조이', '(주)와이지엔터테인먼트',\n",
              "        '(주)문필름코리아', '(주)비싸이드 픽쳐스', '(주)김기덕 필름', '(주)한마음프로덕션', '(주)영화사샘',\n",
              "        '(주)아미가스필름', '(주)키노아이디엠씨', '폴인씨네마', '(유)조이앤컨텐츠그룹', 'KT&G 시네마 상상마당',\n",
              "        '(재)서울예술단', '(주)필마픽쳐스', '에이펙스엔터테인먼트', '(주)오시네마', '시네마달',\n",
              "        '한국예술영화관협회', '주식회사 쇼미미디어앤트레이딩', '(주)미로스페이스', '㈜무비다이브', '(주)지티지그룹',\n",
              "        '(주)바른손이앤에이', '필름다빈', '(주)디지탈케이아이엔', '(주)하이하버픽쳐스', '(주)패뷸러스',\n",
              "        '(주)레드박스엔터테인먼트', '에스디시코리아 주식회사', '케이비에스미디어(주)', '(주)즐거운 시네마',\n",
              "        '(주)영화사선', '서울엠피필름(주)', '퍼즐엔터테인먼트', '(주) 인스터 글로벌', '소나무미디어',\n",
              "        '(주)스크린와이즈', '쿠즈엔터테인먼트', '(주)수키픽쳐스', '노바엔터테인먼트', '(주)판다미디어',\n",
              "        '(주)드림컴스', '(주)미루픽처스', '(주)더쿱디스트리뷰션', '익스트림 필름', '(주)블루라벨픽쳐스',\n",
              "        '(재)전주국제영화제조직위원회', '영화사 민들레', '(주)로이비쥬얼', '(주)컴퍼니엘', '시네마밸리',\n",
              "        '(주)에이썸엔터테인먼트', '(주)영화랑', '(주)영화사폴', '(주)률필름', '(주)유비네트워크',\n",
              "        '(주)스크린다', '청년필름(주)', '얼리버드', '(주)레몬트리픽쳐스', '딥 포커스', '세븐바이투픽쳐스',\n",
              "        '무브먼트', '삼라 주식회사', '(주)부귀영화', '(주)아이디어랩', '(주) 루스이소니도스',\n",
              "        '(주)월드시네마', '㈜씨네콰논코리아', '인터비스앤파트너스(주)', '주식회사 드림크리에이션',\n",
              "        '아이제이미디어(주)', '(주)도키엔터테인먼트', '(주)유로커뮤니케이션', '애니메이션 배급',\n",
              "        '아트플러스시네마네트워크', '엔넷커뮤니케이션(주)', 'C 무비', '에이케이엔터테인먼트(주)', '(주)솔강',\n",
              "        '(주)백그림', '(주)위즈온센', '목영이엔엠', '(주)로드하우스', '(주)에이블엔터테인먼트',\n",
              "        '(주)레인메이커필름', '(주)케빈앤컴퍼니', '(주)마블엔터테인먼트', '미디어 컨텐츠 스토어', '씨드',\n",
              "        '영화배급협동조합 씨네소파', '미라클필름', '(주)올댓시네마 플러스', '영화사 마그나', '주식회사 케이엠스타',\n",
              "        '(주)26컴퍼니', '(주)라온컴퍼니플러스', '주식회사 원더스튜디오', '상남영화제작소', '주식회사 루믹스미디어',\n",
              "        '홀리가든', '52DAYS FILM', '(주)도어이앤엠', '(주)쓰리캣프로덕션', '(주)하이스트레인저',\n",
              "        '(주)오렌지옐로우하임', '다솔기획', '데이브인터랙티브', '위드 라이언 픽쳐스', '(주)스토리제이',\n",
              "        '(사)한국독립영화협회', '(주)쇼타임', '(주)영화사메이플러스', '(주)따미픽쳐스', '(주)무비넷',\n",
              "        '서울독립영화제', '언더식스티', '퓨어웨이픽쳐스', '(주)트리필름', '(주)민치앤필름', '호우주의보',\n",
              "        '(주)콘텐츠패밀리', '(주)노바이앤티', '(주)태양미디어그룹', '(사)필레마', '즐감', '(주)씨네마드마농',\n",
              "        '주식회사 세미콜론스튜디오', '(주)비프로', '쉼표', '(주)레인보우팩토리', '코리아 코어 컨텐츠',\n",
              "        '영화사 무명', '(주)갑종무비필름', '투썸업픽쳐스', '강 컨텐츠', '대성필름', '롤러코스터',\n",
              "        '필름에이픽쳐스', '파인스토리', '(주)액티버스엔터테인먼트', '영화사 삼순', '문화선교연구원',\n",
              "        '(주)맑은시네마', '(주)디앤아이컴퍼니', '스토리 너머', '(주)글린트', '다큐스토리', '(주)스넵쏘울',\n",
              "        '씨네마오병이어(주)', '서울애니메이션센터', '(주)시네마엔터', '영화진흥위원회', '(주)랠리버튼',\n",
              "        '(주)미디어이야기', '고구마콘텐츠허브(주)', '(주)베드픽쳐스', '영희야 놀자', '㈜크래커픽쳐스',\n",
              "        '미소필름', '(주)엠레콘', '(주)토러스엔터테인먼트', '대원디지털엔터테인먼트', '씨네굿', '(주)문와쳐',\n",
              "        '주식회사 골든럭', '라온아이(주)', '팔레드시네마(주)', '어썸피플', '씨네가', '(주)스튜디오그레인풀',\n",
              "        '주식회사 홍컴퍼니', '(주)로카', 'CNS엔터테인먼트', 'ZONE Film', '레드무비',\n",
              "        '(주)자우엔터테인먼트', '(주)마그나', '마루아트센터(주)', '독포레스트', '밀크픽처스',\n",
              "        'CL2D Film', '명필름랩', '반달', '주식회사 노버스엔터테인먼트', '아방가르드 필름', '스마일픽쳐스',\n",
              "        '퍼즐컷', '시네마서울', '엠투', '(주)콘텐츠윙', '(주)좋은친구들', '(주)모쿠슈라',\n",
              "        '콜럼비아트라이스타', '곡사', '제이리미디어', '주식회사 키노엔터테인먼트', '(재)영화의전당',\n",
              "        '(주)제이브로', '미디어 소소', '매치컷(주)', '모두를위한극장 공정영화협동조합', '농부영화사',\n",
              "        '이모션픽처스', '주식회사 씨엠닉스', '(주)나우콘텐츠', '페퍼민트픽쳐스', '(주)차룡영화사',\n",
              "        '(주)티앤엘엔터테인먼트', '전국예술영화관협회', '씨네쿼넌 픽쳐스', '(주)코랄픽쳐스', '(주)원더스컴퍼니',\n",
              "        '우성엔터테인먼트', '(주)에이씨피컴퍼니', '야간비행', '(주)유어스토리블루', '길스토리', '㈜스토리셋',\n",
              "        '오리영화사', '(주)기억속의매미', '(사)그라시아스합창단', '(주)스튜디오후크', '포커스 온',\n",
              "        '㈜팜코리아미디어', '(주)다음미디어', '㈜싸이더스픽쳐스', '일미디어', '크리에이티브컴즈(주)',\n",
              "        '제나두엔터테인먼트', '플랫폼C', '프로젝트 엔터테인먼트', '태창엔터테인먼트(주)', '델로스',\n",
              "        '(주)투한미디어', '(주)더그레이트컴퍼니', '쟈비스미디어', '성길시네마', '영화사 보라', '디에이치 컴퍼니',\n",
              "        '(주)제이에이와이이엔터테인먼트', '갱경 엔터테인먼트', '에이라인', '(주)영화사히트', '마법사필름',\n",
              "        '(주)갤럭시컴퍼니', '(주)컨택트미디어', '(주)인피니티엔터테인먼트', '(주)두엔터테인먼트',\n",
              "        '(주)로이테미디어', '(주)웃기씨네', '(주)우성엔터테인먼트', '그리고필름앤드라마', '더사람픽쳐스',\n",
              "        '달밤체조(주)', '(주)프리머스시네마', '(주)투윈미디어', '주식회사 비엠미디어', '디마엔터테인먼트',\n",
              "        '(주)마고필름', '이닥픽쳐스', '(사)독립영화전용관 확대를 위한 시민모임', '(주)KW비젼',\n",
              "        '(주)노리픽쳐스', '영화사 인연', '(주)케이앤엔터테인먼트', '명보 아트시네마', '예술의전당',\n",
              "        '조이월드앤다이버시티', '(주)화인웍스', '원픽쳐스', '레인메이커필름', '(주)아바엔터테인먼트',\n",
              "        '벨진인터내셔널', '웃기씨네', '(주)더비에스엔터테인먼트', '(주)알앤알프로덕션', '(주)선익필름',\n",
              "        '(주)은석필림', '영화사 정원', '(주)블루브릭', '(주)에이치엠엔', '(주)영화사 사계절',\n",
              "        '브에나비스타인터내셔널', '(주)씨네마블랙', '(주)타임앤드스페이스', '이상우필름', '(유)쏘아필름',\n",
              "        '봄바람영화사', '씨네마캣 픽쳐스', '(주)H.F.G엔터테인먼트', '크리스리픽쳐스인터내셔널(주)',\n",
              "        '미디어브로스(주)', '무비센트', '(주)영진크리에이티브', '노가리필름', '(주)씨네로닷컴', '뎁스프로덕션',\n",
              "        '드림로드', '펜타브리드', '스토리웨이브픽쳐스', '주식회사 콘텐츠플레이', '(주)영화사 조은', '이돌영화사',\n",
              "        '씨네라인월드(주)', '(주)고맙습니다 사랑합니다', '가실', '(주)한경아르떼', '(주)전망좋은 영화사',\n",
              "        '전망 PRODUCTION', '(주)마부엔터테인먼트', '(주)엠씨엠씨', '김충길 필름', '영화사 조선호랑이',\n",
              "        '(주)코코믹스', '한코리아', '(주)그린피쉬픽쳐스', '(주)컨텐츠 빌리지', '(주)파노라마엔터테인먼트',\n",
              "        '보리와 오디 영화사', '(주)로드픽쳐스', '㈜리필름', '모비딕엔터테인먼트(주)', '테디베어필름',\n",
              "        '(주)디에이치미디어', '주식회사 플릭스코', '(주)영화맞춤제작소 영화공장', '(주)인터오리진아이엔씨',\n",
              "        '(주)휘엔터테인먼트', '더 필름클래식 프로덕션', '이공희 필름', '프로젝트 엠피', '썬택엔터테인먼트 주식회사',\n",
              "        '(주)더존크리에이티브', '(주)제이디테크', '(주)그림상자', '(주)히스토리필름', '(주)투모션',\n",
              "        '(주)마이애미미디어', '(주)이모콘', '(주)푸른별 엔터테인먼트', '(주)담화', '제이프러스미디어',\n",
              "        '(주)플랜오십일', '선셋 시네마', '(주)메이크아트', '핵존슨', '판타스틱룸미디어', '(주)한사리미디어',\n",
              "        '(주)가온콘텐츠', '스마일컨텐츠', '(주)엔트리미디어', '(주)레드언더미디어', '(주)씨맥스커뮤니케이션즈',\n",
              "        '라온컴퍼니', '(주)인포투스', '(주)그라운드미디어', '거원시네마(주)', '컨버전스티비', '(주)씨네마루',\n",
              "        '한양제작소', '(주)농담', '(주)코빈커뮤니케이션즈', '오디씨네마', 'D필름', '주식회사 제이씨엔터웍스',\n",
              "        'RGB', '유한회사 영화사 반딧불', '케이엘 픽쳐스', '프리포트', '씨엔티테크(주)', '조박픽쳐스',\n",
              "        '두리컴', '케이제이픽처스', '너바나 필름', '양전프로덕션', '(주)인터하우스', '오소필름',\n",
              "        '(주)창엔터테인먼트', '(주)데이드림서울', '(주)노이에스', '(주)매니아22', '닷 팩토리',\n",
              "        '(주)영화사가을', '이오시바이', '(주)포커스엔터테인먼트', '(주)추억을 파는 극장', '(주)씨맥스이앤씨',\n",
              "        '굿픽처스', '99film', '(주)픽쳐레스크', '더컨텐츠콤(주)', '올드웨일', '주식회사 모쿠슈라픽쳐스',\n",
              "        '(주)네스팅', '(주)케이피에이기획', '콩미디어', 'YJ COMPANY', '(주)프리미어엔터테인먼트',\n",
              "        '에이원 미디어', '미래로 엔터테인먼트', '유로 프로덕션', '(주)에스와이미디어', '조이앤키노',\n",
              "        '주식회사 레드아이스', '시네마루(제1독립영화전용관)', '(주)씨네월드', \"'탁주'조합\", '제뉴어리이공 현프로',\n",
              "        '비에이치제이 시네마', '에이 라이프', '주식회사 필름초이스', '(주)CM엔터테인먼트', '(주)룬컴퍼니',\n",
              "        '(주)무브먼트 픽쳐스', '초코필름', '비케이 시네윈', '(주)알이디아이스엔터', '(주)엔비디나비블루다이아몬드',\n",
              "        '뉴마켓필름', '마그넷 엔터테인먼터', '(주)대양미디어', '영화사 유일무이', '(주)인터콘미디어',\n",
              "        '㈜플래니스 엔터테인먼트', '한국문화예술위원회', '스턴트코리아', '(주)위즈덤필름', '(주)디어프로덕션',\n",
              "        '(주)엔씨미디어', '(주)재원엔터테인먼트', '블루커뮤니케이션', '(주)콘텐츠랩자박', '월드 영화사',\n",
              "        '록엔터테인먼트(주)', '(주)시네마리퍼블릭', '라임필름', '쇼플렉스', '유니콘미디어(주)', '씨네힐',\n",
              "        '(주)엘케이픽쳐스', '(주)티에스앤컴퍼니', '페어팍스인터내셔날(주)', '주식회사 이엔터', '디자인 콘텐츠',\n",
              "        '유한회사 올빼미하우스', '하드릴컴퍼니', '아이앤지픽쳐스', '시네마루', '바심미디어', '(주)뭉게구름',\n",
              "        'C2 미디어', '나이스플레이(주)', '(주)노시스컴퍼니', '블리트필름', '레이크엔터테인먼트',\n",
              "        '(주)아이아스플러스', '비에이치제이시네마', '(주)콘텐트마인', '㈜트라이엄프픽쳐스', '세도나아이(주)',\n",
              "        'BX 픽쳐스', '아이브엔터테인먼트', '(주)샤이커뮤니케이션즈', '주식회사 바나나픽쳐스', '레인주니어 픽쳐스',\n",
              "        '(주)뮤직엔닷컴', '(주)이십일세기미디어', '와이제이스토리', '(주)플라이어', '영성프로덕션',\n",
              "        '레지스탕스 필름', '노네임 필름', '(주)마이다스컨텐츠그룹', '(주)테라맥스엔터테인먼트', '(주)루스아트',\n",
              "        '주식회사 미콘', '(주)제이엠씨미디어', '(주)영화사 숲', '웅 픽쳐스', 'SK 브로드밴드',\n",
              "        '영화사 산들바람', '시네마테크 충무로', '(주)모인그룹', '씨앤피미디어', 'P&미디어', '(주)씨앤피미디어',\n",
              "        '미카사미디어', '(주)콘텐츠게이트', '퓨쳐스', '(주)이엔엔터테인먼트', '(주)아피아스튜디오',\n",
              "        '(주)빅콘미디어', '스튜디오엘론(주)', '(주)트루에버', '뷰소프트', '(주)아이브픽쳐스',\n",
              "        '(주)조이컴퍼니', '엔트리커뮤니케이션즈', '(주)피에이치미디어', '파파나', '에스팀', '엠아이픽쳐스',\n",
              "        '비스킷미디어', '펀펀한영화사', '(주)제이엠로드', '(주)영화공간', '(주)온비즈넷', '노다지엔터테인먼트',\n",
              "        '(주)예당씨앤에스', '(주)더레드엔터테인먼트', '(주)빅마운틴컬쳐스', '영화사마농주식회사',\n",
              "        '주식회사 락희상회', 'S&S', '(유)헤이데이웍스', '(주)달빛공장', '(주)해머픽쳐스', '(주)오예스',\n",
              "        '하드릴', '주식회사 게티스버그컴퍼니'], dtype=object))"
            ]
          },
          "execution_count": 20,
          "metadata": {},
          "output_type": "execute_result"
        }
      ],
      "source": [
        "len(df['배급사'].unique()), df['배급사'].unique()"
      ]
    },
    {
      "cell_type": "code",
      "execution_count": null,
      "metadata": {
        "colab": {
          "base_uri": "https://localhost:8080/"
        },
        "id": "Nz1iaS6ti-Ff",
        "outputId": "ef4cb5d8-e7d3-4087-f2ae-3a33698b3aa8"
      },
      "outputs": [
        {
          "data": {
            "text/plain": [
              "array(['개봉영화'], dtype=object)"
            ]
          },
          "execution_count": 21,
          "metadata": {},
          "output_type": "execute_result"
        }
      ],
      "source": [
        "# 3. 영화유형\n",
        "df['영화유형'].unique()"
      ]
    },
    {
      "cell_type": "code",
      "execution_count": null,
      "metadata": {
        "id": "F1Cp0ObykUOJ"
      },
      "outputs": [],
      "source": [
        "# 1개의 유형만 가지고 있으므로 해당 컬럼은 삭제한다.\n",
        "df.drop('영화유형', axis=1, inplace=True)"
      ]
    },
    {
      "cell_type": "code",
      "execution_count": null,
      "metadata": {
        "colab": {
          "base_uri": "https://localhost:8080/"
        },
        "id": "hjpPVouBkY9x",
        "outputId": "1b7f8310-2855-4e88-8e04-f43845b56eb3"
      },
      "outputs": [
        {
          "data": {
            "text/plain": [
              "Index(['영화명', '감독', '배급사', '개봉일', '영화형태', '국적', '전국스크린수', '전국 매출액', '전국 관객수',\n",
              "       '장르', '등급', '영화구분'],\n",
              "      dtype='object')"
            ]
          },
          "execution_count": 23,
          "metadata": {},
          "output_type": "execute_result"
        }
      ],
      "source": [
        "df.columns"
      ]
    },
    {
      "cell_type": "code",
      "execution_count": null,
      "metadata": {
        "colab": {
          "base_uri": "https://localhost:8080/"
        },
        "id": "-WRzN5RTkgYd",
        "outputId": "fa72f12c-e34a-4aef-afa3-40a742972ba3"
      },
      "outputs": [
        {
          "data": {
            "text/plain": [
              "array(['장편', '옴니버스', '단편', '기타'], dtype=object)"
            ]
          },
          "execution_count": 24,
          "metadata": {},
          "output_type": "execute_result"
        }
      ],
      "source": [
        "# 4. 영화형태\n",
        "df['영화형태'].unique()"
      ]
    },
    {
      "cell_type": "code",
      "execution_count": null,
      "metadata": {
        "colab": {
          "base_uri": "https://localhost:8080/"
        },
        "id": "SqEQ2ql1kpuD",
        "outputId": "e4db4b0a-fa11-4333-f985-555678e73a66"
      },
      "outputs": [
        {
          "data": {
            "text/plain": [
              "장편      19433\n",
              "옴니버스       79\n",
              "단편          4\n",
              "기타          1\n",
              "Name: 영화형태, dtype: int64"
            ]
          },
          "execution_count": 25,
          "metadata": {},
          "output_type": "execute_result"
        }
      ],
      "source": [
        "df['영화형태'].value_counts()"
      ]
    },
    {
      "cell_type": "code",
      "execution_count": null,
      "metadata": {
        "colab": {
          "base_uri": "https://localhost:8080/",
          "height": 225
        },
        "id": "3Up9qsGlk13b",
        "outputId": "d46d5031-ee3b-4bea-9a49-05bd0cb38523"
      },
      "outputs": [
        {
          "data": {
            "image/png": "[encoded data removed]",
            "text/plain": [
              "<Figure size 360x216 with 1 Axes>"
            ]
          },
          "metadata": {
            "needs_background": "light"
          },
          "output_type": "display_data"
        }
      ],
      "source": [
        "ordered_index = df['영화형태'].value_counts().sort_values(ascending=False).index\n",
        "plt.figure(figsize=(5, 3))\n",
        "sns.countplot(data = df, y = '영화형태', order=ordered_index)\n",
        "plt.show()"
      ]
    },
    {
      "cell_type": "code",
      "execution_count": null,
      "metadata": {
        "colab": {
          "base_uri": "https://localhost:8080/"
        },
        "id": "FIqXxZVulB45",
        "outputId": "68ec39c5-dd7e-43ec-abcd-7625cd047117"
      },
      "outputs": [
        {
          "data": {
            "text/plain": [
              "(72, array(['한국', '미국', '일본', '영국', '중국', '프랑스', '벨기에', '독일', '홍콩', '인도', '호주',\n",
              "        '아이슬란드', '캐나다', '스페인', '러시아', '아일랜드', '태국', '남아프리카공화국', '대만',\n",
              "        '핀란드', '스웨덴', '멕시코', '이탈리아', '네덜란드', '덴마크', '기타', '아르헨티나', '헝가리',\n",
              "        '페루', '우크라이나', '노르웨이', '오스트리아', '폴란드', '터키', '이스라엘', '뉴질랜드', '스위스',\n",
              "        '체코', '그리스', '칠레', '말레이시아', '인도네시아', '브라질', '이란', '싱가포르', '루마니아',\n",
              "        '베트남', '포르투갈', '우루과이', '보스니아', '팔레스타인', '아프카니스탄', '콜롬비아', '에스토니아',\n",
              "        '아랍에미리트연합국정부', '몽고', '불가리아', '모로코', '부탄', '슬로바키아', '필리핀', '이라크',\n",
              "        '쿠바', '크로아티아', '베네수엘라', '잉글랜드', '카자흐스탄', '이집트', '몰타', '세르비아',\n",
              "        '마케도니아', '우즈베키스탄'], dtype=object))"
            ]
          },
          "execution_count": 27,
          "metadata": {},
          "output_type": "execute_result"
        }
      ],
      "source": [
        "# 5. 국적\n",
        "len(df['국적'].unique()), df['국적'].unique()"
      ]
    },
    {
      "cell_type": "code",
      "execution_count": null,
      "metadata": {
        "colab": {
          "base_uri": "https://localhost:8080/"
        },
        "id": "pIbXv5BNlJ_8",
        "outputId": "8a2acff0-278f-41a9-c5bc-abbc0159926e"
      },
      "outputs": [
        {
          "data": {
            "text/plain": [
              "한국     6331\n",
              "일본     5413\n",
              "미국     3888\n",
              "프랑스     644\n",
              "영국      599\n",
              "중국      456\n",
              "독일      304\n",
              "캐나다     227\n",
              "홍콩      205\n",
              "스페인     187\n",
              "Name: 국적, dtype: int64"
            ]
          },
          "execution_count": 28,
          "metadata": {},
          "output_type": "execute_result"
        }
      ],
      "source": [
        "df['국적'].value_counts().sort_values(ascending=False)[:10]"
      ]
    },
    {
      "cell_type": "code",
      "execution_count": null,
      "metadata": {
        "colab": {
          "base_uri": "https://localhost:8080/"
        },
        "id": "S-suzm3MsHq_",
        "outputId": "2d78c6ce-1cae-4f6d-b083-1f9aa0c5db61"
      },
      "outputs": [
        {
          "data": {
            "text/plain": [
              "한국             6331\n",
              "일본             5413\n",
              "미국             3888\n",
              "프랑스             644\n",
              "영국              599\n",
              "중국              456\n",
              "독일              304\n",
              "캐나다             227\n",
              "홍콩              205\n",
              "스페인             187\n",
              "러시아             152\n",
              "이탈리아            141\n",
              "호주               86\n",
              "기타               85\n",
              "대만               55\n",
              "태국               52\n",
              "덴마크              50\n",
              "인도               45\n",
              "스웨덴              41\n",
              "노르웨이             36\n",
              "멕시코              35\n",
              "헝가리              35\n",
              "네덜란드             35\n",
              "아일랜드             31\n",
              "벨기에              30\n",
              "핀란드              27\n",
              "폴란드              22\n",
              "이스라엘             21\n",
              "브라질              20\n",
              "터키               19\n",
              "아르헨티나            19\n",
              "뉴질랜드             17\n",
              "이란               17\n",
              "체코               15\n",
              "아이슬란드            14\n",
              "오스트리아            14\n",
              "말레이시아            13\n",
              "우크라이나             9\n",
              "인도네시아             9\n",
              "베트남               9\n",
              "루마니아              8\n",
              "칠레                8\n",
              "카자흐스탄             8\n",
              "싱가포르              7\n",
              "스위스               7\n",
              "그리스               7\n",
              "페루                7\n",
              "크로아티아             5\n",
              "필리핀               4\n",
              "포르투갈              4\n",
              "남아프리카공화국          4\n",
              "불가리아              3\n",
              "아랍에미리트연합국정부       3\n",
              "에스토니아             3\n",
              "콜롬비아              3\n",
              "우루과이              3\n",
              "베네수엘라             3\n",
              "슬로바키아             2\n",
              "팔레스타인             2\n",
              "모로코               2\n",
              "우즈베키스탄            2\n",
              "부탄                2\n",
              "이라크               2\n",
              "세르비아              2\n",
              "쿠바                1\n",
              "몽고                1\n",
              "아프카니스탄            1\n",
              "잉글랜드              1\n",
              "이집트               1\n",
              "몰타                1\n",
              "보스니아              1\n",
              "마케도니아             1\n",
              "Name: 국적, dtype: int64"
            ]
          },
          "execution_count": 61,
          "metadata": {},
          "output_type": "execute_result"
        }
      ],
      "source": [
        "df['국적'].value_counts().sort_values(ascending=False)"
      ]
    },
    {
      "cell_type": "code",
      "execution_count": null,
      "metadata": {
        "id": "cj29BoFvmmhR"
      },
      "outputs": [],
      "source": [
        "# 나눔 폰트 설치\n",
        "# !sudo apt-get install -y fonts-nanum\n",
        "# !sudo fc-cache -fv\n",
        "# !rm ~/.cache/matplotlib -rf"
      ]
    },
    {
      "cell_type": "code",
      "execution_count": null,
      "metadata": {
        "colab": {
          "base_uri": "https://localhost:8080/",
          "height": 211
        },
        "id": "PuueoIZNlO9k",
        "outputId": "19ccc0ea-cdbd-4887-dd12-175ac69452bb"
      },
      "outputs": [
        {
          "data": {
            "image/png": "[encoded data removed]",
            "text/plain": [
              "<Figure size 504x216 with 1 Axes>"
            ]
          },
          "metadata": {
            "needs_background": "light"
          },
          "output_type": "display_data"
        }
      ],
      "source": [
        "import matplotlib.pyplot as plt\n",
        "\n",
        "plt.rc('font', family='NanumBarunGothic') \n",
        "top10 = df['국적'].value_counts().sort_values(ascending=True)[-10:].copy()\n",
        "plt.figure(figsize=(7, 3))\n",
        "plt.barh(top10.index, top10.values)\n",
        "plt.show()"
      ]
    },
    {
      "cell_type": "code",
      "execution_count": null,
      "metadata": {
        "colab": {
          "base_uri": "https://localhost:8080/"
        },
        "id": "zJPnkjPFnPDn",
        "outputId": "300ee24e-76d5-4db3-ef61-24bc0fdb58d6"
      },
      "outputs": [
        {
          "data": {
            "text/plain": [
              "(21, array(['사극', '코미디', '판타지', '드라마', '액션', '애니메이션', 'SF', '범죄', '어드벤처', '전쟁',\n",
              "        '미스터리', '서부극(웨스턴)', '멜로/로맨스', '스릴러', '다큐멘터리', '공포(호러)', '가족',\n",
              "        '뮤지컬', '기타', '공연', '성인물(에로)'], dtype=object))"
            ]
          },
          "execution_count": 35,
          "metadata": {},
          "output_type": "execute_result"
        }
      ],
      "source": [
        "# 6. 장르\n",
        "len(df['장르'].unique()), df['장르'].unique()\n"
      ]
    },
    {
      "cell_type": "code",
      "execution_count": null,
      "metadata": {
        "colab": {
          "base_uri": "https://localhost:8080/",
          "height": 334
        },
        "id": "4BH66vOdlX_R",
        "outputId": "32c8df2b-2157-4376-d67f-099b066baa19"
      },
      "outputs": [
        {
          "data": {
            "image/png": "[encoded data removed]",
            "text/plain": [
              "<Figure size 720x360 with 1 Axes>"
            ]
          },
          "metadata": {
            "needs_background": "light"
          },
          "output_type": "display_data"
        }
      ],
      "source": [
        "ordered_index = df['장르'].value_counts().sort_values(ascending=False).index\n",
        "plt.figure(figsize=(10, 5))\n",
        "sns.countplot(data = df, y = '장르', order=ordered_index)\n",
        "plt.show()"
      ]
    },
    {
      "cell_type": "code",
      "execution_count": null,
      "metadata": {
        "colab": {
          "base_uri": "https://localhost:8080/"
        },
        "id": "gPvZMnTiot2z",
        "outputId": "23a30a2a-aaf6-4f8d-8b8b-580d2d6079c2"
      },
      "outputs": [
        {
          "data": {
            "text/plain": [
              "멜로/로맨스      4366\n",
              "드라마         3546\n",
              "성인물(에로)     3289\n",
              "액션          1850\n",
              "애니메이션       1131\n",
              "코미디         1048\n",
              "공포(호러)       850\n",
              "다큐멘터리        702\n",
              "스릴러          592\n",
              "범죄           399\n",
              "SF           327\n",
              "공연           289\n",
              "미스터리         235\n",
              "기타           207\n",
              "판타지          190\n",
              "전쟁           128\n",
              "어드벤처         128\n",
              "가족           101\n",
              "사극            64\n",
              "뮤지컬           59\n",
              "서부극(웨스턴)      16\n",
              "Name: 장르, dtype: int64"
            ]
          },
          "execution_count": 45,
          "metadata": {},
          "output_type": "execute_result"
        }
      ],
      "source": [
        "df['장르'].value_counts().sort_values(ascending=False)"
      ]
    },
    {
      "cell_type": "code",
      "execution_count": null,
      "metadata": {
        "colab": {
          "base_uri": "https://localhost:8080/"
        },
        "id": "nQZISMHsn2W7",
        "outputId": "9a6b0ec0-366e-4b48-919a-622a284f81ca"
      },
      "outputs": [
        {
          "data": {
            "text/plain": [
              "(17, array(['15세이상관람가', '12세이상관람가', '전체관람가', '12세관람가', '15세관람가', '청소년관람불가',\n",
              "        '18세관람가', '12세이상관람가,12세관람가', '15세관람가,15세이상관람가', '청소년관람불가,15세이상관람가',\n",
              "        '18세관람가,청소년관람불가', '12세이상관람가,전체관람가', '12세이상관람가,15세이상관람가',\n",
              "        '15세이상관람가,전체관람가', '연소자관람불가,청소년관람불가', '제한상영가', '15세관람가,12세이상관람가'],\n",
              "       dtype=object))"
            ]
          },
          "execution_count": 40,
          "metadata": {},
          "output_type": "execute_result"
        }
      ],
      "source": [
        "# 7. 등급\n",
        "len(df['등급'].unique()), df['등급'].unique()"
      ]
    },
    {
      "cell_type": "code",
      "execution_count": null,
      "metadata": {
        "colab": {
          "base_uri": "https://localhost:8080/"
        },
        "id": "61yE0rgDpoIz",
        "outputId": "955cbbdb-ff56-4401-9394-e8041c4bcd50"
      },
      "outputs": [
        {
          "data": {
            "text/plain": [
              "청소년관람불가    10213\n",
              "15세관람가      4508\n",
              "12세관람가      2556\n",
              "전체관람가       2058\n",
              "18세관람가       181\n",
              "제한상영가          1\n",
              "Name: 등급, dtype: int64"
            ]
          },
          "execution_count": 49,
          "metadata": {},
          "output_type": "execute_result"
        }
      ],
      "source": [
        "df['등급'].value_counts().sort_values(ascending=False)"
      ]
    },
    {
      "cell_type": "code",
      "execution_count": null,
      "metadata": {
        "id": "ce69mxU1q3Oo"
      },
      "outputs": [],
      "source": [
        "# 다수의 등급 데이터 변경\n",
        "# 전체관람가, 12세관람가, 15세관람가,  청소년관람불가\n",
        "for idx, row in df.iterrows():\n",
        "    if ',' in row['등급']:\n",
        "        ratings = row['등급'].split(',')\n",
        "        # 전체, 12, 15, 청소년관람불가 순\n",
        "        if '전체' in ratings:\n",
        "            df['등급'][idx] = '전체관람가'\n",
        "        elif '12' in ratings:\n",
        "            df['등급'][idx] = '12세관람가'\n",
        "        elif '15' in ratings:\n",
        "            df['등급'][idx] = '15세관람가'\n",
        "        else:\n",
        "            df['등급'][idx] = '청소년관람불가'\n",
        "    elif df['등급'][idx] == '18세관람가' or df['등급'][idx] == '제한상영가': \n",
        "        df['등급'][idx] = '청소년관람불가'\n",
        "    else:\n",
        "        df['등급'][idx] = df['등급'][idx].replace('이상', '')"
      ]
    },
    {
      "cell_type": "code",
      "execution_count": null,
      "metadata": {
        "colab": {
          "base_uri": "https://localhost:8080/"
        },
        "id": "J6hKNRQipTp2",
        "outputId": "f25d7318-4700-4658-ef30-c46c56f80544"
      },
      "outputs": [
        {
          "data": {
            "text/plain": [
              "(4, array(['15세관람가', '12세관람가', '전체관람가', '청소년관람불가'], dtype=object))"
            ]
          },
          "execution_count": 55,
          "metadata": {},
          "output_type": "execute_result"
        }
      ],
      "source": [
        "len(df['등급'].unique()), df['등급'].unique()"
      ]
    },
    {
      "cell_type": "code",
      "execution_count": null,
      "metadata": {
        "colab": {
          "base_uri": "https://localhost:8080/",
          "height": 225
        },
        "id": "aUCei9SUoVIB",
        "outputId": "bbb06c1b-b15f-4eba-e74a-496ba631775a"
      },
      "outputs": [
        {
          "data": {
            "image/png": "[encoded data removed]",
            "text/plain": [
              "<Figure size 360x216 with 1 Axes>"
            ]
          },
          "metadata": {
            "needs_background": "light"
          },
          "output_type": "display_data"
        }
      ],
      "source": [
        "ordered_index = df['등급'].value_counts().sort_values(ascending=False).index\n",
        "plt.figure(figsize=(5, 3))\n",
        "sns.countplot(data = df, y = '등급', order=ordered_index)\n",
        "plt.show()"
      ]
    },
    {
      "cell_type": "code",
      "execution_count": null,
      "metadata": {
        "colab": {
          "base_uri": "https://localhost:8080/"
        },
        "id": "tmaTL7xRrfTY",
        "outputId": "a128c2f4-7daf-4503-d7f2-986a0c7e5d21"
      },
      "outputs": [
        {
          "data": {
            "text/plain": [
              "(2, array(['일반영화', '독립/예술영화'], dtype=object))"
            ]
          },
          "execution_count": 57,
          "metadata": {},
          "output_type": "execute_result"
        }
      ],
      "source": [
        "# 8. 영화구분\n",
        "len(df['영화구분'].unique()), df['영화구분'].unique()"
      ]
    },
    {
      "cell_type": "code",
      "execution_count": null,
      "metadata": {
        "colab": {
          "base_uri": "https://localhost:8080/",
          "height": 334
        },
        "id": "htiq4OMOrQXN",
        "outputId": "4db8bf35-ed63-4168-d30a-aed45e7c3e37"
      },
      "outputs": [
        {
          "data": {
            "image/png": "[encoded data removed]",
            "text/plain": [
              "<Figure size 360x360 with 1 Axes>"
            ]
          },
          "metadata": {
            "needs_background": "light"
          },
          "output_type": "display_data"
        }
      ],
      "source": [
        "plt.figure(figsize=(5, 5))\n",
        "sns.countplot(data = df, x = '영화구분')\n",
        "plt.show()"
      ]
    },
    {
      "cell_type": "code",
      "execution_count": null,
      "metadata": {
        "colab": {
          "base_uri": "https://localhost:8080/"
        },
        "id": "R7B0kafMr15y",
        "outputId": "796253ca-623f-47d2-bbe3-3a79d9ace3c0"
      },
      "outputs": [
        {
          "name": "stdout",
          "output_type": "stream",
          "text": [
            "컬럼 [영화명] UNIQUE : 19161\n",
            "컬럼 [감독] UNIQUE : 7520\n",
            "컬럼 [배급사] UNIQUE : 814\n",
            "컬럼 [영화형태] UNIQUE : 4\n",
            "컬럼 [국적] UNIQUE : 72\n",
            "컬럼 [장르] UNIQUE : 21\n",
            "컬럼 [등급] UNIQUE : 4\n",
            "컬럼 [영화구분] UNIQUE : 2\n"
          ]
        }
      ],
      "source": [
        "category_cols = ['영화명','감독', '배급사','영화형태','국적','장르','등급','영화구분',]\n",
        "# 범주형 데이터의 unique 확인\n",
        "for col in category_cols:\n",
        "    print('컬럼 [{}] UNIQUE : {}'.format(col, len(df[col].unique())))"
      ]
    },
    {
      "cell_type": "markdown",
      "metadata": {
        "id": "X5X8o-WqslmL"
      },
      "source": [
        "# 수치형 데이터 확인"
      ]
    },
    {
      "cell_type": "markdown",
      "metadata": {
        "id": "1tejG8WatJuw"
      },
      "source": [
        "'전국스크린수', '전국 매출액', '전국 관객수'"
      ]
    },
    {
      "cell_type": "code",
      "execution_count": null,
      "metadata": {
        "id": "GvW5IJQczrA4"
      },
      "outputs": [],
      "source": [
        "# 타입 바꿔줘.... 근데 왜 int가 아니지..?\n",
        "df['전국 매출액'] = df['전국 매출액'].str.replace(pat=r',', repl=r'', regex=True)\n",
        "df['전국 매출액'] = df['전국 매출액'].astype(int64)"
      ]
    },
    {
      "cell_type": "code",
      "execution_count": null,
      "metadata": {
        "colab": {
          "base_uri": "https://localhost:8080/"
        },
        "id": "CcBY-qSVubJr",
        "outputId": "06e981ec-c691-4f14-9c9e-48bd470621ec"
      },
      "outputs": [
        {
          "data": {
            "text/plain": [
              "영화명       object\n",
              "감독        object\n",
              "배급사       object\n",
              "개봉일       object\n",
              "영화형태      object\n",
              "국적        object\n",
              "전국스크린수     int64\n",
              "전국 매출액     int64\n",
              "전국 관객수     int64\n",
              "장르        object\n",
              "등급        object\n",
              "영화구분      object\n",
              "dtype: object"
            ]
          },
          "execution_count": 90,
          "metadata": {},
          "output_type": "execute_result"
        }
      ],
      "source": [
        "df.dtypes"
      ]
    },
    {
      "cell_type": "code",
      "execution_count": null,
      "metadata": {
        "id": "Sy8xB3eMttQm"
      },
      "outputs": [],
      "source": [
        "# df[df['전국 매출액'] == '6,000']"
      ]
    },
    {
      "cell_type": "code",
      "execution_count": null,
      "metadata": {
        "colab": {
          "base_uri": "https://localhost:8080/",
          "height": 300
        },
        "id": "Ib-tq1Fi0X7e",
        "outputId": "0118e4cb-cd38-430f-b159-f4310ca61a53"
      },
      "outputs": [
        {
          "data": {
            "text/html": [
              "\n",
              "  <div id=\"df-28dbe5e5-d323-4728-b1d4-b094824773c0\">\n",
              "    <div class=\"colab-df-container\">\n",
              "      <div>\n",
              "<style scoped>\n",
              "    .dataframe tbody tr th:only-of-type {\n",
              "        vertical-align: middle;\n",
              "    }\n",
              "\n",
              "    .dataframe tbody tr th {\n",
              "        vertical-align: top;\n",
              "    }\n",
              "\n",
              "    .dataframe thead th {\n",
              "        text-align: right;\n",
              "    }\n",
              "</style>\n",
              "<table border=\"1\" class=\"dataframe\">\n",
              "  <thead>\n",
              "    <tr style=\"text-align: right;\">\n",
              "      <th></th>\n",
              "      <th>전국스크린수</th>\n",
              "      <th>전국 매출액</th>\n",
              "      <th>전국 관객수</th>\n",
              "    </tr>\n",
              "  </thead>\n",
              "  <tbody>\n",
              "    <tr>\n",
              "      <th>count</th>\n",
              "      <td>19517</td>\n",
              "      <td>19517</td>\n",
              "      <td>19517</td>\n",
              "    </tr>\n",
              "    <tr>\n",
              "      <th>mean</th>\n",
              "      <td>80</td>\n",
              "      <td>1038945655</td>\n",
              "      <td>161695</td>\n",
              "    </tr>\n",
              "    <tr>\n",
              "      <th>std</th>\n",
              "      <td>223</td>\n",
              "      <td>6052635542</td>\n",
              "      <td>799802</td>\n",
              "    </tr>\n",
              "    <tr>\n",
              "      <th>min</th>\n",
              "      <td>0</td>\n",
              "      <td>0</td>\n",
              "      <td>0</td>\n",
              "    </tr>\n",
              "    <tr>\n",
              "      <th>25%</th>\n",
              "      <td>1</td>\n",
              "      <td>6000</td>\n",
              "      <td>1</td>\n",
              "    </tr>\n",
              "    <tr>\n",
              "      <th>50%</th>\n",
              "      <td>1</td>\n",
              "      <td>270000</td>\n",
              "      <td>132</td>\n",
              "    </tr>\n",
              "    <tr>\n",
              "      <th>75%</th>\n",
              "      <td>30</td>\n",
              "      <td>30448757</td>\n",
              "      <td>8249</td>\n",
              "    </tr>\n",
              "    <tr>\n",
              "      <th>max</th>\n",
              "      <td>2948</td>\n",
              "      <td>139647979516</td>\n",
              "      <td>17613682</td>\n",
              "    </tr>\n",
              "  </tbody>\n",
              "</table>\n",
              "</div>\n",
              "      <button class=\"colab-df-convert\" onclick=\"convertToInteractive('df-28dbe5e5-d323-4728-b1d4-b094824773c0')\"\n",
              "              title=\"Convert this dataframe to an interactive table.\"\n",
              "              style=\"display:none;\">\n",
              "        \n",
              "  <svg xmlns=\"http://www.w3.org/2000/svg\" height=\"24px\"viewBox=\"0 0 24 24\"\n",
              "       width=\"24px\">\n",
              "    <path d=\"M0 0h24v24H0V0z\" fill=\"none\"/>\n",
              "    <path d=\"M18.56 5.44l.94 2.06.94-2.06 2.06-.94-2.06-.94-.94-2.06-.94 2.06-2.06.94zm-11 1L8.5 8.5l.94-2.06 2.06-.94-2.06-.94L8.5 2.5l-.94 2.06-2.06.94zm10 10l.94 2.06.94-2.06 2.06-.94-2.06-.94-.94-2.06-.94 2.06-2.06.94z\"/><path d=\"M17.41 7.96l-1.37-1.37c-.4-.4-.92-.59-1.43-.59-.52 0-1.04.2-1.43.59L10.3 9.45l-7.72 7.72c-.78.78-.78 2.05 0 2.83L4 21.41c.39.39.9.59 1.41.59.51 0 1.02-.2 1.41-.59l7.78-7.78 2.81-2.81c.8-.78.8-2.07 0-2.86zM5.41 20L4 18.59l7.72-7.72 1.47 1.35L5.41 20z\"/>\n",
              "  </svg>\n",
              "      </button>\n",
              "      \n",
              "  <style>\n",
              "    .colab-df-container {\n",
              "      display:flex;\n",
              "      flex-wrap:wrap;\n",
              "      gap: 12px;\n",
              "    }\n",
              "\n",
              "    .colab-df-convert {\n",
              "      background-color: #E8F0FE;\n",
              "      border: none;\n",
              "      border-radius: 50%;\n",
              "      cursor: pointer;\n",
              "      display: none;\n",
              "      fill: #1967D2;\n",
              "      height: 32px;\n",
              "      padding: 0 0 0 0;\n",
              "      width: 32px;\n",
              "    }\n",
              "\n",
              "    .colab-df-convert:hover {\n",
              "      background-color: #E2EBFA;\n",
              "      box-shadow: 0px 1px 2px rgba(60, 64, 67, 0.3), 0px 1px 3px 1px rgba(60, 64, 67, 0.15);\n",
              "      fill: #174EA6;\n",
              "    }\n",
              "\n",
              "    [theme=dark] .colab-df-convert {\n",
              "      background-color: #3B4455;\n",
              "      fill: #D2E3FC;\n",
              "    }\n",
              "\n",
              "    [theme=dark] .colab-df-convert:hover {\n",
              "      background-color: #434B5C;\n",
              "      box-shadow: 0px 1px 3px 1px rgba(0, 0, 0, 0.15);\n",
              "      filter: drop-shadow(0px 1px 2px rgba(0, 0, 0, 0.3));\n",
              "      fill: #FFFFFF;\n",
              "    }\n",
              "  </style>\n",
              "\n",
              "      <script>\n",
              "        const buttonEl =\n",
              "          document.querySelector('#df-28dbe5e5-d323-4728-b1d4-b094824773c0 button.colab-df-convert');\n",
              "        buttonEl.style.display =\n",
              "          google.colab.kernel.accessAllowed ? 'block' : 'none';\n",
              "\n",
              "        async function convertToInteractive(key) {\n",
              "          const element = document.querySelector('#df-28dbe5e5-d323-4728-b1d4-b094824773c0');\n",
              "          const dataTable =\n",
              "            await google.colab.kernel.invokeFunction('convertToInteractive',\n",
              "                                                     [key], {});\n",
              "          if (!dataTable) return;\n",
              "\n",
              "          const docLinkHtml = 'Like what you see? Visit the ' +\n",
              "            '<a target=\"_blank\" href=https://colab.research.google.com/notebooks/data_table.ipynb>data table notebook</a>'\n",
              "            + ' to learn more about interactive tables.';\n",
              "          element.innerHTML = '';\n",
              "          dataTable['output_type'] = 'display_data';\n",
              "          await google.colab.output.renderOutput(dataTable, element);\n",
              "          const docLink = document.createElement('div');\n",
              "          docLink.innerHTML = docLinkHtml;\n",
              "          element.appendChild(docLink);\n",
              "        }\n",
              "      </script>\n",
              "    </div>\n",
              "  </div>\n",
              "  "
            ],
            "text/plain": [
              "       전국스크린수        전국 매출액    전국 관객수\n",
              "count   19517         19517     19517\n",
              "mean       80    1038945655    161695\n",
              "std       223    6052635542    799802\n",
              "min         0             0         0\n",
              "25%         1          6000         1\n",
              "50%         1        270000       132\n",
              "75%        30      30448757      8249\n",
              "max      2948  139647979516  17613682"
            ]
          },
          "execution_count": 96,
          "metadata": {},
          "output_type": "execute_result"
        }
      ],
      "source": [
        "df[['전국스크린수', '전국 매출액', '전국 관객수']].describe().astype('int64')\n",
        "# 볼 때 편하게 astype (describe에 적용 데이터가 바뀌는 건 아니야)"
      ]
    },
    {
      "cell_type": "code",
      "execution_count": null,
      "metadata": {
        "colab": {
          "base_uri": "https://localhost:8080/",
          "height": 279
        },
        "id": "h_btqmVx1Sau",
        "outputId": "c29f0480-0e2d-4d2a-bbce-0fc1a6393f21"
      },
      "outputs": [
        {
          "data": {
            "image/png": "[encoded data removed]",
            "text/plain": [
              "<Figure size 432x288 with 1 Axes>"
            ]
          },
          "metadata": {
            "needs_background": "light"
          },
          "output_type": "display_data"
        }
      ],
      "source": [
        "sns.distplot(df['전국스크린수']);"
      ]
    },
    {
      "cell_type": "code",
      "execution_count": null,
      "metadata": {
        "colab": {
          "base_uri": "https://localhost:8080/",
          "height": 289
        },
        "id": "sF_Lpjgr1a0L",
        "outputId": "32337fbd-9563-4218-d229-54bf49ada80f"
      },
      "outputs": [
        {
          "data": {
            "image/png": "[encoded data removed]",
            "text/plain": [
              "<Figure size 432x288 with 1 Axes>"
            ]
          },
          "metadata": {
            "needs_background": "light"
          },
          "output_type": "display_data"
        }
      ],
      "source": [
        "sns.distplot(df['전국 매출액']);"
      ]
    },
    {
      "cell_type": "code",
      "execution_count": null,
      "metadata": {
        "colab": {
          "base_uri": "https://localhost:8080/",
          "height": 289
        },
        "id": "Pko4RmPV1jX1",
        "outputId": "cb761fdb-a96f-404c-fcb7-4af785a92335"
      },
      "outputs": [
        {
          "data": {
            "image/png": "[encoded data removed]",
            "text/plain": [
              "<Figure size 432x288 with 1 Axes>"
            ]
          },
          "metadata": {
            "needs_background": "light"
          },
          "output_type": "display_data"
        }
      ],
      "source": [
        "sns.distplot(df['전국 관객수']);"
      ]
    },
    {
      "cell_type": "code",
      "execution_count": null,
      "metadata": {
        "id": "ULsXiBON2t6A"
      },
      "outputs": [],
      "source": [
        "# 1,000 < 전국관객수 < 11,000,000\n",
        "# 전국스크린수 > 50\n",
        "# 총 데이터 2933개"
      ]
    },
    {
      "cell_type": "code",
      "execution_count": null,
      "metadata": {
        "colab": {
          "base_uri": "https://localhost:8080/"
        },
        "id": "9jyDvfMm2bCD",
        "outputId": "6e00523b-5b51-481e-a91c-faa41ad12a78"
      },
      "outputs": [
        {
          "data": {
            "text/plain": [
              "영화명       4125\n",
              "감독        4125\n",
              "배급사       4125\n",
              "개봉일       4125\n",
              "영화형태      4125\n",
              "국적        4125\n",
              "전국스크린수    4125\n",
              "전국 매출액    4125\n",
              "전국 관객수    4125\n",
              "장르        4125\n",
              "등급        4125\n",
              "영화구분      4125\n",
              "dtype: int64"
            ]
          },
          "execution_count": 100,
          "metadata": {},
          "output_type": "execute_result"
        }
      ],
      "source": [
        "df[(df['전국 관객수'] > 1000) & (df['전국스크린수'] > 50) & (df['전국 관객수'] < 11000000)].count()"
      ]
    },
    {
      "cell_type": "code",
      "execution_count": null,
      "metadata": {
        "colab": {
          "base_uri": "https://localhost:8080/",
          "height": 175
        },
        "id": "a_OHWHvW24fO",
        "outputId": "7fb6a091-ae65-437e-ed99-c06745f0a73d"
      },
      "outputs": [
        {
          "data": {
            "text/html": [
              "\n",
              "  <div id=\"df-c24d67a3-ed78-4a51-99f8-f249cdf36205\">\n",
              "    <div class=\"colab-df-container\">\n",
              "      <div>\n",
              "<style scoped>\n",
              "    .dataframe tbody tr th:only-of-type {\n",
              "        vertical-align: middle;\n",
              "    }\n",
              "\n",
              "    .dataframe tbody tr th {\n",
              "        vertical-align: top;\n",
              "    }\n",
              "\n",
              "    .dataframe thead th {\n",
              "        text-align: right;\n",
              "    }\n",
              "</style>\n",
              "<table border=\"1\" class=\"dataframe\">\n",
              "  <thead>\n",
              "    <tr style=\"text-align: right;\">\n",
              "      <th></th>\n",
              "      <th>영화명</th>\n",
              "      <th>감독</th>\n",
              "      <th>배급사</th>\n",
              "      <th>개봉일</th>\n",
              "      <th>영화형태</th>\n",
              "      <th>국적</th>\n",
              "      <th>전국스크린수</th>\n",
              "      <th>전국 매출액</th>\n",
              "      <th>전국 관객수</th>\n",
              "      <th>장르</th>\n",
              "      <th>등급</th>\n",
              "      <th>영화구분</th>\n",
              "    </tr>\n",
              "    <tr>\n",
              "      <th>순번</th>\n",
              "      <th></th>\n",
              "      <th></th>\n",
              "      <th></th>\n",
              "      <th></th>\n",
              "      <th></th>\n",
              "      <th></th>\n",
              "      <th></th>\n",
              "      <th></th>\n",
              "      <th></th>\n",
              "      <th></th>\n",
              "      <th></th>\n",
              "      <th></th>\n",
              "    </tr>\n",
              "  </thead>\n",
              "  <tbody>\n",
              "    <tr>\n",
              "      <th>24</th>\n",
              "      <td>어벤져스: 에이지 오브 울트론</td>\n",
              "      <td>조스 웨던</td>\n",
              "      <td>월트디즈니컴퍼니코리아 유한책임회사</td>\n",
              "      <td>2015-04-23</td>\n",
              "      <td>장편</td>\n",
              "      <td>미국</td>\n",
              "      <td>1843</td>\n",
              "      <td>88582586366</td>\n",
              "      <td>10494499</td>\n",
              "      <td>액션</td>\n",
              "      <td>12세관람가</td>\n",
              "      <td>일반영화</td>\n",
              "    </tr>\n",
              "    <tr>\n",
              "      <th>25</th>\n",
              "      <td>아바타: 물의 길</td>\n",
              "      <td>제임스 카메론</td>\n",
              "      <td>월트디즈니컴퍼니코리아 유한책임회사</td>\n",
              "      <td>2022-12-14</td>\n",
              "      <td>장편</td>\n",
              "      <td>미국</td>\n",
              "      <td>2809</td>\n",
              "      <td>132262978710</td>\n",
              "      <td>10405342</td>\n",
              "      <td>액션</td>\n",
              "      <td>12세관람가</td>\n",
              "      <td>일반영화</td>\n",
              "    </tr>\n",
              "    <tr>\n",
              "      <th>26</th>\n",
              "      <td>기생충</td>\n",
              "      <td>봉준호</td>\n",
              "      <td>(주)씨제이이엔엠</td>\n",
              "      <td>2019-05-30</td>\n",
              "      <td>장편</td>\n",
              "      <td>한국</td>\n",
              "      <td>1948</td>\n",
              "      <td>87459829095</td>\n",
              "      <td>10313086</td>\n",
              "      <td>드라마</td>\n",
              "      <td>15세관람가</td>\n",
              "      <td>일반영화</td>\n",
              "    </tr>\n",
              "  </tbody>\n",
              "</table>\n",
              "</div>\n",
              "      <button class=\"colab-df-convert\" onclick=\"convertToInteractive('df-c24d67a3-ed78-4a51-99f8-f249cdf36205')\"\n",
              "              title=\"Convert this dataframe to an interactive table.\"\n",
              "              style=\"display:none;\">\n",
              "        \n",
              "  <svg xmlns=\"http://www.w3.org/2000/svg\" height=\"24px\"viewBox=\"0 0 24 24\"\n",
              "       width=\"24px\">\n",
              "    <path d=\"M0 0h24v24H0V0z\" fill=\"none\"/>\n",
              "    <path d=\"M18.56 5.44l.94 2.06.94-2.06 2.06-.94-2.06-.94-.94-2.06-.94 2.06-2.06.94zm-11 1L8.5 8.5l.94-2.06 2.06-.94-2.06-.94L8.5 2.5l-.94 2.06-2.06.94zm10 10l.94 2.06.94-2.06 2.06-.94-2.06-.94-.94-2.06-.94 2.06-2.06.94z\"/><path d=\"M17.41 7.96l-1.37-1.37c-.4-.4-.92-.59-1.43-.59-.52 0-1.04.2-1.43.59L10.3 9.45l-7.72 7.72c-.78.78-.78 2.05 0 2.83L4 21.41c.39.39.9.59 1.41.59.51 0 1.02-.2 1.41-.59l7.78-7.78 2.81-2.81c.8-.78.8-2.07 0-2.86zM5.41 20L4 18.59l7.72-7.72 1.47 1.35L5.41 20z\"/>\n",
              "  </svg>\n",
              "      </button>\n",
              "      \n",
              "  <style>\n",
              "    .colab-df-container {\n",
              "      display:flex;\n",
              "      flex-wrap:wrap;\n",
              "      gap: 12px;\n",
              "    }\n",
              "\n",
              "    .colab-df-convert {\n",
              "      background-color: #E8F0FE;\n",
              "      border: none;\n",
              "      border-radius: 50%;\n",
              "      cursor: pointer;\n",
              "      display: none;\n",
              "      fill: #1967D2;\n",
              "      height: 32px;\n",
              "      padding: 0 0 0 0;\n",
              "      width: 32px;\n",
              "    }\n",
              "\n",
              "    .colab-df-convert:hover {\n",
              "      background-color: #E2EBFA;\n",
              "      box-shadow: 0px 1px 2px rgba(60, 64, 67, 0.3), 0px 1px 3px 1px rgba(60, 64, 67, 0.15);\n",
              "      fill: #174EA6;\n",
              "    }\n",
              "\n",
              "    [theme=dark] .colab-df-convert {\n",
              "      background-color: #3B4455;\n",
              "      fill: #D2E3FC;\n",
              "    }\n",
              "\n",
              "    [theme=dark] .colab-df-convert:hover {\n",
              "      background-color: #434B5C;\n",
              "      box-shadow: 0px 1px 3px 1px rgba(0, 0, 0, 0.15);\n",
              "      filter: drop-shadow(0px 1px 2px rgba(0, 0, 0, 0.3));\n",
              "      fill: #FFFFFF;\n",
              "    }\n",
              "  </style>\n",
              "\n",
              "      <script>\n",
              "        const buttonEl =\n",
              "          document.querySelector('#df-c24d67a3-ed78-4a51-99f8-f249cdf36205 button.colab-df-convert');\n",
              "        buttonEl.style.display =\n",
              "          google.colab.kernel.accessAllowed ? 'block' : 'none';\n",
              "\n",
              "        async function convertToInteractive(key) {\n",
              "          const element = document.querySelector('#df-c24d67a3-ed78-4a51-99f8-f249cdf36205');\n",
              "          const dataTable =\n",
              "            await google.colab.kernel.invokeFunction('convertToInteractive',\n",
              "                                                     [key], {});\n",
              "          if (!dataTable) return;\n",
              "\n",
              "          const docLinkHtml = 'Like what you see? Visit the ' +\n",
              "            '<a target=\"_blank\" href=https://colab.research.google.com/notebooks/data_table.ipynb>data table notebook</a>'\n",
              "            + ' to learn more about interactive tables.';\n",
              "          element.innerHTML = '';\n",
              "          dataTable['output_type'] = 'display_data';\n",
              "          await google.colab.output.renderOutput(dataTable, element);\n",
              "          const docLink = document.createElement('div');\n",
              "          docLink.innerHTML = docLinkHtml;\n",
              "          element.appendChild(docLink);\n",
              "        }\n",
              "      </script>\n",
              "    </div>\n",
              "  </div>\n",
              "  "
            ],
            "text/plain": [
              "                 영화명       감독                 배급사         개봉일 영화형태  국적  \\\n",
              "순번                                                                       \n",
              "24  어벤져스: 에이지 오브 울트론    조스 웨던  월트디즈니컴퍼니코리아 유한책임회사  2015-04-23   장편  미국   \n",
              "25         아바타: 물의 길  제임스 카메론  월트디즈니컴퍼니코리아 유한책임회사  2022-12-14   장편  미국   \n",
              "26               기생충      봉준호           (주)씨제이이엔엠  2019-05-30   장편  한국   \n",
              "\n",
              "    전국스크린수        전국 매출액    전국 관객수   장르      등급  영화구분  \n",
              "순번                                                     \n",
              "24    1843   88582586366  10494499   액션  12세관람가  일반영화  \n",
              "25    2809  132262978710  10405342   액션  12세관람가  일반영화  \n",
              "26    1948   87459829095  10313086  드라마  15세관람가  일반영화  "
            ]
          },
          "execution_count": 102,
          "metadata": {},
          "output_type": "execute_result"
        }
      ],
      "source": [
        "movie_resize = df[(df['전국 관객수'] > 1000) & (df['전국스크린수'] > 50) & (df['전국 관객수'] < 11000000)]\n",
        "movie_resize.head(3)"
      ]
    },
    {
      "cell_type": "code",
      "execution_count": null,
      "metadata": {
        "colab": {
          "base_uri": "https://localhost:8080/"
        },
        "id": "q8tcstlE3WVq",
        "outputId": "fc8a9291-4219-4b1d-828d-0c63f29557ce"
      },
      "outputs": [
        {
          "name": "stdout",
          "output_type": "stream",
          "text": [
            "<class 'pandas.core.frame.DataFrame'>\n",
            "Int64Index: 4125 entries, 24 to 7676\n",
            "Data columns (total 12 columns):\n",
            " #   Column  Non-Null Count  Dtype \n",
            "---  ------  --------------  ----- \n",
            " 0   영화명     4125 non-null   object\n",
            " 1   감독      4125 non-null   object\n",
            " 2   배급사     4125 non-null   object\n",
            " 3   개봉일     4125 non-null   object\n",
            " 4   영화형태    4125 non-null   object\n",
            " 5   국적      4125 non-null   object\n",
            " 6   전국스크린수  4125 non-null   int64 \n",
            " 7   전국 매출액  4125 non-null   int64 \n",
            " 8   전국 관객수  4125 non-null   int64 \n",
            " 9   장르      4125 non-null   object\n",
            " 10  등급      4125 non-null   object\n",
            " 11  영화구분    4125 non-null   object\n",
            "dtypes: int64(3), object(9)\n",
            "memory usage: 418.9+ KB\n"
          ]
        }
      ],
      "source": [
        "movie_resize.info()"
      ]
    },
    {
      "cell_type": "code",
      "execution_count": null,
      "metadata": {
        "colab": {
          "base_uri": "https://localhost:8080/"
        },
        "id": "yQbl5cU13d6t",
        "outputId": "3eab077d-ab16-448f-fb12-a3fa0e2d6576"
      },
      "outputs": [
        {
          "data": {
            "text/plain": [
              "(2465, array(['조스 웨던', '제임스 카메론', '봉준호', '제니퍼 리', '크리스토퍼 놀란', '브라이언 싱어', '이일형',\n",
              "        '이상근', '한재림', '쉐인 블랙'], dtype=object))"
            ]
          },
          "execution_count": 104,
          "metadata": {},
          "output_type": "execute_result"
        }
      ],
      "source": [
        "len(movie_resize['감독'].unique()), movie_resize['감독'].unique()[:10]"
      ]
    },
    {
      "cell_type": "code",
      "execution_count": null,
      "metadata": {
        "colab": {
          "base_uri": "https://localhost:8080/"
        },
        "id": "d5YUoZDm3gSq",
        "outputId": "de9f3c0e-3298-4bcc-b626-6feb714898ea"
      },
      "outputs": [
        {
          "data": {
            "text/plain": [
              "(247, array(['월트디즈니컴퍼니코리아 유한책임회사', '(주)씨제이이엔엠', '소니픽쳐스릴리징월트디즈니스튜디오스코리아(주)',\n",
              "        '워너브러더스 코리아(주)', '(주)쇼박스', '롯데쇼핑㈜롯데엔터테인먼트', '롯데컬처웍스(주)롯데엔터테인먼트',\n",
              "        '소니픽쳐스엔터테인먼트코리아주식회사극장배급지점', 'CJ ENM', '이십세기폭스코리아(주)'], dtype=object))"
            ]
          },
          "execution_count": 105,
          "metadata": {},
          "output_type": "execute_result"
        }
      ],
      "source": [
        "len(movie_resize['배급사'].unique()), movie_resize['배급사'].unique()[:10]"
      ]
    },
    {
      "cell_type": "code",
      "execution_count": null,
      "metadata": {
        "colab": {
          "base_uri": "https://localhost:8080/"
        },
        "id": "hldgwjlm3hY_",
        "outputId": "3c08c27a-0e54-422b-c5b1-8bccc70dbea1"
      },
      "outputs": [
        {
          "data": {
            "text/plain": [
              "미국     1522\n",
              "한국     1261\n",
              "일본      409\n",
              "영국      187\n",
              "프랑스     164\n",
              "중국      118\n",
              "독일       57\n",
              "스페인      46\n",
              "캐나다      40\n",
              "홍콩       39\n",
              "Name: 국적, dtype: int64"
            ]
          },
          "execution_count": 106,
          "metadata": {},
          "output_type": "execute_result"
        }
      ],
      "source": [
        "#국적별 전국 관객수를 확인해본 결과 아래와 같다.\n",
        "movie_resize['국적'].value_counts().sort_values(ascending=False)[:10]"
      ]
    },
    {
      "cell_type": "code",
      "execution_count": null,
      "metadata": {
        "colab": {
          "base_uri": "https://localhost:8080/",
          "height": 300
        },
        "id": "tVDosWg83vyt",
        "outputId": "4513c34c-f040-4708-d80b-274d44f329f5"
      },
      "outputs": [
        {
          "data": {
            "text/html": [
              "\n",
              "  <div id=\"df-8b5c1c5e-3a6a-4f5e-b6a0-576cac568199\">\n",
              "    <div class=\"colab-df-container\">\n",
              "      <div>\n",
              "<style scoped>\n",
              "    .dataframe tbody tr th:only-of-type {\n",
              "        vertical-align: middle;\n",
              "    }\n",
              "\n",
              "    .dataframe tbody tr th {\n",
              "        vertical-align: top;\n",
              "    }\n",
              "\n",
              "    .dataframe thead th {\n",
              "        text-align: right;\n",
              "    }\n",
              "</style>\n",
              "<table border=\"1\" class=\"dataframe\">\n",
              "  <thead>\n",
              "    <tr style=\"text-align: right;\">\n",
              "      <th></th>\n",
              "      <th>전국스크린수</th>\n",
              "      <th>전국 매출액</th>\n",
              "      <th>전국 관객수</th>\n",
              "    </tr>\n",
              "  </thead>\n",
              "  <tbody>\n",
              "    <tr>\n",
              "      <th>count</th>\n",
              "      <td>1522</td>\n",
              "      <td>1522</td>\n",
              "      <td>1522</td>\n",
              "    </tr>\n",
              "    <tr>\n",
              "      <th>mean</th>\n",
              "      <td>413</td>\n",
              "      <td>5411997219</td>\n",
              "      <td>666979</td>\n",
              "    </tr>\n",
              "    <tr>\n",
              "      <th>std</th>\n",
              "      <td>399</td>\n",
              "      <td>11320411250</td>\n",
              "      <td>1328688</td>\n",
              "    </tr>\n",
              "    <tr>\n",
              "      <th>min</th>\n",
              "      <td>51</td>\n",
              "      <td>8596000</td>\n",
              "      <td>1047</td>\n",
              "    </tr>\n",
              "    <tr>\n",
              "      <th>25%</th>\n",
              "      <td>154</td>\n",
              "      <td>236609910</td>\n",
              "      <td>30227</td>\n",
              "    </tr>\n",
              "    <tr>\n",
              "      <th>50%</th>\n",
              "      <td>280</td>\n",
              "      <td>1042534450</td>\n",
              "      <td>135143</td>\n",
              "    </tr>\n",
              "    <tr>\n",
              "      <th>75%</th>\n",
              "      <td>532</td>\n",
              "      <td>4658796857</td>\n",
              "      <td>606763</td>\n",
              "    </tr>\n",
              "    <tr>\n",
              "      <th>max</th>\n",
              "      <td>2948</td>\n",
              "      <td>132262978710</td>\n",
              "      <td>10494499</td>\n",
              "    </tr>\n",
              "  </tbody>\n",
              "</table>\n",
              "</div>\n",
              "      <button class=\"colab-df-convert\" onclick=\"convertToInteractive('df-8b5c1c5e-3a6a-4f5e-b6a0-576cac568199')\"\n",
              "              title=\"Convert this dataframe to an interactive table.\"\n",
              "              style=\"display:none;\">\n",
              "        \n",
              "  <svg xmlns=\"http://www.w3.org/2000/svg\" height=\"24px\"viewBox=\"0 0 24 24\"\n",
              "       width=\"24px\">\n",
              "    <path d=\"M0 0h24v24H0V0z\" fill=\"none\"/>\n",
              "    <path d=\"M18.56 5.44l.94 2.06.94-2.06 2.06-.94-2.06-.94-.94-2.06-.94 2.06-2.06.94zm-11 1L8.5 8.5l.94-2.06 2.06-.94-2.06-.94L8.5 2.5l-.94 2.06-2.06.94zm10 10l.94 2.06.94-2.06 2.06-.94-2.06-.94-.94-2.06-.94 2.06-2.06.94z\"/><path d=\"M17.41 7.96l-1.37-1.37c-.4-.4-.92-.59-1.43-.59-.52 0-1.04.2-1.43.59L10.3 9.45l-7.72 7.72c-.78.78-.78 2.05 0 2.83L4 21.41c.39.39.9.59 1.41.59.51 0 1.02-.2 1.41-.59l7.78-7.78 2.81-2.81c.8-.78.8-2.07 0-2.86zM5.41 20L4 18.59l7.72-7.72 1.47 1.35L5.41 20z\"/>\n",
              "  </svg>\n",
              "      </button>\n",
              "      \n",
              "  <style>\n",
              "    .colab-df-container {\n",
              "      display:flex;\n",
              "      flex-wrap:wrap;\n",
              "      gap: 12px;\n",
              "    }\n",
              "\n",
              "    .colab-df-convert {\n",
              "      background-color: #E8F0FE;\n",
              "      border: none;\n",
              "      border-radius: 50%;\n",
              "      cursor: pointer;\n",
              "      display: none;\n",
              "      fill: #1967D2;\n",
              "      height: 32px;\n",
              "      padding: 0 0 0 0;\n",
              "      width: 32px;\n",
              "    }\n",
              "\n",
              "    .colab-df-convert:hover {\n",
              "      background-color: #E2EBFA;\n",
              "      box-shadow: 0px 1px 2px rgba(60, 64, 67, 0.3), 0px 1px 3px 1px rgba(60, 64, 67, 0.15);\n",
              "      fill: #174EA6;\n",
              "    }\n",
              "\n",
              "    [theme=dark] .colab-df-convert {\n",
              "      background-color: #3B4455;\n",
              "      fill: #D2E3FC;\n",
              "    }\n",
              "\n",
              "    [theme=dark] .colab-df-convert:hover {\n",
              "      background-color: #434B5C;\n",
              "      box-shadow: 0px 1px 3px 1px rgba(0, 0, 0, 0.15);\n",
              "      filter: drop-shadow(0px 1px 2px rgba(0, 0, 0, 0.3));\n",
              "      fill: #FFFFFF;\n",
              "    }\n",
              "  </style>\n",
              "\n",
              "      <script>\n",
              "        const buttonEl =\n",
              "          document.querySelector('#df-8b5c1c5e-3a6a-4f5e-b6a0-576cac568199 button.colab-df-convert');\n",
              "        buttonEl.style.display =\n",
              "          google.colab.kernel.accessAllowed ? 'block' : 'none';\n",
              "\n",
              "        async function convertToInteractive(key) {\n",
              "          const element = document.querySelector('#df-8b5c1c5e-3a6a-4f5e-b6a0-576cac568199');\n",
              "          const dataTable =\n",
              "            await google.colab.kernel.invokeFunction('convertToInteractive',\n",
              "                                                     [key], {});\n",
              "          if (!dataTable) return;\n",
              "\n",
              "          const docLinkHtml = 'Like what you see? Visit the ' +\n",
              "            '<a target=\"_blank\" href=https://colab.research.google.com/notebooks/data_table.ipynb>data table notebook</a>'\n",
              "            + ' to learn more about interactive tables.';\n",
              "          element.innerHTML = '';\n",
              "          dataTable['output_type'] = 'display_data';\n",
              "          await google.colab.output.renderOutput(dataTable, element);\n",
              "          const docLink = document.createElement('div');\n",
              "          docLink.innerHTML = docLinkHtml;\n",
              "          element.appendChild(docLink);\n",
              "        }\n",
              "      </script>\n",
              "    </div>\n",
              "  </div>\n",
              "  "
            ],
            "text/plain": [
              "       전국스크린수        전국 매출액    전국 관객수\n",
              "count    1522          1522      1522\n",
              "mean      413    5411997219    666979\n",
              "std       399   11320411250   1328688\n",
              "min        51       8596000      1047\n",
              "25%       154     236609910     30227\n",
              "50%       280    1042534450    135143\n",
              "75%       532    4658796857    606763\n",
              "max      2948  132262978710  10494499"
            ]
          },
          "execution_count": 107,
          "metadata": {},
          "output_type": "execute_result"
        }
      ],
      "source": [
        "movie_resize[movie_resize['국적'] == '미국'].describe().astype('int64')"
      ]
    },
    {
      "cell_type": "code",
      "execution_count": null,
      "metadata": {
        "colab": {
          "base_uri": "https://localhost:8080/",
          "height": 300
        },
        "id": "0cJX0fn-34CE",
        "outputId": "f216079b-21a1-4a67-feb4-0e060b20d022"
      },
      "outputs": [
        {
          "data": {
            "text/html": [
              "\n",
              "  <div id=\"df-49edc8ce-b84e-44bc-803c-962e5286558e\">\n",
              "    <div class=\"colab-df-container\">\n",
              "      <div>\n",
              "<style scoped>\n",
              "    .dataframe tbody tr th:only-of-type {\n",
              "        vertical-align: middle;\n",
              "    }\n",
              "\n",
              "    .dataframe tbody tr th {\n",
              "        vertical-align: top;\n",
              "    }\n",
              "\n",
              "    .dataframe thead th {\n",
              "        text-align: right;\n",
              "    }\n",
              "</style>\n",
              "<table border=\"1\" class=\"dataframe\">\n",
              "  <thead>\n",
              "    <tr style=\"text-align: right;\">\n",
              "      <th></th>\n",
              "      <th>전국스크린수</th>\n",
              "      <th>전국 매출액</th>\n",
              "      <th>전국 관객수</th>\n",
              "    </tr>\n",
              "  </thead>\n",
              "  <tbody>\n",
              "    <tr>\n",
              "      <th>count</th>\n",
              "      <td>1261</td>\n",
              "      <td>1261</td>\n",
              "      <td>1261</td>\n",
              "    </tr>\n",
              "    <tr>\n",
              "      <th>mean</th>\n",
              "      <td>453</td>\n",
              "      <td>6953766419</td>\n",
              "      <td>893041</td>\n",
              "    </tr>\n",
              "    <tr>\n",
              "      <th>std</th>\n",
              "      <td>397</td>\n",
              "      <td>12420167775</td>\n",
              "      <td>1579880</td>\n",
              "    </tr>\n",
              "    <tr>\n",
              "      <th>min</th>\n",
              "      <td>51</td>\n",
              "      <td>0</td>\n",
              "      <td>1140</td>\n",
              "    </tr>\n",
              "    <tr>\n",
              "      <th>25%</th>\n",
              "      <td>140</td>\n",
              "      <td>161959057</td>\n",
              "      <td>20295</td>\n",
              "    </tr>\n",
              "    <tr>\n",
              "      <th>50%</th>\n",
              "      <td>341</td>\n",
              "      <td>1336010500</td>\n",
              "      <td>172969</td>\n",
              "    </tr>\n",
              "    <tr>\n",
              "      <th>75%</th>\n",
              "      <td>622</td>\n",
              "      <td>8098811152</td>\n",
              "      <td>1061412</td>\n",
              "    </tr>\n",
              "    <tr>\n",
              "      <th>max</th>\n",
              "      <td>2575</td>\n",
              "      <td>87459829095</td>\n",
              "      <td>10313086</td>\n",
              "    </tr>\n",
              "  </tbody>\n",
              "</table>\n",
              "</div>\n",
              "      <button class=\"colab-df-convert\" onclick=\"convertToInteractive('df-49edc8ce-b84e-44bc-803c-962e5286558e')\"\n",
              "              title=\"Convert this dataframe to an interactive table.\"\n",
              "              style=\"display:none;\">\n",
              "        \n",
              "  <svg xmlns=\"http://www.w3.org/2000/svg\" height=\"24px\"viewBox=\"0 0 24 24\"\n",
              "       width=\"24px\">\n",
              "    <path d=\"M0 0h24v24H0V0z\" fill=\"none\"/>\n",
              "    <path d=\"M18.56 5.44l.94 2.06.94-2.06 2.06-.94-2.06-.94-.94-2.06-.94 2.06-2.06.94zm-11 1L8.5 8.5l.94-2.06 2.06-.94-2.06-.94L8.5 2.5l-.94 2.06-2.06.94zm10 10l.94 2.06.94-2.06 2.06-.94-2.06-.94-.94-2.06-.94 2.06-2.06.94z\"/><path d=\"M17.41 7.96l-1.37-1.37c-.4-.4-.92-.59-1.43-.59-.52 0-1.04.2-1.43.59L10.3 9.45l-7.72 7.72c-.78.78-.78 2.05 0 2.83L4 21.41c.39.39.9.59 1.41.59.51 0 1.02-.2 1.41-.59l7.78-7.78 2.81-2.81c.8-.78.8-2.07 0-2.86zM5.41 20L4 18.59l7.72-7.72 1.47 1.35L5.41 20z\"/>\n",
              "  </svg>\n",
              "      </button>\n",
              "      \n",
              "  <style>\n",
              "    .colab-df-container {\n",
              "      display:flex;\n",
              "      flex-wrap:wrap;\n",
              "      gap: 12px;\n",
              "    }\n",
              "\n",
              "    .colab-df-convert {\n",
              "      background-color: #E8F0FE;\n",
              "      border: none;\n",
              "      border-radius: 50%;\n",
              "      cursor: pointer;\n",
              "      display: none;\n",
              "      fill: #1967D2;\n",
              "      height: 32px;\n",
              "      padding: 0 0 0 0;\n",
              "      width: 32px;\n",
              "    }\n",
              "\n",
              "    .colab-df-convert:hover {\n",
              "      background-color: #E2EBFA;\n",
              "      box-shadow: 0px 1px 2px rgba(60, 64, 67, 0.3), 0px 1px 3px 1px rgba(60, 64, 67, 0.15);\n",
              "      fill: #174EA6;\n",
              "    }\n",
              "\n",
              "    [theme=dark] .colab-df-convert {\n",
              "      background-color: #3B4455;\n",
              "      fill: #D2E3FC;\n",
              "    }\n",
              "\n",
              "    [theme=dark] .colab-df-convert:hover {\n",
              "      background-color: #434B5C;\n",
              "      box-shadow: 0px 1px 3px 1px rgba(0, 0, 0, 0.15);\n",
              "      filter: drop-shadow(0px 1px 2px rgba(0, 0, 0, 0.3));\n",
              "      fill: #FFFFFF;\n",
              "    }\n",
              "  </style>\n",
              "\n",
              "      <script>\n",
              "        const buttonEl =\n",
              "          document.querySelector('#df-49edc8ce-b84e-44bc-803c-962e5286558e button.colab-df-convert');\n",
              "        buttonEl.style.display =\n",
              "          google.colab.kernel.accessAllowed ? 'block' : 'none';\n",
              "\n",
              "        async function convertToInteractive(key) {\n",
              "          const element = document.querySelector('#df-49edc8ce-b84e-44bc-803c-962e5286558e');\n",
              "          const dataTable =\n",
              "            await google.colab.kernel.invokeFunction('convertToInteractive',\n",
              "                                                     [key], {});\n",
              "          if (!dataTable) return;\n",
              "\n",
              "          const docLinkHtml = 'Like what you see? Visit the ' +\n",
              "            '<a target=\"_blank\" href=https://colab.research.google.com/notebooks/data_table.ipynb>data table notebook</a>'\n",
              "            + ' to learn more about interactive tables.';\n",
              "          element.innerHTML = '';\n",
              "          dataTable['output_type'] = 'display_data';\n",
              "          await google.colab.output.renderOutput(dataTable, element);\n",
              "          const docLink = document.createElement('div');\n",
              "          docLink.innerHTML = docLinkHtml;\n",
              "          element.appendChild(docLink);\n",
              "        }\n",
              "      </script>\n",
              "    </div>\n",
              "  </div>\n",
              "  "
            ],
            "text/plain": [
              "       전국스크린수       전국 매출액    전국 관객수\n",
              "count    1261         1261      1261\n",
              "mean      453   6953766419    893041\n",
              "std       397  12420167775   1579880\n",
              "min        51            0      1140\n",
              "25%       140    161959057     20295\n",
              "50%       341   1336010500    172969\n",
              "75%       622   8098811152   1061412\n",
              "max      2575  87459829095  10313086"
            ]
          },
          "execution_count": 108,
          "metadata": {},
          "output_type": "execute_result"
        }
      ],
      "source": [
        "movie_resize[movie_resize['국적'] == '한국'].describe().astype('int64')"
      ]
    },
    {
      "cell_type": "code",
      "execution_count": null,
      "metadata": {
        "colab": {
          "base_uri": "https://localhost:8080/",
          "height": 300
        },
        "id": "Wd0wrMWm36JB",
        "outputId": "647a5db6-6ac0-42cf-d461-7ad2468e5ac6"
      },
      "outputs": [
        {
          "data": {
            "text/html": [
              "\n",
              "  <div id=\"df-5201c21d-007a-4c22-948d-0c50f3546d20\">\n",
              "    <div class=\"colab-df-container\">\n",
              "      <div>\n",
              "<style scoped>\n",
              "    .dataframe tbody tr th:only-of-type {\n",
              "        vertical-align: middle;\n",
              "    }\n",
              "\n",
              "    .dataframe tbody tr th {\n",
              "        vertical-align: top;\n",
              "    }\n",
              "\n",
              "    .dataframe thead th {\n",
              "        text-align: right;\n",
              "    }\n",
              "</style>\n",
              "<table border=\"1\" class=\"dataframe\">\n",
              "  <thead>\n",
              "    <tr style=\"text-align: right;\">\n",
              "      <th></th>\n",
              "      <th>전국스크린수</th>\n",
              "      <th>전국 매출액</th>\n",
              "      <th>전국 관객수</th>\n",
              "    </tr>\n",
              "  </thead>\n",
              "  <tbody>\n",
              "    <tr>\n",
              "      <th>count</th>\n",
              "      <td>409</td>\n",
              "      <td>409</td>\n",
              "      <td>409</td>\n",
              "    </tr>\n",
              "    <tr>\n",
              "      <th>mean</th>\n",
              "      <td>198</td>\n",
              "      <td>914862175</td>\n",
              "      <td>117822</td>\n",
              "    </tr>\n",
              "    <tr>\n",
              "      <th>std</th>\n",
              "      <td>169</td>\n",
              "      <td>2361092883</td>\n",
              "      <td>278661</td>\n",
              "    </tr>\n",
              "    <tr>\n",
              "      <th>min</th>\n",
              "      <td>51</td>\n",
              "      <td>8850500</td>\n",
              "      <td>1102</td>\n",
              "    </tr>\n",
              "    <tr>\n",
              "      <th>25%</th>\n",
              "      <td>82</td>\n",
              "      <td>84113620</td>\n",
              "      <td>10806</td>\n",
              "    </tr>\n",
              "    <tr>\n",
              "      <th>50%</th>\n",
              "      <td>131</td>\n",
              "      <td>232190200</td>\n",
              "      <td>28567</td>\n",
              "    </tr>\n",
              "    <tr>\n",
              "      <th>75%</th>\n",
              "      <td>257</td>\n",
              "      <td>885687097</td>\n",
              "      <td>122172</td>\n",
              "    </tr>\n",
              "    <tr>\n",
              "      <th>max</th>\n",
              "      <td>1023</td>\n",
              "      <td>29248867156</td>\n",
              "      <td>3637122</td>\n",
              "    </tr>\n",
              "  </tbody>\n",
              "</table>\n",
              "</div>\n",
              "      <button class=\"colab-df-convert\" onclick=\"convertToInteractive('df-5201c21d-007a-4c22-948d-0c50f3546d20')\"\n",
              "              title=\"Convert this dataframe to an interactive table.\"\n",
              "              style=\"display:none;\">\n",
              "        \n",
              "  <svg xmlns=\"http://www.w3.org/2000/svg\" height=\"24px\"viewBox=\"0 0 24 24\"\n",
              "       width=\"24px\">\n",
              "    <path d=\"M0 0h24v24H0V0z\" fill=\"none\"/>\n",
              "    <path d=\"M18.56 5.44l.94 2.06.94-2.06 2.06-.94-2.06-.94-.94-2.06-.94 2.06-2.06.94zm-11 1L8.5 8.5l.94-2.06 2.06-.94-2.06-.94L8.5 2.5l-.94 2.06-2.06.94zm10 10l.94 2.06.94-2.06 2.06-.94-2.06-.94-.94-2.06-.94 2.06-2.06.94z\"/><path d=\"M17.41 7.96l-1.37-1.37c-.4-.4-.92-.59-1.43-.59-.52 0-1.04.2-1.43.59L10.3 9.45l-7.72 7.72c-.78.78-.78 2.05 0 2.83L4 21.41c.39.39.9.59 1.41.59.51 0 1.02-.2 1.41-.59l7.78-7.78 2.81-2.81c.8-.78.8-2.07 0-2.86zM5.41 20L4 18.59l7.72-7.72 1.47 1.35L5.41 20z\"/>\n",
              "  </svg>\n",
              "      </button>\n",
              "      \n",
              "  <style>\n",
              "    .colab-df-container {\n",
              "      display:flex;\n",
              "      flex-wrap:wrap;\n",
              "      gap: 12px;\n",
              "    }\n",
              "\n",
              "    .colab-df-convert {\n",
              "      background-color: #E8F0FE;\n",
              "      border: none;\n",
              "      border-radius: 50%;\n",
              "      cursor: pointer;\n",
              "      display: none;\n",
              "      fill: #1967D2;\n",
              "      height: 32px;\n",
              "      padding: 0 0 0 0;\n",
              "      width: 32px;\n",
              "    }\n",
              "\n",
              "    .colab-df-convert:hover {\n",
              "      background-color: #E2EBFA;\n",
              "      box-shadow: 0px 1px 2px rgba(60, 64, 67, 0.3), 0px 1px 3px 1px rgba(60, 64, 67, 0.15);\n",
              "      fill: #174EA6;\n",
              "    }\n",
              "\n",
              "    [theme=dark] .colab-df-convert {\n",
              "      background-color: #3B4455;\n",
              "      fill: #D2E3FC;\n",
              "    }\n",
              "\n",
              "    [theme=dark] .colab-df-convert:hover {\n",
              "      background-color: #434B5C;\n",
              "      box-shadow: 0px 1px 3px 1px rgba(0, 0, 0, 0.15);\n",
              "      filter: drop-shadow(0px 1px 2px rgba(0, 0, 0, 0.3));\n",
              "      fill: #FFFFFF;\n",
              "    }\n",
              "  </style>\n",
              "\n",
              "      <script>\n",
              "        const buttonEl =\n",
              "          document.querySelector('#df-5201c21d-007a-4c22-948d-0c50f3546d20 button.colab-df-convert');\n",
              "        buttonEl.style.display =\n",
              "          google.colab.kernel.accessAllowed ? 'block' : 'none';\n",
              "\n",
              "        async function convertToInteractive(key) {\n",
              "          const element = document.querySelector('#df-5201c21d-007a-4c22-948d-0c50f3546d20');\n",
              "          const dataTable =\n",
              "            await google.colab.kernel.invokeFunction('convertToInteractive',\n",
              "                                                     [key], {});\n",
              "          if (!dataTable) return;\n",
              "\n",
              "          const docLinkHtml = 'Like what you see? Visit the ' +\n",
              "            '<a target=\"_blank\" href=https://colab.research.google.com/notebooks/data_table.ipynb>data table notebook</a>'\n",
              "            + ' to learn more about interactive tables.';\n",
              "          element.innerHTML = '';\n",
              "          dataTable['output_type'] = 'display_data';\n",
              "          await google.colab.output.renderOutput(dataTable, element);\n",
              "          const docLink = document.createElement('div');\n",
              "          docLink.innerHTML = docLinkHtml;\n",
              "          element.appendChild(docLink);\n",
              "        }\n",
              "      </script>\n",
              "    </div>\n",
              "  </div>\n",
              "  "
            ],
            "text/plain": [
              "       전국스크린수       전국 매출액   전국 관객수\n",
              "count     409          409      409\n",
              "mean      198    914862175   117822\n",
              "std       169   2361092883   278661\n",
              "min        51      8850500     1102\n",
              "25%        82     84113620    10806\n",
              "50%       131    232190200    28567\n",
              "75%       257    885687097   122172\n",
              "max      1023  29248867156  3637122"
            ]
          },
          "execution_count": 109,
          "metadata": {},
          "output_type": "execute_result"
        }
      ],
      "source": [
        "movie_resize[movie_resize['국적'] == '일본'].describe().astype('int64')"
      ]
    },
    {
      "cell_type": "code",
      "execution_count": null,
      "metadata": {
        "colab": {
          "base_uri": "https://localhost:8080/",
          "height": 300
        },
        "id": "Vv04CXl938Dc",
        "outputId": "6f6f48aa-ca52-427a-9556-e54896c2f9ab"
      },
      "outputs": [
        {
          "data": {
            "text/html": [
              "\n",
              "  <div id=\"df-55293e7b-71de-4873-b752-c5ef5784813c\">\n",
              "    <div class=\"colab-df-container\">\n",
              "      <div>\n",
              "<style scoped>\n",
              "    .dataframe tbody tr th:only-of-type {\n",
              "        vertical-align: middle;\n",
              "    }\n",
              "\n",
              "    .dataframe tbody tr th {\n",
              "        vertical-align: top;\n",
              "    }\n",
              "\n",
              "    .dataframe thead th {\n",
              "        text-align: right;\n",
              "    }\n",
              "</style>\n",
              "<table border=\"1\" class=\"dataframe\">\n",
              "  <thead>\n",
              "    <tr style=\"text-align: right;\">\n",
              "      <th></th>\n",
              "      <th>전국스크린수</th>\n",
              "      <th>전국 매출액</th>\n",
              "      <th>전국 관객수</th>\n",
              "    </tr>\n",
              "  </thead>\n",
              "  <tbody>\n",
              "    <tr>\n",
              "      <th>count</th>\n",
              "      <td>187</td>\n",
              "      <td>187</td>\n",
              "      <td>187</td>\n",
              "    </tr>\n",
              "    <tr>\n",
              "      <th>mean</th>\n",
              "      <td>200</td>\n",
              "      <td>927370957</td>\n",
              "      <td>122172</td>\n",
              "    </tr>\n",
              "    <tr>\n",
              "      <th>std</th>\n",
              "      <td>164</td>\n",
              "      <td>2606326016</td>\n",
              "      <td>345328</td>\n",
              "    </tr>\n",
              "    <tr>\n",
              "      <th>min</th>\n",
              "      <td>51</td>\n",
              "      <td>10073100</td>\n",
              "      <td>1122</td>\n",
              "    </tr>\n",
              "    <tr>\n",
              "      <th>25%</th>\n",
              "      <td>93</td>\n",
              "      <td>98767870</td>\n",
              "      <td>12864</td>\n",
              "    </tr>\n",
              "    <tr>\n",
              "      <th>50%</th>\n",
              "      <td>153</td>\n",
              "      <td>223583600</td>\n",
              "      <td>28703</td>\n",
              "    </tr>\n",
              "    <tr>\n",
              "      <th>75%</th>\n",
              "      <td>234</td>\n",
              "      <td>620556133</td>\n",
              "      <td>80427</td>\n",
              "    </tr>\n",
              "    <tr>\n",
              "      <th>max</th>\n",
              "      <td>1105</td>\n",
              "      <td>24867023000</td>\n",
              "      <td>3375735</td>\n",
              "    </tr>\n",
              "  </tbody>\n",
              "</table>\n",
              "</div>\n",
              "      <button class=\"colab-df-convert\" onclick=\"convertToInteractive('df-55293e7b-71de-4873-b752-c5ef5784813c')\"\n",
              "              title=\"Convert this dataframe to an interactive table.\"\n",
              "              style=\"display:none;\">\n",
              "        \n",
              "  <svg xmlns=\"http://www.w3.org/2000/svg\" height=\"24px\"viewBox=\"0 0 24 24\"\n",
              "       width=\"24px\">\n",
              "    <path d=\"M0 0h24v24H0V0z\" fill=\"none\"/>\n",
              "    <path d=\"M18.56 5.44l.94 2.06.94-2.06 2.06-.94-2.06-.94-.94-2.06-.94 2.06-2.06.94zm-11 1L8.5 8.5l.94-2.06 2.06-.94-2.06-.94L8.5 2.5l-.94 2.06-2.06.94zm10 10l.94 2.06.94-2.06 2.06-.94-2.06-.94-.94-2.06-.94 2.06-2.06.94z\"/><path d=\"M17.41 7.96l-1.37-1.37c-.4-.4-.92-.59-1.43-.59-.52 0-1.04.2-1.43.59L10.3 9.45l-7.72 7.72c-.78.78-.78 2.05 0 2.83L4 21.41c.39.39.9.59 1.41.59.51 0 1.02-.2 1.41-.59l7.78-7.78 2.81-2.81c.8-.78.8-2.07 0-2.86zM5.41 20L4 18.59l7.72-7.72 1.47 1.35L5.41 20z\"/>\n",
              "  </svg>\n",
              "      </button>\n",
              "      \n",
              "  <style>\n",
              "    .colab-df-container {\n",
              "      display:flex;\n",
              "      flex-wrap:wrap;\n",
              "      gap: 12px;\n",
              "    }\n",
              "\n",
              "    .colab-df-convert {\n",
              "      background-color: #E8F0FE;\n",
              "      border: none;\n",
              "      border-radius: 50%;\n",
              "      cursor: pointer;\n",
              "      display: none;\n",
              "      fill: #1967D2;\n",
              "      height: 32px;\n",
              "      padding: 0 0 0 0;\n",
              "      width: 32px;\n",
              "    }\n",
              "\n",
              "    .colab-df-convert:hover {\n",
              "      background-color: #E2EBFA;\n",
              "      box-shadow: 0px 1px 2px rgba(60, 64, 67, 0.3), 0px 1px 3px 1px rgba(60, 64, 67, 0.15);\n",
              "      fill: #174EA6;\n",
              "    }\n",
              "\n",
              "    [theme=dark] .colab-df-convert {\n",
              "      background-color: #3B4455;\n",
              "      fill: #D2E3FC;\n",
              "    }\n",
              "\n",
              "    [theme=dark] .colab-df-convert:hover {\n",
              "      background-color: #434B5C;\n",
              "      box-shadow: 0px 1px 3px 1px rgba(0, 0, 0, 0.15);\n",
              "      filter: drop-shadow(0px 1px 2px rgba(0, 0, 0, 0.3));\n",
              "      fill: #FFFFFF;\n",
              "    }\n",
              "  </style>\n",
              "\n",
              "      <script>\n",
              "        const buttonEl =\n",
              "          document.querySelector('#df-55293e7b-71de-4873-b752-c5ef5784813c button.colab-df-convert');\n",
              "        buttonEl.style.display =\n",
              "          google.colab.kernel.accessAllowed ? 'block' : 'none';\n",
              "\n",
              "        async function convertToInteractive(key) {\n",
              "          const element = document.querySelector('#df-55293e7b-71de-4873-b752-c5ef5784813c');\n",
              "          const dataTable =\n",
              "            await google.colab.kernel.invokeFunction('convertToInteractive',\n",
              "                                                     [key], {});\n",
              "          if (!dataTable) return;\n",
              "\n",
              "          const docLinkHtml = 'Like what you see? Visit the ' +\n",
              "            '<a target=\"_blank\" href=https://colab.research.google.com/notebooks/data_table.ipynb>data table notebook</a>'\n",
              "            + ' to learn more about interactive tables.';\n",
              "          element.innerHTML = '';\n",
              "          dataTable['output_type'] = 'display_data';\n",
              "          await google.colab.output.renderOutput(dataTable, element);\n",
              "          const docLink = document.createElement('div');\n",
              "          docLink.innerHTML = docLinkHtml;\n",
              "          element.appendChild(docLink);\n",
              "        }\n",
              "      </script>\n",
              "    </div>\n",
              "  </div>\n",
              "  "
            ],
            "text/plain": [
              "       전국스크린수       전국 매출액   전국 관객수\n",
              "count     187          187      187\n",
              "mean      200    927370957   122172\n",
              "std       164   2606326016   345328\n",
              "min        51     10073100     1122\n",
              "25%        93     98767870    12864\n",
              "50%       153    223583600    28703\n",
              "75%       234    620556133    80427\n",
              "max      1105  24867023000  3375735"
            ]
          },
          "execution_count": 110,
          "metadata": {},
          "output_type": "execute_result"
        }
      ],
      "source": [
        "movie_resize[movie_resize['국적'] == '영국'].describe().astype('int64')"
      ]
    },
    {
      "cell_type": "code",
      "execution_count": null,
      "metadata": {
        "colab": {
          "base_uri": "https://localhost:8080/",
          "height": 300
        },
        "id": "sN_jIJOf39t1",
        "outputId": "d441dddd-1f50-46e7-947d-e2f8a6e542bf"
      },
      "outputs": [
        {
          "data": {
            "text/html": [
              "\n",
              "  <div id=\"df-55f11282-f20a-466c-a8c8-894f06ffa90e\">\n",
              "    <div class=\"colab-df-container\">\n",
              "      <div>\n",
              "<style scoped>\n",
              "    .dataframe tbody tr th:only-of-type {\n",
              "        vertical-align: middle;\n",
              "    }\n",
              "\n",
              "    .dataframe tbody tr th {\n",
              "        vertical-align: top;\n",
              "    }\n",
              "\n",
              "    .dataframe thead th {\n",
              "        text-align: right;\n",
              "    }\n",
              "</style>\n",
              "<table border=\"1\" class=\"dataframe\">\n",
              "  <thead>\n",
              "    <tr style=\"text-align: right;\">\n",
              "      <th></th>\n",
              "      <th>전국스크린수</th>\n",
              "      <th>전국 매출액</th>\n",
              "      <th>전국 관객수</th>\n",
              "    </tr>\n",
              "  </thead>\n",
              "  <tbody>\n",
              "    <tr>\n",
              "      <th>count</th>\n",
              "      <td>164</td>\n",
              "      <td>164</td>\n",
              "      <td>164</td>\n",
              "    </tr>\n",
              "    <tr>\n",
              "      <th>mean</th>\n",
              "      <td>182</td>\n",
              "      <td>768964450</td>\n",
              "      <td>104941</td>\n",
              "    </tr>\n",
              "    <tr>\n",
              "      <th>std</th>\n",
              "      <td>134</td>\n",
              "      <td>2214736629</td>\n",
              "      <td>307957</td>\n",
              "    </tr>\n",
              "    <tr>\n",
              "      <th>min</th>\n",
              "      <td>51</td>\n",
              "      <td>9564880</td>\n",
              "      <td>1211</td>\n",
              "    </tr>\n",
              "    <tr>\n",
              "      <th>25%</th>\n",
              "      <td>79</td>\n",
              "      <td>66338667</td>\n",
              "      <td>8499</td>\n",
              "    </tr>\n",
              "    <tr>\n",
              "      <th>50%</th>\n",
              "      <td>141</td>\n",
              "      <td>166973645</td>\n",
              "      <td>21952</td>\n",
              "    </tr>\n",
              "    <tr>\n",
              "      <th>75%</th>\n",
              "      <td>245</td>\n",
              "      <td>507463725</td>\n",
              "      <td>65354</td>\n",
              "    </tr>\n",
              "    <tr>\n",
              "      <th>max</th>\n",
              "      <td>682</td>\n",
              "      <td>17581098553</td>\n",
              "      <td>2379830</td>\n",
              "    </tr>\n",
              "  </tbody>\n",
              "</table>\n",
              "</div>\n",
              "      <button class=\"colab-df-convert\" onclick=\"convertToInteractive('df-55f11282-f20a-466c-a8c8-894f06ffa90e')\"\n",
              "              title=\"Convert this dataframe to an interactive table.\"\n",
              "              style=\"display:none;\">\n",
              "        \n",
              "  <svg xmlns=\"http://www.w3.org/2000/svg\" height=\"24px\"viewBox=\"0 0 24 24\"\n",
              "       width=\"24px\">\n",
              "    <path d=\"M0 0h24v24H0V0z\" fill=\"none\"/>\n",
              "    <path d=\"M18.56 5.44l.94 2.06.94-2.06 2.06-.94-2.06-.94-.94-2.06-.94 2.06-2.06.94zm-11 1L8.5 8.5l.94-2.06 2.06-.94-2.06-.94L8.5 2.5l-.94 2.06-2.06.94zm10 10l.94 2.06.94-2.06 2.06-.94-2.06-.94-.94-2.06-.94 2.06-2.06.94z\"/><path d=\"M17.41 7.96l-1.37-1.37c-.4-.4-.92-.59-1.43-.59-.52 0-1.04.2-1.43.59L10.3 9.45l-7.72 7.72c-.78.78-.78 2.05 0 2.83L4 21.41c.39.39.9.59 1.41.59.51 0 1.02-.2 1.41-.59l7.78-7.78 2.81-2.81c.8-.78.8-2.07 0-2.86zM5.41 20L4 18.59l7.72-7.72 1.47 1.35L5.41 20z\"/>\n",
              "  </svg>\n",
              "      </button>\n",
              "      \n",
              "  <style>\n",
              "    .colab-df-container {\n",
              "      display:flex;\n",
              "      flex-wrap:wrap;\n",
              "      gap: 12px;\n",
              "    }\n",
              "\n",
              "    .colab-df-convert {\n",
              "      background-color: #E8F0FE;\n",
              "      border: none;\n",
              "      border-radius: 50%;\n",
              "      cursor: pointer;\n",
              "      display: none;\n",
              "      fill: #1967D2;\n",
              "      height: 32px;\n",
              "      padding: 0 0 0 0;\n",
              "      width: 32px;\n",
              "    }\n",
              "\n",
              "    .colab-df-convert:hover {\n",
              "      background-color: #E2EBFA;\n",
              "      box-shadow: 0px 1px 2px rgba(60, 64, 67, 0.3), 0px 1px 3px 1px rgba(60, 64, 67, 0.15);\n",
              "      fill: #174EA6;\n",
              "    }\n",
              "\n",
              "    [theme=dark] .colab-df-convert {\n",
              "      background-color: #3B4455;\n",
              "      fill: #D2E3FC;\n",
              "    }\n",
              "\n",
              "    [theme=dark] .colab-df-convert:hover {\n",
              "      background-color: #434B5C;\n",
              "      box-shadow: 0px 1px 3px 1px rgba(0, 0, 0, 0.15);\n",
              "      filter: drop-shadow(0px 1px 2px rgba(0, 0, 0, 0.3));\n",
              "      fill: #FFFFFF;\n",
              "    }\n",
              "  </style>\n",
              "\n",
              "      <script>\n",
              "        const buttonEl =\n",
              "          document.querySelector('#df-55f11282-f20a-466c-a8c8-894f06ffa90e button.colab-df-convert');\n",
              "        buttonEl.style.display =\n",
              "          google.colab.kernel.accessAllowed ? 'block' : 'none';\n",
              "\n",
              "        async function convertToInteractive(key) {\n",
              "          const element = document.querySelector('#df-55f11282-f20a-466c-a8c8-894f06ffa90e');\n",
              "          const dataTable =\n",
              "            await google.colab.kernel.invokeFunction('convertToInteractive',\n",
              "                                                     [key], {});\n",
              "          if (!dataTable) return;\n",
              "\n",
              "          const docLinkHtml = 'Like what you see? Visit the ' +\n",
              "            '<a target=\"_blank\" href=https://colab.research.google.com/notebooks/data_table.ipynb>data table notebook</a>'\n",
              "            + ' to learn more about interactive tables.';\n",
              "          element.innerHTML = '';\n",
              "          dataTable['output_type'] = 'display_data';\n",
              "          await google.colab.output.renderOutput(dataTable, element);\n",
              "          const docLink = document.createElement('div');\n",
              "          docLink.innerHTML = docLinkHtml;\n",
              "          element.appendChild(docLink);\n",
              "        }\n",
              "      </script>\n",
              "    </div>\n",
              "  </div>\n",
              "  "
            ],
            "text/plain": [
              "       전국스크린수       전국 매출액   전국 관객수\n",
              "count     164          164      164\n",
              "mean      182    768964450   104941\n",
              "std       134   2214736629   307957\n",
              "min        51      9564880     1211\n",
              "25%        79     66338667     8499\n",
              "50%       141    166973645    21952\n",
              "75%       245    507463725    65354\n",
              "max       682  17581098553  2379830"
            ]
          },
          "execution_count": 111,
          "metadata": {},
          "output_type": "execute_result"
        }
      ],
      "source": [
        "movie_resize[movie_resize['국적'] == '프랑스'].describe().astype('int64')"
      ]
    },
    {
      "cell_type": "code",
      "execution_count": null,
      "metadata": {
        "colab": {
          "base_uri": "https://localhost:8080/",
          "height": 300
        },
        "id": "soIWDIr84CVr",
        "outputId": "10a03038-3fc7-46dc-9bcc-5ef7797f457d"
      },
      "outputs": [
        {
          "data": {
            "text/html": [
              "\n",
              "  <div id=\"df-f7a4d31a-1b74-4249-a206-162e2d37ede3\">\n",
              "    <div class=\"colab-df-container\">\n",
              "      <div>\n",
              "<style scoped>\n",
              "    .dataframe tbody tr th:only-of-type {\n",
              "        vertical-align: middle;\n",
              "    }\n",
              "\n",
              "    .dataframe tbody tr th {\n",
              "        vertical-align: top;\n",
              "    }\n",
              "\n",
              "    .dataframe thead th {\n",
              "        text-align: right;\n",
              "    }\n",
              "</style>\n",
              "<table border=\"1\" class=\"dataframe\">\n",
              "  <thead>\n",
              "    <tr style=\"text-align: right;\">\n",
              "      <th></th>\n",
              "      <th>전국스크린수</th>\n",
              "      <th>전국 매출액</th>\n",
              "      <th>전국 관객수</th>\n",
              "    </tr>\n",
              "  </thead>\n",
              "  <tbody>\n",
              "    <tr>\n",
              "      <th>count</th>\n",
              "      <td>118</td>\n",
              "      <td>118</td>\n",
              "      <td>118</td>\n",
              "    </tr>\n",
              "    <tr>\n",
              "      <th>mean</th>\n",
              "      <td>191</td>\n",
              "      <td>599427583</td>\n",
              "      <td>86867</td>\n",
              "    </tr>\n",
              "    <tr>\n",
              "      <th>std</th>\n",
              "      <td>98</td>\n",
              "      <td>2006452269</td>\n",
              "      <td>304766</td>\n",
              "    </tr>\n",
              "    <tr>\n",
              "      <th>min</th>\n",
              "      <td>54</td>\n",
              "      <td>11742860</td>\n",
              "      <td>1434</td>\n",
              "    </tr>\n",
              "    <tr>\n",
              "      <th>25%</th>\n",
              "      <td>116</td>\n",
              "      <td>59170206</td>\n",
              "      <td>8265</td>\n",
              "    </tr>\n",
              "    <tr>\n",
              "      <th>50%</th>\n",
              "      <td>176</td>\n",
              "      <td>119719450</td>\n",
              "      <td>16354</td>\n",
              "    </tr>\n",
              "    <tr>\n",
              "      <th>75%</th>\n",
              "      <td>239</td>\n",
              "      <td>377359959</td>\n",
              "      <td>53967</td>\n",
              "    </tr>\n",
              "    <tr>\n",
              "      <th>max</th>\n",
              "      <td>534</td>\n",
              "      <td>17910684413</td>\n",
              "      <td>2713031</td>\n",
              "    </tr>\n",
              "  </tbody>\n",
              "</table>\n",
              "</div>\n",
              "      <button class=\"colab-df-convert\" onclick=\"convertToInteractive('df-f7a4d31a-1b74-4249-a206-162e2d37ede3')\"\n",
              "              title=\"Convert this dataframe to an interactive table.\"\n",
              "              style=\"display:none;\">\n",
              "        \n",
              "  <svg xmlns=\"http://www.w3.org/2000/svg\" height=\"24px\"viewBox=\"0 0 24 24\"\n",
              "       width=\"24px\">\n",
              "    <path d=\"M0 0h24v24H0V0z\" fill=\"none\"/>\n",
              "    <path d=\"M18.56 5.44l.94 2.06.94-2.06 2.06-.94-2.06-.94-.94-2.06-.94 2.06-2.06.94zm-11 1L8.5 8.5l.94-2.06 2.06-.94-2.06-.94L8.5 2.5l-.94 2.06-2.06.94zm10 10l.94 2.06.94-2.06 2.06-.94-2.06-.94-.94-2.06-.94 2.06-2.06.94z\"/><path d=\"M17.41 7.96l-1.37-1.37c-.4-.4-.92-.59-1.43-.59-.52 0-1.04.2-1.43.59L10.3 9.45l-7.72 7.72c-.78.78-.78 2.05 0 2.83L4 21.41c.39.39.9.59 1.41.59.51 0 1.02-.2 1.41-.59l7.78-7.78 2.81-2.81c.8-.78.8-2.07 0-2.86zM5.41 20L4 18.59l7.72-7.72 1.47 1.35L5.41 20z\"/>\n",
              "  </svg>\n",
              "      </button>\n",
              "      \n",
              "  <style>\n",
              "    .colab-df-container {\n",
              "      display:flex;\n",
              "      flex-wrap:wrap;\n",
              "      gap: 12px;\n",
              "    }\n",
              "\n",
              "    .colab-df-convert {\n",
              "      background-color: #E8F0FE;\n",
              "      border: none;\n",
              "      border-radius: 50%;\n",
              "      cursor: pointer;\n",
              "      display: none;\n",
              "      fill: #1967D2;\n",
              "      height: 32px;\n",
              "      padding: 0 0 0 0;\n",
              "      width: 32px;\n",
              "    }\n",
              "\n",
              "    .colab-df-convert:hover {\n",
              "      background-color: #E2EBFA;\n",
              "      box-shadow: 0px 1px 2px rgba(60, 64, 67, 0.3), 0px 1px 3px 1px rgba(60, 64, 67, 0.15);\n",
              "      fill: #174EA6;\n",
              "    }\n",
              "\n",
              "    [theme=dark] .colab-df-convert {\n",
              "      background-color: #3B4455;\n",
              "      fill: #D2E3FC;\n",
              "    }\n",
              "\n",
              "    [theme=dark] .colab-df-convert:hover {\n",
              "      background-color: #434B5C;\n",
              "      box-shadow: 0px 1px 3px 1px rgba(0, 0, 0, 0.15);\n",
              "      filter: drop-shadow(0px 1px 2px rgba(0, 0, 0, 0.3));\n",
              "      fill: #FFFFFF;\n",
              "    }\n",
              "  </style>\n",
              "\n",
              "      <script>\n",
              "        const buttonEl =\n",
              "          document.querySelector('#df-f7a4d31a-1b74-4249-a206-162e2d37ede3 button.colab-df-convert');\n",
              "        buttonEl.style.display =\n",
              "          google.colab.kernel.accessAllowed ? 'block' : 'none';\n",
              "\n",
              "        async function convertToInteractive(key) {\n",
              "          const element = document.querySelector('#df-f7a4d31a-1b74-4249-a206-162e2d37ede3');\n",
              "          const dataTable =\n",
              "            await google.colab.kernel.invokeFunction('convertToInteractive',\n",
              "                                                     [key], {});\n",
              "          if (!dataTable) return;\n",
              "\n",
              "          const docLinkHtml = 'Like what you see? Visit the ' +\n",
              "            '<a target=\"_blank\" href=https://colab.research.google.com/notebooks/data_table.ipynb>data table notebook</a>'\n",
              "            + ' to learn more about interactive tables.';\n",
              "          element.innerHTML = '';\n",
              "          dataTable['output_type'] = 'display_data';\n",
              "          await google.colab.output.renderOutput(dataTable, element);\n",
              "          const docLink = document.createElement('div');\n",
              "          docLink.innerHTML = docLinkHtml;\n",
              "          element.appendChild(docLink);\n",
              "        }\n",
              "      </script>\n",
              "    </div>\n",
              "  </div>\n",
              "  "
            ],
            "text/plain": [
              "       전국스크린수       전국 매출액   전국 관객수\n",
              "count     118          118      118\n",
              "mean      191    599427583    86867\n",
              "std        98   2006452269   304766\n",
              "min        54     11742860     1434\n",
              "25%       116     59170206     8265\n",
              "50%       176    119719450    16354\n",
              "75%       239    377359959    53967\n",
              "max       534  17910684413  2713031"
            ]
          },
          "execution_count": 112,
          "metadata": {},
          "output_type": "execute_result"
        }
      ],
      "source": [
        "movie_resize[movie_resize['국적'] == '중국'].describe().astype('int64')"
      ]
    },
    {
      "cell_type": "code",
      "execution_count": null,
      "metadata": {
        "colab": {
          "base_uri": "https://localhost:8080/",
          "height": 300
        },
        "id": "uRYCthWU4C4H",
        "outputId": "0541b7a0-33f3-41d7-c09b-e47ffb72329f"
      },
      "outputs": [
        {
          "data": {
            "text/html": [
              "\n",
              "  <div id=\"df-3e3f8c29-7bf2-402e-b682-90d9b03c3fab\">\n",
              "    <div class=\"colab-df-container\">\n",
              "      <div>\n",
              "<style scoped>\n",
              "    .dataframe tbody tr th:only-of-type {\n",
              "        vertical-align: middle;\n",
              "    }\n",
              "\n",
              "    .dataframe tbody tr th {\n",
              "        vertical-align: top;\n",
              "    }\n",
              "\n",
              "    .dataframe thead th {\n",
              "        text-align: right;\n",
              "    }\n",
              "</style>\n",
              "<table border=\"1\" class=\"dataframe\">\n",
              "  <thead>\n",
              "    <tr style=\"text-align: right;\">\n",
              "      <th></th>\n",
              "      <th>전국스크린수</th>\n",
              "      <th>전국 매출액</th>\n",
              "      <th>전국 관객수</th>\n",
              "    </tr>\n",
              "  </thead>\n",
              "  <tbody>\n",
              "    <tr>\n",
              "      <th>count</th>\n",
              "      <td>57</td>\n",
              "      <td>57</td>\n",
              "      <td>57</td>\n",
              "    </tr>\n",
              "    <tr>\n",
              "      <th>mean</th>\n",
              "      <td>193</td>\n",
              "      <td>826068628</td>\n",
              "      <td>97901</td>\n",
              "    </tr>\n",
              "    <tr>\n",
              "      <th>std</th>\n",
              "      <td>131</td>\n",
              "      <td>2160720062</td>\n",
              "      <td>203324</td>\n",
              "    </tr>\n",
              "    <tr>\n",
              "      <th>min</th>\n",
              "      <td>54</td>\n",
              "      <td>10807570</td>\n",
              "      <td>1286</td>\n",
              "    </tr>\n",
              "    <tr>\n",
              "      <th>25%</th>\n",
              "      <td>86</td>\n",
              "      <td>57403200</td>\n",
              "      <td>7930</td>\n",
              "    </tr>\n",
              "    <tr>\n",
              "      <th>50%</th>\n",
              "      <td>175</td>\n",
              "      <td>134959700</td>\n",
              "      <td>16955</td>\n",
              "    </tr>\n",
              "    <tr>\n",
              "      <th>75%</th>\n",
              "      <td>263</td>\n",
              "      <td>582071200</td>\n",
              "      <td>79446</td>\n",
              "    </tr>\n",
              "    <tr>\n",
              "      <th>max</th>\n",
              "      <td>617</td>\n",
              "      <td>14767125516</td>\n",
              "      <td>1209538</td>\n",
              "    </tr>\n",
              "  </tbody>\n",
              "</table>\n",
              "</div>\n",
              "      <button class=\"colab-df-convert\" onclick=\"convertToInteractive('df-3e3f8c29-7bf2-402e-b682-90d9b03c3fab')\"\n",
              "              title=\"Convert this dataframe to an interactive table.\"\n",
              "              style=\"display:none;\">\n",
              "        \n",
              "  <svg xmlns=\"http://www.w3.org/2000/svg\" height=\"24px\"viewBox=\"0 0 24 24\"\n",
              "       width=\"24px\">\n",
              "    <path d=\"M0 0h24v24H0V0z\" fill=\"none\"/>\n",
              "    <path d=\"M18.56 5.44l.94 2.06.94-2.06 2.06-.94-2.06-.94-.94-2.06-.94 2.06-2.06.94zm-11 1L8.5 8.5l.94-2.06 2.06-.94-2.06-.94L8.5 2.5l-.94 2.06-2.06.94zm10 10l.94 2.06.94-2.06 2.06-.94-2.06-.94-.94-2.06-.94 2.06-2.06.94z\"/><path d=\"M17.41 7.96l-1.37-1.37c-.4-.4-.92-.59-1.43-.59-.52 0-1.04.2-1.43.59L10.3 9.45l-7.72 7.72c-.78.78-.78 2.05 0 2.83L4 21.41c.39.39.9.59 1.41.59.51 0 1.02-.2 1.41-.59l7.78-7.78 2.81-2.81c.8-.78.8-2.07 0-2.86zM5.41 20L4 18.59l7.72-7.72 1.47 1.35L5.41 20z\"/>\n",
              "  </svg>\n",
              "      </button>\n",
              "      \n",
              "  <style>\n",
              "    .colab-df-container {\n",
              "      display:flex;\n",
              "      flex-wrap:wrap;\n",
              "      gap: 12px;\n",
              "    }\n",
              "\n",
              "    .colab-df-convert {\n",
              "      background-color: #E8F0FE;\n",
              "      border: none;\n",
              "      border-radius: 50%;\n",
              "      cursor: pointer;\n",
              "      display: none;\n",
              "      fill: #1967D2;\n",
              "      height: 32px;\n",
              "      padding: 0 0 0 0;\n",
              "      width: 32px;\n",
              "    }\n",
              "\n",
              "    .colab-df-convert:hover {\n",
              "      background-color: #E2EBFA;\n",
              "      box-shadow: 0px 1px 2px rgba(60, 64, 67, 0.3), 0px 1px 3px 1px rgba(60, 64, 67, 0.15);\n",
              "      fill: #174EA6;\n",
              "    }\n",
              "\n",
              "    [theme=dark] .colab-df-convert {\n",
              "      background-color: #3B4455;\n",
              "      fill: #D2E3FC;\n",
              "    }\n",
              "\n",
              "    [theme=dark] .colab-df-convert:hover {\n",
              "      background-color: #434B5C;\n",
              "      box-shadow: 0px 1px 3px 1px rgba(0, 0, 0, 0.15);\n",
              "      filter: drop-shadow(0px 1px 2px rgba(0, 0, 0, 0.3));\n",
              "      fill: #FFFFFF;\n",
              "    }\n",
              "  </style>\n",
              "\n",
              "      <script>\n",
              "        const buttonEl =\n",
              "          document.querySelector('#df-3e3f8c29-7bf2-402e-b682-90d9b03c3fab button.colab-df-convert');\n",
              "        buttonEl.style.display =\n",
              "          google.colab.kernel.accessAllowed ? 'block' : 'none';\n",
              "\n",
              "        async function convertToInteractive(key) {\n",
              "          const element = document.querySelector('#df-3e3f8c29-7bf2-402e-b682-90d9b03c3fab');\n",
              "          const dataTable =\n",
              "            await google.colab.kernel.invokeFunction('convertToInteractive',\n",
              "                                                     [key], {});\n",
              "          if (!dataTable) return;\n",
              "\n",
              "          const docLinkHtml = 'Like what you see? Visit the ' +\n",
              "            '<a target=\"_blank\" href=https://colab.research.google.com/notebooks/data_table.ipynb>data table notebook</a>'\n",
              "            + ' to learn more about interactive tables.';\n",
              "          element.innerHTML = '';\n",
              "          dataTable['output_type'] = 'display_data';\n",
              "          await google.colab.output.renderOutput(dataTable, element);\n",
              "          const docLink = document.createElement('div');\n",
              "          docLink.innerHTML = docLinkHtml;\n",
              "          element.appendChild(docLink);\n",
              "        }\n",
              "      </script>\n",
              "    </div>\n",
              "  </div>\n",
              "  "
            ],
            "text/plain": [
              "       전국스크린수       전국 매출액   전국 관객수\n",
              "count      57           57       57\n",
              "mean      193    826068628    97901\n",
              "std       131   2160720062   203324\n",
              "min        54     10807570     1286\n",
              "25%        86     57403200     7930\n",
              "50%       175    134959700    16955\n",
              "75%       263    582071200    79446\n",
              "max       617  14767125516  1209538"
            ]
          },
          "execution_count": 113,
          "metadata": {},
          "output_type": "execute_result"
        }
      ],
      "source": [
        "movie_resize[movie_resize['국적'] == '독일'].describe().astype('int64')"
      ]
    },
    {
      "cell_type": "code",
      "execution_count": null,
      "metadata": {
        "colab": {
          "base_uri": "https://localhost:8080/",
          "height": 300
        },
        "id": "BcVwG6q_4VO7",
        "outputId": "49144451-1928-4746-b947-6b64918b7618"
      },
      "outputs": [
        {
          "data": {
            "text/html": [
              "\n",
              "  <div id=\"df-1c080b30-b41e-406f-9484-09b6b7a7943d\">\n",
              "    <div class=\"colab-df-container\">\n",
              "      <div>\n",
              "<style scoped>\n",
              "    .dataframe tbody tr th:only-of-type {\n",
              "        vertical-align: middle;\n",
              "    }\n",
              "\n",
              "    .dataframe tbody tr th {\n",
              "        vertical-align: top;\n",
              "    }\n",
              "\n",
              "    .dataframe thead th {\n",
              "        text-align: right;\n",
              "    }\n",
              "</style>\n",
              "<table border=\"1\" class=\"dataframe\">\n",
              "  <thead>\n",
              "    <tr style=\"text-align: right;\">\n",
              "      <th></th>\n",
              "      <th>전국스크린수</th>\n",
              "      <th>전국 매출액</th>\n",
              "      <th>전국 관객수</th>\n",
              "    </tr>\n",
              "  </thead>\n",
              "  <tbody>\n",
              "    <tr>\n",
              "      <th>count</th>\n",
              "      <td>46</td>\n",
              "      <td>46</td>\n",
              "      <td>46</td>\n",
              "    </tr>\n",
              "    <tr>\n",
              "      <th>mean</th>\n",
              "      <td>187</td>\n",
              "      <td>519447924</td>\n",
              "      <td>72080</td>\n",
              "    </tr>\n",
              "    <tr>\n",
              "      <th>std</th>\n",
              "      <td>104</td>\n",
              "      <td>758112983</td>\n",
              "      <td>106325</td>\n",
              "    </tr>\n",
              "    <tr>\n",
              "      <th>min</th>\n",
              "      <td>52</td>\n",
              "      <td>17855200</td>\n",
              "      <td>2046</td>\n",
              "    </tr>\n",
              "    <tr>\n",
              "      <th>25%</th>\n",
              "      <td>97</td>\n",
              "      <td>101154240</td>\n",
              "      <td>11924</td>\n",
              "    </tr>\n",
              "    <tr>\n",
              "      <th>50%</th>\n",
              "      <td>164</td>\n",
              "      <td>236829253</td>\n",
              "      <td>33878</td>\n",
              "    </tr>\n",
              "    <tr>\n",
              "      <th>75%</th>\n",
              "      <td>232</td>\n",
              "      <td>583929125</td>\n",
              "      <td>76098</td>\n",
              "    </tr>\n",
              "    <tr>\n",
              "      <th>max</th>\n",
              "      <td>441</td>\n",
              "      <td>4444581500</td>\n",
              "      <td>622572</td>\n",
              "    </tr>\n",
              "  </tbody>\n",
              "</table>\n",
              "</div>\n",
              "      <button class=\"colab-df-convert\" onclick=\"convertToInteractive('df-1c080b30-b41e-406f-9484-09b6b7a7943d')\"\n",
              "              title=\"Convert this dataframe to an interactive table.\"\n",
              "              style=\"display:none;\">\n",
              "        \n",
              "  <svg xmlns=\"http://www.w3.org/2000/svg\" height=\"24px\"viewBox=\"0 0 24 24\"\n",
              "       width=\"24px\">\n",
              "    <path d=\"M0 0h24v24H0V0z\" fill=\"none\"/>\n",
              "    <path d=\"M18.56 5.44l.94 2.06.94-2.06 2.06-.94-2.06-.94-.94-2.06-.94 2.06-2.06.94zm-11 1L8.5 8.5l.94-2.06 2.06-.94-2.06-.94L8.5 2.5l-.94 2.06-2.06.94zm10 10l.94 2.06.94-2.06 2.06-.94-2.06-.94-.94-2.06-.94 2.06-2.06.94z\"/><path d=\"M17.41 7.96l-1.37-1.37c-.4-.4-.92-.59-1.43-.59-.52 0-1.04.2-1.43.59L10.3 9.45l-7.72 7.72c-.78.78-.78 2.05 0 2.83L4 21.41c.39.39.9.59 1.41.59.51 0 1.02-.2 1.41-.59l7.78-7.78 2.81-2.81c.8-.78.8-2.07 0-2.86zM5.41 20L4 18.59l7.72-7.72 1.47 1.35L5.41 20z\"/>\n",
              "  </svg>\n",
              "      </button>\n",
              "      \n",
              "  <style>\n",
              "    .colab-df-container {\n",
              "      display:flex;\n",
              "      flex-wrap:wrap;\n",
              "      gap: 12px;\n",
              "    }\n",
              "\n",
              "    .colab-df-convert {\n",
              "      background-color: #E8F0FE;\n",
              "      border: none;\n",
              "      border-radius: 50%;\n",
              "      cursor: pointer;\n",
              "      display: none;\n",
              "      fill: #1967D2;\n",
              "      height: 32px;\n",
              "      padding: 0 0 0 0;\n",
              "      width: 32px;\n",
              "    }\n",
              "\n",
              "    .colab-df-convert:hover {\n",
              "      background-color: #E2EBFA;\n",
              "      box-shadow: 0px 1px 2px rgba(60, 64, 67, 0.3), 0px 1px 3px 1px rgba(60, 64, 67, 0.15);\n",
              "      fill: #174EA6;\n",
              "    }\n",
              "\n",
              "    [theme=dark] .colab-df-convert {\n",
              "      background-color: #3B4455;\n",
              "      fill: #D2E3FC;\n",
              "    }\n",
              "\n",
              "    [theme=dark] .colab-df-convert:hover {\n",
              "      background-color: #434B5C;\n",
              "      box-shadow: 0px 1px 3px 1px rgba(0, 0, 0, 0.15);\n",
              "      filter: drop-shadow(0px 1px 2px rgba(0, 0, 0, 0.3));\n",
              "      fill: #FFFFFF;\n",
              "    }\n",
              "  </style>\n",
              "\n",
              "      <script>\n",
              "        const buttonEl =\n",
              "          document.querySelector('#df-1c080b30-b41e-406f-9484-09b6b7a7943d button.colab-df-convert');\n",
              "        buttonEl.style.display =\n",
              "          google.colab.kernel.accessAllowed ? 'block' : 'none';\n",
              "\n",
              "        async function convertToInteractive(key) {\n",
              "          const element = document.querySelector('#df-1c080b30-b41e-406f-9484-09b6b7a7943d');\n",
              "          const dataTable =\n",
              "            await google.colab.kernel.invokeFunction('convertToInteractive',\n",
              "                                                     [key], {});\n",
              "          if (!dataTable) return;\n",
              "\n",
              "          const docLinkHtml = 'Like what you see? Visit the ' +\n",
              "            '<a target=\"_blank\" href=https://colab.research.google.com/notebooks/data_table.ipynb>data table notebook</a>'\n",
              "            + ' to learn more about interactive tables.';\n",
              "          element.innerHTML = '';\n",
              "          dataTable['output_type'] = 'display_data';\n",
              "          await google.colab.output.renderOutput(dataTable, element);\n",
              "          const docLink = document.createElement('div');\n",
              "          docLink.innerHTML = docLinkHtml;\n",
              "          element.appendChild(docLink);\n",
              "        }\n",
              "      </script>\n",
              "    </div>\n",
              "  </div>\n",
              "  "
            ],
            "text/plain": [
              "       전국스크린수      전국 매출액  전국 관객수\n",
              "count      46          46      46\n",
              "mean      187   519447924   72080\n",
              "std       104   758112983  106325\n",
              "min        52    17855200    2046\n",
              "25%        97   101154240   11924\n",
              "50%       164   236829253   33878\n",
              "75%       232   583929125   76098\n",
              "max       441  4444581500  622572"
            ]
          },
          "execution_count": 114,
          "metadata": {},
          "output_type": "execute_result"
        }
      ],
      "source": [
        "movie_resize[movie_resize['국적'] == '스페인'].describe().astype('int64')"
      ]
    },
    {
      "cell_type": "code",
      "execution_count": null,
      "metadata": {
        "colab": {
          "base_uri": "https://localhost:8080/",
          "height": 300
        },
        "id": "pTVynR9t4ab7",
        "outputId": "25ba7f90-b0f3-4a03-a67e-43b35276133a"
      },
      "outputs": [
        {
          "data": {
            "text/html": [
              "\n",
              "  <div id=\"df-d3cb7eb5-fc7a-4946-b152-6921619f2ef5\">\n",
              "    <div class=\"colab-df-container\">\n",
              "      <div>\n",
              "<style scoped>\n",
              "    .dataframe tbody tr th:only-of-type {\n",
              "        vertical-align: middle;\n",
              "    }\n",
              "\n",
              "    .dataframe tbody tr th {\n",
              "        vertical-align: top;\n",
              "    }\n",
              "\n",
              "    .dataframe thead th {\n",
              "        text-align: right;\n",
              "    }\n",
              "</style>\n",
              "<table border=\"1\" class=\"dataframe\">\n",
              "  <thead>\n",
              "    <tr style=\"text-align: right;\">\n",
              "      <th></th>\n",
              "      <th>전국스크린수</th>\n",
              "      <th>전국 매출액</th>\n",
              "      <th>전국 관객수</th>\n",
              "    </tr>\n",
              "  </thead>\n",
              "  <tbody>\n",
              "    <tr>\n",
              "      <th>count</th>\n",
              "      <td>40</td>\n",
              "      <td>40</td>\n",
              "      <td>40</td>\n",
              "    </tr>\n",
              "    <tr>\n",
              "      <th>mean</th>\n",
              "      <td>142</td>\n",
              "      <td>300358912</td>\n",
              "      <td>41242</td>\n",
              "    </tr>\n",
              "    <tr>\n",
              "      <th>std</th>\n",
              "      <td>84</td>\n",
              "      <td>719700067</td>\n",
              "      <td>105455</td>\n",
              "    </tr>\n",
              "    <tr>\n",
              "      <th>min</th>\n",
              "      <td>52</td>\n",
              "      <td>10032160</td>\n",
              "      <td>1307</td>\n",
              "    </tr>\n",
              "    <tr>\n",
              "      <th>25%</th>\n",
              "      <td>76</td>\n",
              "      <td>40787510</td>\n",
              "      <td>4868</td>\n",
              "    </tr>\n",
              "    <tr>\n",
              "      <th>50%</th>\n",
              "      <td>128</td>\n",
              "      <td>81691230</td>\n",
              "      <td>10812</td>\n",
              "    </tr>\n",
              "    <tr>\n",
              "      <th>75%</th>\n",
              "      <td>185</td>\n",
              "      <td>227740488</td>\n",
              "      <td>30548</td>\n",
              "    </tr>\n",
              "    <tr>\n",
              "      <th>max</th>\n",
              "      <td>335</td>\n",
              "      <td>4356692000</td>\n",
              "      <td>645218</td>\n",
              "    </tr>\n",
              "  </tbody>\n",
              "</table>\n",
              "</div>\n",
              "      <button class=\"colab-df-convert\" onclick=\"convertToInteractive('df-d3cb7eb5-fc7a-4946-b152-6921619f2ef5')\"\n",
              "              title=\"Convert this dataframe to an interactive table.\"\n",
              "              style=\"display:none;\">\n",
              "        \n",
              "  <svg xmlns=\"http://www.w3.org/2000/svg\" height=\"24px\"viewBox=\"0 0 24 24\"\n",
              "       width=\"24px\">\n",
              "    <path d=\"M0 0h24v24H0V0z\" fill=\"none\"/>\n",
              "    <path d=\"M18.56 5.44l.94 2.06.94-2.06 2.06-.94-2.06-.94-.94-2.06-.94 2.06-2.06.94zm-11 1L8.5 8.5l.94-2.06 2.06-.94-2.06-.94L8.5 2.5l-.94 2.06-2.06.94zm10 10l.94 2.06.94-2.06 2.06-.94-2.06-.94-.94-2.06-.94 2.06-2.06.94z\"/><path d=\"M17.41 7.96l-1.37-1.37c-.4-.4-.92-.59-1.43-.59-.52 0-1.04.2-1.43.59L10.3 9.45l-7.72 7.72c-.78.78-.78 2.05 0 2.83L4 21.41c.39.39.9.59 1.41.59.51 0 1.02-.2 1.41-.59l7.78-7.78 2.81-2.81c.8-.78.8-2.07 0-2.86zM5.41 20L4 18.59l7.72-7.72 1.47 1.35L5.41 20z\"/>\n",
              "  </svg>\n",
              "      </button>\n",
              "      \n",
              "  <style>\n",
              "    .colab-df-container {\n",
              "      display:flex;\n",
              "      flex-wrap:wrap;\n",
              "      gap: 12px;\n",
              "    }\n",
              "\n",
              "    .colab-df-convert {\n",
              "      background-color: #E8F0FE;\n",
              "      border: none;\n",
              "      border-radius: 50%;\n",
              "      cursor: pointer;\n",
              "      display: none;\n",
              "      fill: #1967D2;\n",
              "      height: 32px;\n",
              "      padding: 0 0 0 0;\n",
              "      width: 32px;\n",
              "    }\n",
              "\n",
              "    .colab-df-convert:hover {\n",
              "      background-color: #E2EBFA;\n",
              "      box-shadow: 0px 1px 2px rgba(60, 64, 67, 0.3), 0px 1px 3px 1px rgba(60, 64, 67, 0.15);\n",
              "      fill: #174EA6;\n",
              "    }\n",
              "\n",
              "    [theme=dark] .colab-df-convert {\n",
              "      background-color: #3B4455;\n",
              "      fill: #D2E3FC;\n",
              "    }\n",
              "\n",
              "    [theme=dark] .colab-df-convert:hover {\n",
              "      background-color: #434B5C;\n",
              "      box-shadow: 0px 1px 3px 1px rgba(0, 0, 0, 0.15);\n",
              "      filter: drop-shadow(0px 1px 2px rgba(0, 0, 0, 0.3));\n",
              "      fill: #FFFFFF;\n",
              "    }\n",
              "  </style>\n",
              "\n",
              "      <script>\n",
              "        const buttonEl =\n",
              "          document.querySelector('#df-d3cb7eb5-fc7a-4946-b152-6921619f2ef5 button.colab-df-convert');\n",
              "        buttonEl.style.display =\n",
              "          google.colab.kernel.accessAllowed ? 'block' : 'none';\n",
              "\n",
              "        async function convertToInteractive(key) {\n",
              "          const element = document.querySelector('#df-d3cb7eb5-fc7a-4946-b152-6921619f2ef5');\n",
              "          const dataTable =\n",
              "            await google.colab.kernel.invokeFunction('convertToInteractive',\n",
              "                                                     [key], {});\n",
              "          if (!dataTable) return;\n",
              "\n",
              "          const docLinkHtml = 'Like what you see? Visit the ' +\n",
              "            '<a target=\"_blank\" href=https://colab.research.google.com/notebooks/data_table.ipynb>data table notebook</a>'\n",
              "            + ' to learn more about interactive tables.';\n",
              "          element.innerHTML = '';\n",
              "          dataTable['output_type'] = 'display_data';\n",
              "          await google.colab.output.renderOutput(dataTable, element);\n",
              "          const docLink = document.createElement('div');\n",
              "          docLink.innerHTML = docLinkHtml;\n",
              "          element.appendChild(docLink);\n",
              "        }\n",
              "      </script>\n",
              "    </div>\n",
              "  </div>\n",
              "  "
            ],
            "text/plain": [
              "       전국스크린수      전국 매출액  전국 관객수\n",
              "count      40          40      40\n",
              "mean      142   300358912   41242\n",
              "std        84   719700067  105455\n",
              "min        52    10032160    1307\n",
              "25%        76    40787510    4868\n",
              "50%       128    81691230   10812\n",
              "75%       185   227740488   30548\n",
              "max       335  4356692000  645218"
            ]
          },
          "execution_count": 115,
          "metadata": {},
          "output_type": "execute_result"
        }
      ],
      "source": [
        "movie_resize[movie_resize['국적'] == '캐나다'].describe().astype('int64')"
      ]
    },
    {
      "cell_type": "code",
      "execution_count": null,
      "metadata": {
        "id": "wu9AWikX4uur"
      },
      "outputs": [],
      "source": [
        "# 국적 데이터 변경\n",
        "for idx, row in movie_resize.iterrows():\n",
        "    if  row['국적'] not in ['미국', '한국', '일본', '영국', '프랑스', '중국', '독일']:\n",
        "        movie_resize['국적'][idx] = '기타'"
      ]
    },
    {
      "cell_type": "code",
      "execution_count": null,
      "metadata": {
        "colab": {
          "base_uri": "https://localhost:8080/"
        },
        "id": "PAxBQ3IM498q",
        "outputId": "af78d0df-ed0f-4eed-8bc0-1d15f83afe57"
      },
      "outputs": [
        {
          "data": {
            "text/plain": [
              "미국    1522\n",
              "한국    1261\n",
              "기타     689\n",
              "일본     409\n",
              "영국     187\n",
              "독일      57\n",
              "Name: 국적, dtype: int64"
            ]
          },
          "execution_count": 122,
          "metadata": {},
          "output_type": "execute_result"
        }
      ],
      "source": [
        "movie_resize['국적'].value_counts()"
      ]
    },
    {
      "cell_type": "code",
      "execution_count": null,
      "metadata": {
        "colab": {
          "base_uri": "https://localhost:8080/",
          "height": 323
        },
        "id": "WZEKe0vi4mjG",
        "outputId": "13ed7475-ecd7-4e5e-b89f-008ec018189c"
      },
      "outputs": [
        {
          "data": {
            "image/png": "[encoded data removed]",
            "text/plain": [
              "<Figure size 504x360 with 2 Axes>"
            ]
          },
          "metadata": {
            "needs_background": "light"
          },
          "output_type": "display_data"
        }
      ],
      "source": [
        "plt.figure(figsize=(7, 5))\n",
        "sns.heatmap(data=movie_resize[['전국스크린수', '전국 매출액', '전국 관객수']].corr(), fmt='.2f', annot=True)\n",
        "plt.show()\n",
        "# 매출액과 관객수가 거의 똑같아...\n",
        "# 매출액 티켓값 달라지고..."
      ]
    },
    {
      "cell_type": "code",
      "execution_count": null,
      "metadata": {
        "id": "G3b0Ni6x7AGk"
      },
      "outputs": [],
      "source": []
    }
  ],
  "metadata": {
    "accelerator": "GPU",
    "colab": {
      "provenance": []
    },
    "gpuClass": "standard",
    "kernelspec": {
      "display_name": "Python 3",
      "name": "python3"
    },
    "language_info": {
      "codemirror_mode": {
        "name": "ipython",
        "version": 3
      },
      "file_extension": ".py",
      "mimetype": "text/x-python",
      "name": "python",
      "nbconvert_exporter": "python",
      "pygments_lexer": "ipython3",
      "version": "3.9.13"
    }
  },
  "nbformat": 4,
  "nbformat_minor": 0
}
