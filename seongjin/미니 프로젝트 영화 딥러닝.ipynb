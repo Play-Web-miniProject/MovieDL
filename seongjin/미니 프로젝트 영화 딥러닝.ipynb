{
 "cells": [
  {
   "cell_type": "code",
   "execution_count": null,
   "metadata": {},
   "outputs": [],
   "source": [
    "pip install tensorflow"
   ]
  },
  {
   "cell_type": "code",
   "execution_count": null,
   "metadata": {},
   "outputs": [],
   "source": [
    "pip install seaborn"
   ]
  },
  {
   "cell_type": "code",
   "execution_count": 2,
   "metadata": {
    "id": "2bV5sLAIRzJy"
   },
   "outputs": [],
   "source": [
    "import tensorflow as tf\n",
    "import numpy as np\n",
    "import pandas as pd\n",
    "import matplotlib.pyplot as plt\n",
    "import seaborn as sns\n",
    "data_file = \"movie_resize2.csv\"\n",
    "df = pd.read_csv(data_file, encoding='utf-8',index_col = \"영화명\")\n",
    "\n",
    "# data_file1 = \"./KOBIS_역대_박스오피스_2023-03-22.csv\"\n",
    "# df1 = pd.read_csv(data_file1, encoding='utf-8', index_col = \"순위\")"
   ]
  },
  {
   "cell_type": "code",
   "execution_count": 3,
   "metadata": {
    "colab": {
     "base_uri": "https://localhost:8080/",
     "height": 690
    },
    "executionInfo": {
     "elapsed": 4,
     "status": "ok",
     "timestamp": 1679467357912,
     "user": {
      "displayName": "Seong-jin Oh",
      "userId": "11643747649955714296"
     },
     "user_tz": -540
    },
    "id": "92I61mzw2krq",
    "outputId": "b9b2734b-9a6b-441c-a7cc-46f971d9b010"
   },
   "outputs": [
    {
     "data": {
      "text/html": [
       "<div>\n",
       "<style scoped>\n",
       "    .dataframe tbody tr th:only-of-type {\n",
       "        vertical-align: middle;\n",
       "    }\n",
       "\n",
       "    .dataframe tbody tr th {\n",
       "        vertical-align: top;\n",
       "    }\n",
       "\n",
       "    .dataframe thead th {\n",
       "        text-align: right;\n",
       "    }\n",
       "</style>\n",
       "<table border=\"1\" class=\"dataframe\">\n",
       "  <thead>\n",
       "    <tr style=\"text-align: right;\">\n",
       "      <th></th>\n",
       "      <th>감독</th>\n",
       "      <th>배급사</th>\n",
       "      <th>개봉일</th>\n",
       "      <th>영화형태</th>\n",
       "      <th>국적</th>\n",
       "      <th>전국 스크린수</th>\n",
       "      <th>전국 매출액</th>\n",
       "      <th>전국 관객수</th>\n",
       "      <th>서울 매출액</th>\n",
       "      <th>서울 관객수</th>\n",
       "      <th>장르</th>\n",
       "      <th>등급</th>\n",
       "      <th>영화구분</th>\n",
       "    </tr>\n",
       "    <tr>\n",
       "      <th>영화명</th>\n",
       "      <th></th>\n",
       "      <th></th>\n",
       "      <th></th>\n",
       "      <th></th>\n",
       "      <th></th>\n",
       "      <th></th>\n",
       "      <th></th>\n",
       "      <th></th>\n",
       "      <th></th>\n",
       "      <th></th>\n",
       "      <th></th>\n",
       "      <th></th>\n",
       "      <th></th>\n",
       "    </tr>\n",
       "  </thead>\n",
       "  <tbody>\n",
       "    <tr>\n",
       "      <th>명량</th>\n",
       "      <td>김한민</td>\n",
       "      <td>씨제이이엔엠</td>\n",
       "      <td>2014-07-30</td>\n",
       "      <td>장편</td>\n",
       "      <td>한국</td>\n",
       "      <td>1587</td>\n",
       "      <td>135748398910</td>\n",
       "      <td>17613682</td>\n",
       "      <td>33,121,225,810</td>\n",
       "      <td>4,163,666</td>\n",
       "      <td>사극</td>\n",
       "      <td>15세관람가</td>\n",
       "      <td>일반영화</td>\n",
       "    </tr>\n",
       "    <tr>\n",
       "      <th>극한직업</th>\n",
       "      <td>이병헌</td>\n",
       "      <td>씨제이이엔엠</td>\n",
       "      <td>2019-01-23</td>\n",
       "      <td>장편</td>\n",
       "      <td>한국</td>\n",
       "      <td>1978</td>\n",
       "      <td>139647979516</td>\n",
       "      <td>16264944</td>\n",
       "      <td>31,858,660,536</td>\n",
       "      <td>3,638,287</td>\n",
       "      <td>코미디</td>\n",
       "      <td>15세관람가</td>\n",
       "      <td>일반영화</td>\n",
       "    </tr>\n",
       "    <tr>\n",
       "      <th>신과함께-죄와 벌</th>\n",
       "      <td>김용화</td>\n",
       "      <td>롯데엔터테인먼트</td>\n",
       "      <td>2017-12-20</td>\n",
       "      <td>장편</td>\n",
       "      <td>한국</td>\n",
       "      <td>1912</td>\n",
       "      <td>115698654137</td>\n",
       "      <td>14410754</td>\n",
       "      <td>27,530,825,087</td>\n",
       "      <td>3,346,172</td>\n",
       "      <td>판타지</td>\n",
       "      <td>12세관람가</td>\n",
       "      <td>일반영화</td>\n",
       "    </tr>\n",
       "    <tr>\n",
       "      <th>국제시장</th>\n",
       "      <td>윤제균</td>\n",
       "      <td>씨제이이엔엠</td>\n",
       "      <td>2014-12-17</td>\n",
       "      <td>장편</td>\n",
       "      <td>한국</td>\n",
       "      <td>966</td>\n",
       "      <td>110828014630</td>\n",
       "      <td>14245998</td>\n",
       "      <td>25,842,519,330</td>\n",
       "      <td>3,233,946</td>\n",
       "      <td>드라마</td>\n",
       "      <td>12세관람가</td>\n",
       "      <td>일반영화</td>\n",
       "    </tr>\n",
       "    <tr>\n",
       "      <th>어벤져스: 엔드게임</th>\n",
       "      <td>안소니 루소</td>\n",
       "      <td>월트디즈니스튜디오스코리아</td>\n",
       "      <td>2019-04-24</td>\n",
       "      <td>장편</td>\n",
       "      <td>미국</td>\n",
       "      <td>2835</td>\n",
       "      <td>122182694160</td>\n",
       "      <td>13934592</td>\n",
       "      <td>33,577,136,860</td>\n",
       "      <td>3,597,963</td>\n",
       "      <td>액션</td>\n",
       "      <td>12세관람가</td>\n",
       "      <td>일반영화</td>\n",
       "    </tr>\n",
       "    <tr>\n",
       "      <th>...</th>\n",
       "      <td>...</td>\n",
       "      <td>...</td>\n",
       "      <td>...</td>\n",
       "      <td>...</td>\n",
       "      <td>...</td>\n",
       "      <td>...</td>\n",
       "      <td>...</td>\n",
       "      <td>...</td>\n",
       "      <td>...</td>\n",
       "      <td>...</td>\n",
       "      <td>...</td>\n",
       "      <td>...</td>\n",
       "      <td>...</td>\n",
       "    </tr>\n",
       "    <tr>\n",
       "      <th>나의 어머니</th>\n",
       "      <td>난니 모레티</td>\n",
       "      <td>티캐스트</td>\n",
       "      <td>2015-08-20</td>\n",
       "      <td>장편</td>\n",
       "      <td>기타</td>\n",
       "      <td>30</td>\n",
       "      <td>76569151</td>\n",
       "      <td>10031</td>\n",
       "      <td>59,303,651</td>\n",
       "      <td>7,301</td>\n",
       "      <td>드라마</td>\n",
       "      <td>12세관람가</td>\n",
       "      <td>독립/예술영화</td>\n",
       "    </tr>\n",
       "    <tr>\n",
       "      <th>타이페이 카페 스토리</th>\n",
       "      <td>샤오 야 췐</td>\n",
       "      <td>찬란</td>\n",
       "      <td>2011-07-07</td>\n",
       "      <td>장편</td>\n",
       "      <td>기타</td>\n",
       "      <td>10</td>\n",
       "      <td>76832900</td>\n",
       "      <td>10023</td>\n",
       "      <td>58,237,900</td>\n",
       "      <td>7,316</td>\n",
       "      <td>드라마</td>\n",
       "      <td>전체관람가</td>\n",
       "      <td>독립/예술영화</td>\n",
       "    </tr>\n",
       "    <tr>\n",
       "      <th>테라 3D: 인류 최후의 전쟁</th>\n",
       "      <td>아리스토메니스 치바스</td>\n",
       "      <td>마운틴픽쳐스</td>\n",
       "      <td>2010-11-04</td>\n",
       "      <td>장편</td>\n",
       "      <td>미국</td>\n",
       "      <td>48</td>\n",
       "      <td>106210549</td>\n",
       "      <td>10023</td>\n",
       "      <td>44,666,000</td>\n",
       "      <td>4,216</td>\n",
       "      <td>애니메이션</td>\n",
       "      <td>전체관람가</td>\n",
       "      <td>일반영화</td>\n",
       "    </tr>\n",
       "    <tr>\n",
       "      <th>글로리아 벨</th>\n",
       "      <td>세바스찬 렐리오</td>\n",
       "      <td>소니픽쳐스엔터테인먼트코리아극장배급지점</td>\n",
       "      <td>2019-06-06</td>\n",
       "      <td>장편</td>\n",
       "      <td>미국</td>\n",
       "      <td>48</td>\n",
       "      <td>77962520</td>\n",
       "      <td>10021</td>\n",
       "      <td>46,754,220</td>\n",
       "      <td>5,790</td>\n",
       "      <td>드라마</td>\n",
       "      <td>15세관람가</td>\n",
       "      <td>독립/예술영화</td>\n",
       "    </tr>\n",
       "    <tr>\n",
       "      <th>미 앤 유 앤 에브리원</th>\n",
       "      <td>미란다 줄라이</td>\n",
       "      <td>동숭아트센터</td>\n",
       "      <td>2006-01-27</td>\n",
       "      <td>장편</td>\n",
       "      <td>미국</td>\n",
       "      <td>0</td>\n",
       "      <td>0</td>\n",
       "      <td>10018</td>\n",
       "      <td>0</td>\n",
       "      <td>8,992</td>\n",
       "      <td>코미디</td>\n",
       "      <td>15세관람가</td>\n",
       "      <td>독립/예술영화</td>\n",
       "    </tr>\n",
       "  </tbody>\n",
       "</table>\n",
       "<p>4835 rows × 13 columns</p>\n",
       "</div>"
      ],
      "text/plain": [
       "                           감독                   배급사         개봉일 영화형태  국적  \\\n",
       "영화명                                                                        \n",
       "명량                        김한민                씨제이이엔엠  2014-07-30   장편  한국   \n",
       "극한직업                      이병헌                씨제이이엔엠  2019-01-23   장편  한국   \n",
       "신과함께-죄와 벌                 김용화              롯데엔터테인먼트  2017-12-20   장편  한국   \n",
       "국제시장                      윤제균                씨제이이엔엠  2014-12-17   장편  한국   \n",
       "어벤져스: 엔드게임             안소니 루소         월트디즈니스튜디오스코리아  2019-04-24   장편  미국   \n",
       "...                       ...                   ...         ...  ...  ..   \n",
       "나의 어머니                 난니 모레티                  티캐스트  2015-08-20   장편  기타   \n",
       "타이페이 카페 스토리            샤오 야 췐                    찬란  2011-07-07   장편  기타   \n",
       "테라 3D: 인류 최후의 전쟁  아리스토메니스 치바스                마운틴픽쳐스  2010-11-04   장편  미국   \n",
       "글로리아 벨               세바스찬 렐리오  소니픽쳐스엔터테인먼트코리아극장배급지점  2019-06-06   장편  미국   \n",
       "미 앤 유 앤 에브리원          미란다 줄라이                동숭아트센터  2006-01-27   장편  미국   \n",
       "\n",
       "                  전국 스크린수        전국 매출액    전국 관객수          서울 매출액     서울 관객수  \\\n",
       "영화명                                                                            \n",
       "명량                   1587  135748398910  17613682  33,121,225,810  4,163,666   \n",
       "극한직업                 1978  139647979516  16264944  31,858,660,536  3,638,287   \n",
       "신과함께-죄와 벌            1912  115698654137  14410754  27,530,825,087  3,346,172   \n",
       "국제시장                  966  110828014630  14245998  25,842,519,330  3,233,946   \n",
       "어벤져스: 엔드게임           2835  122182694160  13934592  33,577,136,860  3,597,963   \n",
       "...                   ...           ...       ...             ...        ...   \n",
       "나의 어머니                 30      76569151     10031      59,303,651      7,301   \n",
       "타이페이 카페 스토리            10      76832900     10023      58,237,900      7,316   \n",
       "테라 3D: 인류 최후의 전쟁       48     106210549     10023      44,666,000      4,216   \n",
       "글로리아 벨                 48      77962520     10021      46,754,220      5,790   \n",
       "미 앤 유 앤 에브리원            0             0     10018               0      8,992   \n",
       "\n",
       "                     장르      등급     영화구분  \n",
       "영화명                                       \n",
       "명량                   사극  15세관람가     일반영화  \n",
       "극한직업                코미디  15세관람가     일반영화  \n",
       "신과함께-죄와 벌           판타지  12세관람가     일반영화  \n",
       "국제시장                드라마  12세관람가     일반영화  \n",
       "어벤져스: 엔드게임           액션  12세관람가     일반영화  \n",
       "...                 ...     ...      ...  \n",
       "나의 어머니              드라마  12세관람가  독립/예술영화  \n",
       "타이페이 카페 스토리         드라마   전체관람가  독립/예술영화  \n",
       "테라 3D: 인류 최후의 전쟁  애니메이션   전체관람가     일반영화  \n",
       "글로리아 벨              드라마  15세관람가  독립/예술영화  \n",
       "미 앤 유 앤 에브리원        코미디  15세관람가  독립/예술영화  \n",
       "\n",
       "[4835 rows x 13 columns]"
      ]
     },
     "execution_count": 3,
     "metadata": {},
     "output_type": "execute_result"
    }
   ],
   "source": [
    "df"
   ]
  },
  {
   "cell_type": "code",
   "execution_count": 4,
   "metadata": {
    "id": "7DE7SEmVR1HI"
   },
   "outputs": [
    {
     "ename": "KeyError",
     "evalue": "\"['제작사', '수입사'] not found in axis\"",
     "output_type": "error",
     "traceback": [
      "\u001b[1;31m---------------------------------------------------------------------------\u001b[0m",
      "\u001b[1;31mKeyError\u001b[0m                                  Traceback (most recent call last)",
      "Cell \u001b[1;32mIn[4], line 1\u001b[0m\n\u001b[1;32m----> 1\u001b[0m df \u001b[39m=\u001b[39m df\u001b[39m.\u001b[39;49mdrop([\u001b[39m'\u001b[39;49m\u001b[39m제작사\u001b[39;49m\u001b[39m'\u001b[39;49m, \u001b[39m'\u001b[39;49m\u001b[39m수입사\u001b[39;49m\u001b[39m'\u001b[39;49m], axis\u001b[39m=\u001b[39;49m\u001b[39m1\u001b[39;49m)\n\u001b[0;32m      2\u001b[0m df[\u001b[39m'\u001b[39m\u001b[39m감독\u001b[39m\u001b[39m'\u001b[39m]\u001b[39m.\u001b[39mfillna(\u001b[39m'\u001b[39m\u001b[39m기타\u001b[39m\u001b[39m'\u001b[39m, inplace\u001b[39m=\u001b[39m\u001b[39mTrue\u001b[39;00m)\n\u001b[0;32m      3\u001b[0m df[\u001b[39m'\u001b[39m\u001b[39m장르\u001b[39m\u001b[39m'\u001b[39m]\u001b[39m.\u001b[39mfillna(\u001b[39m'\u001b[39m\u001b[39m기타\u001b[39m\u001b[39m'\u001b[39m, inplace\u001b[39m=\u001b[39m\u001b[39mTrue\u001b[39;00m)\n",
      "File \u001b[1;32mc:\\Users\\Kang-Dong\\anaconda3\\lib\\site-packages\\pandas\\util\\_decorators.py:331\u001b[0m, in \u001b[0;36mdeprecate_nonkeyword_arguments.<locals>.decorate.<locals>.wrapper\u001b[1;34m(*args, **kwargs)\u001b[0m\n\u001b[0;32m    325\u001b[0m \u001b[39mif\u001b[39;00m \u001b[39mlen\u001b[39m(args) \u001b[39m>\u001b[39m num_allow_args:\n\u001b[0;32m    326\u001b[0m     warnings\u001b[39m.\u001b[39mwarn(\n\u001b[0;32m    327\u001b[0m         msg\u001b[39m.\u001b[39mformat(arguments\u001b[39m=\u001b[39m_format_argument_list(allow_args)),\n\u001b[0;32m    328\u001b[0m         \u001b[39mFutureWarning\u001b[39;00m,\n\u001b[0;32m    329\u001b[0m         stacklevel\u001b[39m=\u001b[39mfind_stack_level(),\n\u001b[0;32m    330\u001b[0m     )\n\u001b[1;32m--> 331\u001b[0m \u001b[39mreturn\u001b[39;00m func(\u001b[39m*\u001b[39margs, \u001b[39m*\u001b[39m\u001b[39m*\u001b[39mkwargs)\n",
      "File \u001b[1;32mc:\\Users\\Kang-Dong\\anaconda3\\lib\\site-packages\\pandas\\core\\frame.py:5399\u001b[0m, in \u001b[0;36mDataFrame.drop\u001b[1;34m(self, labels, axis, index, columns, level, inplace, errors)\u001b[0m\n\u001b[0;32m   5251\u001b[0m \u001b[39m@deprecate_nonkeyword_arguments\u001b[39m(version\u001b[39m=\u001b[39m\u001b[39mNone\u001b[39;00m, allowed_args\u001b[39m=\u001b[39m[\u001b[39m\"\u001b[39m\u001b[39mself\u001b[39m\u001b[39m\"\u001b[39m, \u001b[39m\"\u001b[39m\u001b[39mlabels\u001b[39m\u001b[39m\"\u001b[39m])\n\u001b[0;32m   5252\u001b[0m \u001b[39mdef\u001b[39;00m \u001b[39mdrop\u001b[39m(  \u001b[39m# type: ignore[override]\u001b[39;00m\n\u001b[0;32m   5253\u001b[0m     \u001b[39mself\u001b[39m,\n\u001b[1;32m   (...)\u001b[0m\n\u001b[0;32m   5260\u001b[0m     errors: IgnoreRaise \u001b[39m=\u001b[39m \u001b[39m\"\u001b[39m\u001b[39mraise\u001b[39m\u001b[39m\"\u001b[39m,\n\u001b[0;32m   5261\u001b[0m ) \u001b[39m-\u001b[39m\u001b[39m>\u001b[39m DataFrame \u001b[39m|\u001b[39m \u001b[39mNone\u001b[39;00m:\n\u001b[0;32m   5262\u001b[0m     \u001b[39m\"\"\"\u001b[39;00m\n\u001b[0;32m   5263\u001b[0m \u001b[39m    Drop specified labels from rows or columns.\u001b[39;00m\n\u001b[0;32m   5264\u001b[0m \n\u001b[1;32m   (...)\u001b[0m\n\u001b[0;32m   5397\u001b[0m \u001b[39m            weight  1.0     0.8\u001b[39;00m\n\u001b[0;32m   5398\u001b[0m \u001b[39m    \"\"\"\u001b[39;00m\n\u001b[1;32m-> 5399\u001b[0m     \u001b[39mreturn\u001b[39;00m \u001b[39msuper\u001b[39;49m()\u001b[39m.\u001b[39;49mdrop(\n\u001b[0;32m   5400\u001b[0m         labels\u001b[39m=\u001b[39;49mlabels,\n\u001b[0;32m   5401\u001b[0m         axis\u001b[39m=\u001b[39;49maxis,\n\u001b[0;32m   5402\u001b[0m         index\u001b[39m=\u001b[39;49mindex,\n\u001b[0;32m   5403\u001b[0m         columns\u001b[39m=\u001b[39;49mcolumns,\n\u001b[0;32m   5404\u001b[0m         level\u001b[39m=\u001b[39;49mlevel,\n\u001b[0;32m   5405\u001b[0m         inplace\u001b[39m=\u001b[39;49minplace,\n\u001b[0;32m   5406\u001b[0m         errors\u001b[39m=\u001b[39;49merrors,\n\u001b[0;32m   5407\u001b[0m     )\n",
      "File \u001b[1;32mc:\\Users\\Kang-Dong\\anaconda3\\lib\\site-packages\\pandas\\util\\_decorators.py:331\u001b[0m, in \u001b[0;36mdeprecate_nonkeyword_arguments.<locals>.decorate.<locals>.wrapper\u001b[1;34m(*args, **kwargs)\u001b[0m\n\u001b[0;32m    325\u001b[0m \u001b[39mif\u001b[39;00m \u001b[39mlen\u001b[39m(args) \u001b[39m>\u001b[39m num_allow_args:\n\u001b[0;32m    326\u001b[0m     warnings\u001b[39m.\u001b[39mwarn(\n\u001b[0;32m    327\u001b[0m         msg\u001b[39m.\u001b[39mformat(arguments\u001b[39m=\u001b[39m_format_argument_list(allow_args)),\n\u001b[0;32m    328\u001b[0m         \u001b[39mFutureWarning\u001b[39;00m,\n\u001b[0;32m    329\u001b[0m         stacklevel\u001b[39m=\u001b[39mfind_stack_level(),\n\u001b[0;32m    330\u001b[0m     )\n\u001b[1;32m--> 331\u001b[0m \u001b[39mreturn\u001b[39;00m func(\u001b[39m*\u001b[39margs, \u001b[39m*\u001b[39m\u001b[39m*\u001b[39mkwargs)\n",
      "File \u001b[1;32mc:\\Users\\Kang-Dong\\anaconda3\\lib\\site-packages\\pandas\\core\\generic.py:4505\u001b[0m, in \u001b[0;36mNDFrame.drop\u001b[1;34m(self, labels, axis, index, columns, level, inplace, errors)\u001b[0m\n\u001b[0;32m   4503\u001b[0m \u001b[39mfor\u001b[39;00m axis, labels \u001b[39min\u001b[39;00m axes\u001b[39m.\u001b[39mitems():\n\u001b[0;32m   4504\u001b[0m     \u001b[39mif\u001b[39;00m labels \u001b[39mis\u001b[39;00m \u001b[39mnot\u001b[39;00m \u001b[39mNone\u001b[39;00m:\n\u001b[1;32m-> 4505\u001b[0m         obj \u001b[39m=\u001b[39m obj\u001b[39m.\u001b[39;49m_drop_axis(labels, axis, level\u001b[39m=\u001b[39;49mlevel, errors\u001b[39m=\u001b[39;49merrors)\n\u001b[0;32m   4507\u001b[0m \u001b[39mif\u001b[39;00m inplace:\n\u001b[0;32m   4508\u001b[0m     \u001b[39mself\u001b[39m\u001b[39m.\u001b[39m_update_inplace(obj)\n",
      "File \u001b[1;32mc:\\Users\\Kang-Dong\\anaconda3\\lib\\site-packages\\pandas\\core\\generic.py:4546\u001b[0m, in \u001b[0;36mNDFrame._drop_axis\u001b[1;34m(self, labels, axis, level, errors, only_slice)\u001b[0m\n\u001b[0;32m   4544\u001b[0m         new_axis \u001b[39m=\u001b[39m axis\u001b[39m.\u001b[39mdrop(labels, level\u001b[39m=\u001b[39mlevel, errors\u001b[39m=\u001b[39merrors)\n\u001b[0;32m   4545\u001b[0m     \u001b[39melse\u001b[39;00m:\n\u001b[1;32m-> 4546\u001b[0m         new_axis \u001b[39m=\u001b[39m axis\u001b[39m.\u001b[39;49mdrop(labels, errors\u001b[39m=\u001b[39;49merrors)\n\u001b[0;32m   4547\u001b[0m     indexer \u001b[39m=\u001b[39m axis\u001b[39m.\u001b[39mget_indexer(new_axis)\n\u001b[0;32m   4549\u001b[0m \u001b[39m# Case for non-unique axis\u001b[39;00m\n\u001b[0;32m   4550\u001b[0m \u001b[39melse\u001b[39;00m:\n",
      "File \u001b[1;32mc:\\Users\\Kang-Dong\\anaconda3\\lib\\site-packages\\pandas\\core\\indexes\\base.py:6934\u001b[0m, in \u001b[0;36mIndex.drop\u001b[1;34m(self, labels, errors)\u001b[0m\n\u001b[0;32m   6932\u001b[0m \u001b[39mif\u001b[39;00m mask\u001b[39m.\u001b[39many():\n\u001b[0;32m   6933\u001b[0m     \u001b[39mif\u001b[39;00m errors \u001b[39m!=\u001b[39m \u001b[39m\"\u001b[39m\u001b[39mignore\u001b[39m\u001b[39m\"\u001b[39m:\n\u001b[1;32m-> 6934\u001b[0m         \u001b[39mraise\u001b[39;00m \u001b[39mKeyError\u001b[39;00m(\u001b[39mf\u001b[39m\u001b[39m\"\u001b[39m\u001b[39m{\u001b[39;00m\u001b[39mlist\u001b[39m(labels[mask])\u001b[39m}\u001b[39;00m\u001b[39m not found in axis\u001b[39m\u001b[39m\"\u001b[39m)\n\u001b[0;32m   6935\u001b[0m     indexer \u001b[39m=\u001b[39m indexer[\u001b[39m~\u001b[39mmask]\n\u001b[0;32m   6936\u001b[0m \u001b[39mreturn\u001b[39;00m \u001b[39mself\u001b[39m\u001b[39m.\u001b[39mdelete(indexer)\n",
      "\u001b[1;31mKeyError\u001b[0m: \"['제작사', '수입사'] not found in axis\""
     ]
    }
   ],
   "source": [
    "df = df.drop(['제작사', '수입사'], axis=1)\n",
    "df['감독'].fillna('기타', inplace=True)\n",
    "df['장르'].fillna('기타', inplace=True)\n",
    "df['배급사'].fillna('기타', inplace=True)\n",
    "df['영화형태'].fillna('기타', inplace=True)\n",
    "for i in df['개봉일'][df['개봉일'].isnull()].index:\n",
    "    df = df.drop(i)\n",
    "for i in df['전국 매출액'][df['전국 매출액'].isnull()].index:\n",
    "    df = df.drop(i)\n",
    "for i in df['등급'][df['등급'].isnull()].index:\n",
    "    df = df.drop(i)"
   ]
  },
  {
   "cell_type": "code",
   "execution_count": null,
   "metadata": {
    "id": "ip6iHINuR6rc"
   },
   "outputs": [],
   "source": [
    "# 다수의 감독 데이터 변경\n",
    "for idx, row in df.iterrows():\n",
    "    if ',' in row['감독']:\n",
    "        directors = row['감독'].split(',')\n",
    "        # 양 끝 공백 제거 후 정렬\n",
    "        directors.sort(key=lambda x : x.strip())\n",
    "        df['감독'][idx] = directors[0].strip()"
   ]
  },
  {
   "cell_type": "code",
   "execution_count": null,
   "metadata": {
    "id": "8OyywOHmR7ci"
   },
   "outputs": [],
   "source": [
    "for idx, row in df.iterrows():\n",
    "    if ',' in row['배급사']:\n",
    "        distributor = row['배급사'].split(',')\n",
    "        # 양 끝 공백 제거 후 변경\n",
    "        df['배급사'][idx] = distributor[0].strip()\n",
    "        \n",
    "\n"
   ]
  },
  {
   "cell_type": "code",
   "execution_count": null,
   "metadata": {
    "colab": {
     "base_uri": "https://localhost:8080/",
     "height": 690
    },
    "executionInfo": {
     "elapsed": 10,
     "status": "ok",
     "timestamp": 1679467377859,
     "user": {
      "displayName": "Seong-jin Oh",
      "userId": "11643747649955714296"
     },
     "user_tz": -540
    },
    "id": "z4LE8E5pSABr",
    "outputId": "fed4acf9-2a65-428f-9e3c-88c84dca37e2"
   },
   "outputs": [],
   "source": [
    "# df.drop('영화유형', axis=1, inplace=True)\n",
    "df"
   ]
  },
  {
   "cell_type": "code",
   "execution_count": null,
   "metadata": {
    "colab": {
     "base_uri": "https://localhost:8080/"
    },
    "executionInfo": {
     "elapsed": 4,
     "status": "ok",
     "timestamp": 1679467920926,
     "user": {
      "displayName": "Seong-jin Oh",
      "userId": "11643747649955714296"
     },
     "user_tz": -540
    },
    "id": "RZl8C8iB6-Ie",
    "outputId": "47be2927-b633-417f-dbf1-c444abd06cf8"
   },
   "outputs": [
    {
     "data": {
      "text/plain": [
       "317"
      ]
     },
     "execution_count": 11,
     "metadata": {},
     "output_type": "execute_result"
    }
   ],
   "source": [
    "from collections import Counter\n",
    "# df['배급사']\n",
    "Counter(df['배급사'], )\n",
    "len(df['배급사'].unique())"
   ]
  },
  {
   "cell_type": "code",
   "execution_count": null,
   "metadata": {
    "id": "zvyOc6RtS3NF"
   },
   "outputs": [],
   "source": [
    "for idx, row in df.iterrows():\n",
    "    if ',' in row['등급']:\n",
    "        ratings = row['등급'].split(',')\n",
    "        # 전체, 12, 15, 청소년관람불가 순\n",
    "        if '전체' in ratings:\n",
    "            df['등급'][idx] = '전체관람가'\n",
    "        elif '12' in ratings:\n",
    "            df['등급'][idx] = '12세관람가'\n",
    "        elif '15' in ratings:\n",
    "            df['등급'][idx] = '15세관람가'\n",
    "        else:\n",
    "            df['등급'][idx] = '청소년관람불가'\n",
    "    elif df['등급'][idx] == '18세관람가' or df['등급'][idx] == '제한상영가':\n",
    "        df['등급'][idx] = '청소년관람불가'\n",
    "    else:\n",
    "        df['등급'][idx] = df['등급'][idx].replace('이상', '')"
   ]
  },
  {
   "cell_type": "code",
   "execution_count": null,
   "metadata": {
    "id": "tyTJsU1QTAxr"
   },
   "outputs": [
    {
     "ename": "AttributeError",
     "evalue": "Can only use .str accessor with string values!",
     "output_type": "error",
     "traceback": [
      "\u001b[1;31m---------------------------------------------------------------------------\u001b[0m",
      "\u001b[1;31mAttributeError\u001b[0m                            Traceback (most recent call last)",
      "Cell \u001b[1;32mIn[12], line 1\u001b[0m\n\u001b[1;32m----> 1\u001b[0m df[\u001b[39m'\u001b[39m\u001b[39m전국 매출액\u001b[39m\u001b[39m'\u001b[39m] \u001b[39m=\u001b[39m df[\u001b[39m'\u001b[39;49m\u001b[39m전국 매출액\u001b[39;49m\u001b[39m'\u001b[39;49m]\u001b[39m.\u001b[39;49mstr\u001b[39m.\u001b[39mreplace(pat\u001b[39m=\u001b[39m\u001b[39mr\u001b[39m\u001b[39m'\u001b[39m\u001b[39m,\u001b[39m\u001b[39m'\u001b[39m, repl\u001b[39m=\u001b[39m\u001b[39mr\u001b[39m\u001b[39m'\u001b[39m\u001b[39m'\u001b[39m, regex\u001b[39m=\u001b[39m\u001b[39mTrue\u001b[39;00m)\n\u001b[0;32m      2\u001b[0m df[\u001b[39m'\u001b[39m\u001b[39m전국 매출액\u001b[39m\u001b[39m'\u001b[39m] \u001b[39m=\u001b[39m df[\u001b[39m'\u001b[39m\u001b[39m전국 매출액\u001b[39m\u001b[39m'\u001b[39m]\u001b[39m.\u001b[39mastype(\u001b[39m'\u001b[39m\u001b[39mint64\u001b[39m\u001b[39m'\u001b[39m)\n\u001b[0;32m      3\u001b[0m df[\u001b[39m'\u001b[39m\u001b[39m전국 스크린수\u001b[39m\u001b[39m'\u001b[39m] \u001b[39m=\u001b[39m df[\u001b[39m'\u001b[39m\u001b[39m전국 스크린수\u001b[39m\u001b[39m'\u001b[39m]\u001b[39m.\u001b[39mstr\u001b[39m.\u001b[39mreplace(pat\u001b[39m=\u001b[39m\u001b[39mr\u001b[39m\u001b[39m'\u001b[39m\u001b[39m,\u001b[39m\u001b[39m'\u001b[39m, repl\u001b[39m=\u001b[39m\u001b[39mr\u001b[39m\u001b[39m'\u001b[39m\u001b[39m'\u001b[39m, regex\u001b[39m=\u001b[39m\u001b[39mTrue\u001b[39;00m)\n",
      "File \u001b[1;32mc:\\Users\\Kang-Dong\\anaconda3\\lib\\site-packages\\pandas\\core\\generic.py:5902\u001b[0m, in \u001b[0;36mNDFrame.__getattr__\u001b[1;34m(self, name)\u001b[0m\n\u001b[0;32m   5895\u001b[0m \u001b[39mif\u001b[39;00m (\n\u001b[0;32m   5896\u001b[0m     name \u001b[39mnot\u001b[39;00m \u001b[39min\u001b[39;00m \u001b[39mself\u001b[39m\u001b[39m.\u001b[39m_internal_names_set\n\u001b[0;32m   5897\u001b[0m     \u001b[39mand\u001b[39;00m name \u001b[39mnot\u001b[39;00m \u001b[39min\u001b[39;00m \u001b[39mself\u001b[39m\u001b[39m.\u001b[39m_metadata\n\u001b[0;32m   5898\u001b[0m     \u001b[39mand\u001b[39;00m name \u001b[39mnot\u001b[39;00m \u001b[39min\u001b[39;00m \u001b[39mself\u001b[39m\u001b[39m.\u001b[39m_accessors\n\u001b[0;32m   5899\u001b[0m     \u001b[39mand\u001b[39;00m \u001b[39mself\u001b[39m\u001b[39m.\u001b[39m_info_axis\u001b[39m.\u001b[39m_can_hold_identifiers_and_holds_name(name)\n\u001b[0;32m   5900\u001b[0m ):\n\u001b[0;32m   5901\u001b[0m     \u001b[39mreturn\u001b[39;00m \u001b[39mself\u001b[39m[name]\n\u001b[1;32m-> 5902\u001b[0m \u001b[39mreturn\u001b[39;00m \u001b[39mobject\u001b[39;49m\u001b[39m.\u001b[39;49m\u001b[39m__getattribute__\u001b[39;49m(\u001b[39mself\u001b[39;49m, name)\n",
      "File \u001b[1;32mc:\\Users\\Kang-Dong\\anaconda3\\lib\\site-packages\\pandas\\core\\accessor.py:182\u001b[0m, in \u001b[0;36mCachedAccessor.__get__\u001b[1;34m(self, obj, cls)\u001b[0m\n\u001b[0;32m    179\u001b[0m \u001b[39mif\u001b[39;00m obj \u001b[39mis\u001b[39;00m \u001b[39mNone\u001b[39;00m:\n\u001b[0;32m    180\u001b[0m     \u001b[39m# we're accessing the attribute of the class, i.e., Dataset.geo\u001b[39;00m\n\u001b[0;32m    181\u001b[0m     \u001b[39mreturn\u001b[39;00m \u001b[39mself\u001b[39m\u001b[39m.\u001b[39m_accessor\n\u001b[1;32m--> 182\u001b[0m accessor_obj \u001b[39m=\u001b[39m \u001b[39mself\u001b[39;49m\u001b[39m.\u001b[39;49m_accessor(obj)\n\u001b[0;32m    183\u001b[0m \u001b[39m# Replace the property with the accessor object. Inspired by:\u001b[39;00m\n\u001b[0;32m    184\u001b[0m \u001b[39m# https://www.pydanny.com/cached-property.html\u001b[39;00m\n\u001b[0;32m    185\u001b[0m \u001b[39m# We need to use object.__setattr__ because we overwrite __setattr__ on\u001b[39;00m\n\u001b[0;32m    186\u001b[0m \u001b[39m# NDFrame\u001b[39;00m\n\u001b[0;32m    187\u001b[0m \u001b[39mobject\u001b[39m\u001b[39m.\u001b[39m\u001b[39m__setattr__\u001b[39m(obj, \u001b[39mself\u001b[39m\u001b[39m.\u001b[39m_name, accessor_obj)\n",
      "File \u001b[1;32mc:\\Users\\Kang-Dong\\anaconda3\\lib\\site-packages\\pandas\\core\\strings\\accessor.py:181\u001b[0m, in \u001b[0;36mStringMethods.__init__\u001b[1;34m(self, data)\u001b[0m\n\u001b[0;32m    178\u001b[0m \u001b[39mdef\u001b[39;00m \u001b[39m__init__\u001b[39m(\u001b[39mself\u001b[39m, data) \u001b[39m-\u001b[39m\u001b[39m>\u001b[39m \u001b[39mNone\u001b[39;00m:\n\u001b[0;32m    179\u001b[0m     \u001b[39mfrom\u001b[39;00m \u001b[39mpandas\u001b[39;00m\u001b[39m.\u001b[39;00m\u001b[39mcore\u001b[39;00m\u001b[39m.\u001b[39;00m\u001b[39marrays\u001b[39;00m\u001b[39m.\u001b[39;00m\u001b[39mstring_\u001b[39;00m \u001b[39mimport\u001b[39;00m StringDtype\n\u001b[1;32m--> 181\u001b[0m     \u001b[39mself\u001b[39m\u001b[39m.\u001b[39m_inferred_dtype \u001b[39m=\u001b[39m \u001b[39mself\u001b[39;49m\u001b[39m.\u001b[39;49m_validate(data)\n\u001b[0;32m    182\u001b[0m     \u001b[39mself\u001b[39m\u001b[39m.\u001b[39m_is_categorical \u001b[39m=\u001b[39m is_categorical_dtype(data\u001b[39m.\u001b[39mdtype)\n\u001b[0;32m    183\u001b[0m     \u001b[39mself\u001b[39m\u001b[39m.\u001b[39m_is_string \u001b[39m=\u001b[39m \u001b[39misinstance\u001b[39m(data\u001b[39m.\u001b[39mdtype, StringDtype)\n",
      "File \u001b[1;32mc:\\Users\\Kang-Dong\\anaconda3\\lib\\site-packages\\pandas\\core\\strings\\accessor.py:235\u001b[0m, in \u001b[0;36mStringMethods._validate\u001b[1;34m(data)\u001b[0m\n\u001b[0;32m    232\u001b[0m inferred_dtype \u001b[39m=\u001b[39m lib\u001b[39m.\u001b[39minfer_dtype(values, skipna\u001b[39m=\u001b[39m\u001b[39mTrue\u001b[39;00m)\n\u001b[0;32m    234\u001b[0m \u001b[39mif\u001b[39;00m inferred_dtype \u001b[39mnot\u001b[39;00m \u001b[39min\u001b[39;00m allowed_types:\n\u001b[1;32m--> 235\u001b[0m     \u001b[39mraise\u001b[39;00m \u001b[39mAttributeError\u001b[39;00m(\u001b[39m\"\u001b[39m\u001b[39mCan only use .str accessor with string values!\u001b[39m\u001b[39m\"\u001b[39m)\n\u001b[0;32m    236\u001b[0m \u001b[39mreturn\u001b[39;00m inferred_dtype\n",
      "\u001b[1;31mAttributeError\u001b[0m: Can only use .str accessor with string values!"
     ]
    }
   ],
   "source": [
    "df['전국 매출액'] = df['전국 매출액'].str.replace(pat=r',', repl=r'', regex=True)\n",
    "df['전국 매출액'] = df['전국 매출액'].astype('int64')\n",
    "df['전국 스크린수'] = df['전국 스크린수'].str.replace(pat=r',', repl=r'', regex=True)\n",
    "df['전국 스크린수'] = df['전국 스크린수'].astype('int64')\n",
    "df['전국 관객수'] = df['전국 관객수'].str.replace(pat=r',', repl=r'', regex=True)\n",
    "df['전국 관객수'] = df['전국 관객수'].astype('int64')"
   ]
  },
  {
   "cell_type": "code",
   "execution_count": null,
   "metadata": {
    "colab": {
     "base_uri": "https://localhost:8080/"
    },
    "executionInfo": {
     "elapsed": 619,
     "status": "ok",
     "timestamp": 1679454300777,
     "user": {
      "displayName": "Seong-jin Oh",
      "userId": "11643747649955714296"
     },
     "user_tz": -540
    },
    "id": "qNOIBv3jTDQU",
    "outputId": "be25471c-082c-4881-a03b-c748b2f302db"
   },
   "outputs": [
    {
     "name": "stdout",
     "output_type": "stream",
     "text": [
      "<class 'pandas.core.frame.DataFrame'>\n",
      "Index: 3066 entries, 명량 to 신문기자\n",
      "Data columns (total 13 columns):\n",
      " #   Column   Non-Null Count  Dtype \n",
      "---  ------   --------------  ----- \n",
      " 0   감독       3066 non-null   object\n",
      " 1   배급사      3066 non-null   object\n",
      " 2   개봉일      3066 non-null   object\n",
      " 3   영화형태     3066 non-null   object\n",
      " 4   국적       3066 non-null   object\n",
      " 5   전국 스크린수  3066 non-null   int64 \n",
      " 6   전국 매출액   3066 non-null   int64 \n",
      " 7   전국 관객수   3066 non-null   int64 \n",
      " 8   서울 매출액   3066 non-null   object\n",
      " 9   서울 관객수   3066 non-null   object\n",
      " 10  장르       3066 non-null   object\n",
      " 11  등급       3066 non-null   object\n",
      " 12  영화구분     3066 non-null   object\n",
      "dtypes: int64(3), object(10)\n",
      "memory usage: 335.3+ KB\n"
     ]
    }
   ],
   "source": [
    "movie_resize = df[(df['전국 관객수'] > 1000) & (df['전국 스크린수'] > 100)]\n",
    "movie_resize.info()"
   ]
  },
  {
   "cell_type": "code",
   "execution_count": null,
   "metadata": {
    "colab": {
     "base_uri": "https://localhost:8080/"
    },
    "executionInfo": {
     "elapsed": 729,
     "status": "ok",
     "timestamp": 1679446460060,
     "user": {
      "displayName": "Seong-jin Oh",
      "userId": "11643747649955714296"
     },
     "user_tz": -540
    },
    "id": "Qb-amS0bTEwM",
    "outputId": "ada76d4b-8bd7-4d70-f91c-c66a7b1e1096"
   },
   "outputs": [],
   "source": [
    "# 국적 데이터 변경\n",
    "for idx, row in movie_resize.iterrows():\n",
    "    if  row['국적'] not in ['미국', '한국', '일본', '영국', '프랑스','중국','독일']:\n",
    "        movie_resize['국적'][idx] = '기타'"
   ]
  },
  {
   "cell_type": "code",
   "execution_count": null,
   "metadata": {
    "colab": {
     "base_uri": "https://localhost:8080/",
     "height": 455
    },
    "executionInfo": {
     "elapsed": 809,
     "status": "ok",
     "timestamp": 1679446466313,
     "user": {
      "displayName": "Seong-jin Oh",
      "userId": "11643747649955714296"
     },
     "user_tz": -540
    },
    "id": "KAqrXeuOTGue",
    "outputId": "88f60c24-87f6-421f-905a-b9308bee00ca"
   },
   "outputs": [],
   "source": [
    "movie_resize.loc[(movie_resize['전국 관객수']>2500000)]"
   ]
  },
  {
   "cell_type": "code",
   "execution_count": null,
   "metadata": {},
   "outputs": [],
   "source": [
    "df['배급사'].unique()"
   ]
  },
  {
   "cell_type": "code",
   "execution_count": null,
   "metadata": {},
   "outputs": [
    {
     "name": "stderr",
     "output_type": "stream",
     "text": [
      "C:\\Users\\Kang-Dong\\AppData\\Local\\Temp\\ipykernel_17084\\546054873.py:2: FutureWarning: The default value of regex will change from True to False in a future version.\n",
      "  df['배급사']=df.배급사.str.replace(r\"\\(.*\\)\",\"\")\n",
      "C:\\Users\\Kang-Dong\\AppData\\Local\\Temp\\ipykernel_17084\\546054873.py:11: FutureWarning: The default value of regex will change from True to False in a future version.\n",
      "  df['배급사']=df.배급사.str.replace(\"롯데컬처웍스(주)롯데엔터테인먼트\",\"롯데엔터테인먼트\")\n",
      "C:\\Users\\Kang-Dong\\AppData\\Local\\Temp\\ipykernel_17084\\546054873.py:12: FutureWarning: The default value of regex will change from True to False in a future version.\n",
      "  df['배급사']=df.배급사.str.replace(\"롯데쇼핑(주)롯데시네마\",\"롯데엔터테인먼트\")\n"
     ]
    },
    {
     "data": {
      "text/html": [
       "<div>\n",
       "<style scoped>\n",
       "    .dataframe tbody tr th:only-of-type {\n",
       "        vertical-align: middle;\n",
       "    }\n",
       "\n",
       "    .dataframe tbody tr th {\n",
       "        vertical-align: top;\n",
       "    }\n",
       "\n",
       "    .dataframe thead th {\n",
       "        text-align: right;\n",
       "    }\n",
       "</style>\n",
       "<table border=\"1\" class=\"dataframe\">\n",
       "  <thead>\n",
       "    <tr style=\"text-align: right;\">\n",
       "      <th></th>\n",
       "      <th>감독</th>\n",
       "      <th>배급사</th>\n",
       "      <th>개봉일</th>\n",
       "      <th>영화형태</th>\n",
       "      <th>국적</th>\n",
       "      <th>전국 스크린수</th>\n",
       "      <th>전국 매출액</th>\n",
       "      <th>전국 관객수</th>\n",
       "      <th>서울 매출액</th>\n",
       "      <th>서울 관객수</th>\n",
       "      <th>장르</th>\n",
       "      <th>등급</th>\n",
       "      <th>영화구분</th>\n",
       "    </tr>\n",
       "    <tr>\n",
       "      <th>영화명</th>\n",
       "      <th></th>\n",
       "      <th></th>\n",
       "      <th></th>\n",
       "      <th></th>\n",
       "      <th></th>\n",
       "      <th></th>\n",
       "      <th></th>\n",
       "      <th></th>\n",
       "      <th></th>\n",
       "      <th></th>\n",
       "      <th></th>\n",
       "      <th></th>\n",
       "      <th></th>\n",
       "    </tr>\n",
       "  </thead>\n",
       "  <tbody>\n",
       "    <tr>\n",
       "      <th>명량</th>\n",
       "      <td>김한민</td>\n",
       "      <td>씨제이이엔엠</td>\n",
       "      <td>2014-07-30</td>\n",
       "      <td>장편</td>\n",
       "      <td>한국</td>\n",
       "      <td>1587</td>\n",
       "      <td>135748398910</td>\n",
       "      <td>17613682</td>\n",
       "      <td>33,121,225,810</td>\n",
       "      <td>4,163,666</td>\n",
       "      <td>사극</td>\n",
       "      <td>15세관람가</td>\n",
       "      <td>일반영화</td>\n",
       "    </tr>\n",
       "    <tr>\n",
       "      <th>극한직업</th>\n",
       "      <td>이병헌</td>\n",
       "      <td>씨제이이엔엠</td>\n",
       "      <td>2019-01-23</td>\n",
       "      <td>장편</td>\n",
       "      <td>한국</td>\n",
       "      <td>1978</td>\n",
       "      <td>139647979516</td>\n",
       "      <td>16264944</td>\n",
       "      <td>31,858,660,536</td>\n",
       "      <td>3,638,287</td>\n",
       "      <td>코미디</td>\n",
       "      <td>15세관람가</td>\n",
       "      <td>일반영화</td>\n",
       "    </tr>\n",
       "    <tr>\n",
       "      <th>신과함께-죄와 벌</th>\n",
       "      <td>김용화</td>\n",
       "      <td>롯데엔터테인먼트</td>\n",
       "      <td>2017-12-20</td>\n",
       "      <td>장편</td>\n",
       "      <td>한국</td>\n",
       "      <td>1912</td>\n",
       "      <td>115698654137</td>\n",
       "      <td>14410754</td>\n",
       "      <td>27,530,825,087</td>\n",
       "      <td>3,346,172</td>\n",
       "      <td>판타지</td>\n",
       "      <td>12세관람가</td>\n",
       "      <td>일반영화</td>\n",
       "    </tr>\n",
       "    <tr>\n",
       "      <th>국제시장</th>\n",
       "      <td>윤제균</td>\n",
       "      <td>씨제이이엔엠</td>\n",
       "      <td>2014-12-17</td>\n",
       "      <td>장편</td>\n",
       "      <td>한국</td>\n",
       "      <td>966</td>\n",
       "      <td>110828014630</td>\n",
       "      <td>14245998</td>\n",
       "      <td>25,842,519,330</td>\n",
       "      <td>3,233,946</td>\n",
       "      <td>드라마</td>\n",
       "      <td>12세관람가</td>\n",
       "      <td>일반영화</td>\n",
       "    </tr>\n",
       "    <tr>\n",
       "      <th>어벤져스: 엔드게임</th>\n",
       "      <td>안소니 루소</td>\n",
       "      <td>월트디즈니스튜디오스코리아</td>\n",
       "      <td>2019-04-24</td>\n",
       "      <td>장편</td>\n",
       "      <td>미국</td>\n",
       "      <td>2835</td>\n",
       "      <td>122182694160</td>\n",
       "      <td>13934592</td>\n",
       "      <td>33,577,136,860</td>\n",
       "      <td>3,597,963</td>\n",
       "      <td>액션</td>\n",
       "      <td>12세관람가</td>\n",
       "      <td>일반영화</td>\n",
       "    </tr>\n",
       "    <tr>\n",
       "      <th>...</th>\n",
       "      <td>...</td>\n",
       "      <td>...</td>\n",
       "      <td>...</td>\n",
       "      <td>...</td>\n",
       "      <td>...</td>\n",
       "      <td>...</td>\n",
       "      <td>...</td>\n",
       "      <td>...</td>\n",
       "      <td>...</td>\n",
       "      <td>...</td>\n",
       "      <td>...</td>\n",
       "      <td>...</td>\n",
       "      <td>...</td>\n",
       "    </tr>\n",
       "    <tr>\n",
       "      <th>나의 어머니</th>\n",
       "      <td>난니 모레티</td>\n",
       "      <td>티캐스트</td>\n",
       "      <td>2015-08-20</td>\n",
       "      <td>장편</td>\n",
       "      <td>기타</td>\n",
       "      <td>30</td>\n",
       "      <td>76569151</td>\n",
       "      <td>10031</td>\n",
       "      <td>59,303,651</td>\n",
       "      <td>7,301</td>\n",
       "      <td>드라마</td>\n",
       "      <td>12세관람가</td>\n",
       "      <td>독립/예술영화</td>\n",
       "    </tr>\n",
       "    <tr>\n",
       "      <th>타이페이 카페 스토리</th>\n",
       "      <td>샤오 야 췐</td>\n",
       "      <td>찬란</td>\n",
       "      <td>2011-07-07</td>\n",
       "      <td>장편</td>\n",
       "      <td>기타</td>\n",
       "      <td>10</td>\n",
       "      <td>76832900</td>\n",
       "      <td>10023</td>\n",
       "      <td>58,237,900</td>\n",
       "      <td>7,316</td>\n",
       "      <td>드라마</td>\n",
       "      <td>전체관람가</td>\n",
       "      <td>독립/예술영화</td>\n",
       "    </tr>\n",
       "    <tr>\n",
       "      <th>테라 3D: 인류 최후의 전쟁</th>\n",
       "      <td>아리스토메니스 치바스</td>\n",
       "      <td>마운틴픽쳐스</td>\n",
       "      <td>2010-11-04</td>\n",
       "      <td>장편</td>\n",
       "      <td>미국</td>\n",
       "      <td>48</td>\n",
       "      <td>106210549</td>\n",
       "      <td>10023</td>\n",
       "      <td>44,666,000</td>\n",
       "      <td>4,216</td>\n",
       "      <td>애니메이션</td>\n",
       "      <td>전체관람가</td>\n",
       "      <td>일반영화</td>\n",
       "    </tr>\n",
       "    <tr>\n",
       "      <th>글로리아 벨</th>\n",
       "      <td>세바스찬 렐리오</td>\n",
       "      <td>소니픽쳐스엔터테인먼트코리아극장배급지점</td>\n",
       "      <td>2019-06-06</td>\n",
       "      <td>장편</td>\n",
       "      <td>미국</td>\n",
       "      <td>48</td>\n",
       "      <td>77962520</td>\n",
       "      <td>10021</td>\n",
       "      <td>46,754,220</td>\n",
       "      <td>5,790</td>\n",
       "      <td>드라마</td>\n",
       "      <td>15세관람가</td>\n",
       "      <td>독립/예술영화</td>\n",
       "    </tr>\n",
       "    <tr>\n",
       "      <th>미 앤 유 앤 에브리원</th>\n",
       "      <td>미란다 줄라이</td>\n",
       "      <td>동숭아트센터</td>\n",
       "      <td>2006-01-27</td>\n",
       "      <td>장편</td>\n",
       "      <td>미국</td>\n",
       "      <td>0</td>\n",
       "      <td>0</td>\n",
       "      <td>10018</td>\n",
       "      <td>0</td>\n",
       "      <td>8,992</td>\n",
       "      <td>코미디</td>\n",
       "      <td>15세관람가</td>\n",
       "      <td>독립/예술영화</td>\n",
       "    </tr>\n",
       "  </tbody>\n",
       "</table>\n",
       "<p>4835 rows × 13 columns</p>\n",
       "</div>"
      ],
      "text/plain": [
       "                           감독                   배급사         개봉일 영화형태  국적  \\\n",
       "영화명                                                                        \n",
       "명량                        김한민                씨제이이엔엠  2014-07-30   장편  한국   \n",
       "극한직업                      이병헌                씨제이이엔엠  2019-01-23   장편  한국   \n",
       "신과함께-죄와 벌                 김용화              롯데엔터테인먼트  2017-12-20   장편  한국   \n",
       "국제시장                      윤제균                씨제이이엔엠  2014-12-17   장편  한국   \n",
       "어벤져스: 엔드게임             안소니 루소         월트디즈니스튜디오스코리아  2019-04-24   장편  미국   \n",
       "...                       ...                   ...         ...  ...  ..   \n",
       "나의 어머니                 난니 모레티                  티캐스트  2015-08-20   장편  기타   \n",
       "타이페이 카페 스토리            샤오 야 췐                    찬란  2011-07-07   장편  기타   \n",
       "테라 3D: 인류 최후의 전쟁  아리스토메니스 치바스                마운틴픽쳐스  2010-11-04   장편  미국   \n",
       "글로리아 벨               세바스찬 렐리오  소니픽쳐스엔터테인먼트코리아극장배급지점  2019-06-06   장편  미국   \n",
       "미 앤 유 앤 에브리원          미란다 줄라이                동숭아트센터  2006-01-27   장편  미국   \n",
       "\n",
       "                  전국 스크린수        전국 매출액    전국 관객수          서울 매출액     서울 관객수  \\\n",
       "영화명                                                                            \n",
       "명량                   1587  135748398910  17613682  33,121,225,810  4,163,666   \n",
       "극한직업                 1978  139647979516  16264944  31,858,660,536  3,638,287   \n",
       "신과함께-죄와 벌            1912  115698654137  14410754  27,530,825,087  3,346,172   \n",
       "국제시장                  966  110828014630  14245998  25,842,519,330  3,233,946   \n",
       "어벤져스: 엔드게임           2835  122182694160  13934592  33,577,136,860  3,597,963   \n",
       "...                   ...           ...       ...             ...        ...   \n",
       "나의 어머니                 30      76569151     10031      59,303,651      7,301   \n",
       "타이페이 카페 스토리            10      76832900     10023      58,237,900      7,316   \n",
       "테라 3D: 인류 최후의 전쟁       48     106210549     10023      44,666,000      4,216   \n",
       "글로리아 벨                 48      77962520     10021      46,754,220      5,790   \n",
       "미 앤 유 앤 에브리원            0             0     10018               0      8,992   \n",
       "\n",
       "                     장르      등급     영화구분  \n",
       "영화명                                       \n",
       "명량                   사극  15세관람가     일반영화  \n",
       "극한직업                코미디  15세관람가     일반영화  \n",
       "신과함께-죄와 벌           판타지  12세관람가     일반영화  \n",
       "국제시장                드라마  12세관람가     일반영화  \n",
       "어벤져스: 엔드게임           액션  12세관람가     일반영화  \n",
       "...                 ...     ...      ...  \n",
       "나의 어머니              드라마  12세관람가  독립/예술영화  \n",
       "타이페이 카페 스토리         드라마   전체관람가  독립/예술영화  \n",
       "테라 3D: 인류 최후의 전쟁  애니메이션   전체관람가     일반영화  \n",
       "글로리아 벨              드라마  15세관람가  독립/예술영화  \n",
       "미 앤 유 앤 에브리원        코미디  15세관람가  독립/예술영화  \n",
       "\n",
       "[4835 rows x 13 columns]"
      ]
     },
     "execution_count": 14,
     "metadata": {},
     "output_type": "execute_result"
    }
   ],
   "source": [
    "# '( )' 안쪽의 글씨 (ex> (주), (유), (사) etc.,) 함께 삭제\n",
    "df['배급사']=df.배급사.str.replace(r\"\\(.*\\)\",\"\") \n",
    "df['배급사']=df.배급사.str.replace(\"㈜\",\"\")\n",
    "df['배급사']=df.배급사.str.replace(\"주식회사\",\"\")\n",
    "\n",
    "# (주)씨제이이엔엠 으로 통일\n",
    "df['배급사']=df.배급사.str.replace(\"CJ ENM\",\"(주)씨제이이엔엠\")\n",
    "\n",
    "# 롯데엔터테인먼트 로 통일\n",
    "df['배급사']=df.배급사.str.replace(\"롯데쇼핑롯데엔터테인먼트\",\"롯데엔터테인먼트\")\n",
    "df['배급사']=df.배급사.str.replace(\"롯데컬처웍스(주)롯데엔터테인먼트\",\"롯데엔터테인먼트\")\n",
    "df['배급사']=df.배급사.str.replace(\"롯데쇼핑(주)롯데시네마\",\"롯데엔터테인먼트\")\n",
    "\n",
    "\n",
    "# 월트디즈니스튜디오스코리아 로 통일\n",
    "df['배급사']=df.배급사.str.replace(\"월트디즈니컴퍼니코리아 유한책임회사\",\"월트디즈니스튜디오스코리아\")\n",
    "df['배급사']=df.배급사.str.replace(\"소니픽쳐스릴리징월트디즈니스튜디오스코리아\",\"월트디즈니스튜디오스코리아\")\n",
    "df['배급사']=df.배급사.str.replace(\"브에나비스타인터내셔널코리아\",\"월트디즈니스튜디오스코리아\")\n",
    "df['배급사']=df.배급사.str.replace(\"소니픽쳐스엔터테인먼트코리아식회사극장배급지점\",\"월트디즈니스튜디오스코리아\")\n",
    "df['배급사']=df.배급사.str.replace(\"한국소니픽쳐스릴리징브에나비스타영화㈜\",\"월트디즈니스튜디오스코리아\")\n",
    "df['배급사']=df.배급사.str.replace(\"소니픽쳐스릴리징코리아\",\"월트디즈니스튜디오스코리아\")\n",
    "df['배급사']=df.배급사.str.replace(\"월트디즈니코리아\",\"월트디즈니스튜디오스코리아\")\n",
    "df['배급사']=df.배급사.str.replace(\"월트디즈니컴퍼니코리아\",\"월트디즈니스튜디오스코리아\")\n",
    "\n",
    "# 이십세기폭스코리아 로 통일\n",
    "df['배급사']=df.배급사.str.replace(\"이십세기폭스필름코퍼레이션\",\"이십세기폭스코리아\")\n",
    "\n",
    "# 이름 통일 (KBS 미디어)\n",
    "df['배급사']=df.배급사.str.replace(\"케이비에스미디어\",\"KBS 미디어\")\n",
    "\n",
    "# 이름 통일 (에스케이 텔레콤)\n",
    "df['배급사']=df.배급사.str.replace(\"에스케이플래닛\",\"에스케이텔레콤\")\n",
    "\n",
    "\n",
    "df"
   ]
  },
  {
   "cell_type": "code",
   "execution_count": null,
   "metadata": {},
   "outputs": [
    {
     "data": {
      "text/plain": [
       "305"
      ]
     },
     "execution_count": 15,
     "metadata": {},
     "output_type": "execute_result"
    }
   ],
   "source": [
    "len(df['배급사'].unique())"
   ]
  },
  {
   "cell_type": "code",
   "execution_count": null,
   "metadata": {},
   "outputs": [],
   "source": [
    "# row 생략 없이 출력\n",
    "pd.set_option('display.max_rows', 1000)\n",
    "# col 생략 없이 출력\n",
    "pd.set_option('display.max_columns', 1000)\n"
   ]
  },
  {
   "cell_type": "code",
   "execution_count": 5,
   "metadata": {},
   "outputs": [
    {
     "data": {
      "text/plain": [
       "array(['씨제이이엔엠', '롯데엔터테인먼트', '월트디즈니스튜디오스코리아', '해리슨앤컴퍼니', '쇼박스',\n",
       "       '넥스트엔터테인먼트월드', '에이비오엔터테인먼트', '시네마서비스', '롯데컬처웍스롯데엔터테인먼트',\n",
       "       '(주)씨제이이엔엠', '워너브러더스 코리아', '덱스터스튜디오', '소니픽쳐스엔터테인먼트코리아극장배급지점',\n",
       "       '이십세기폭스코리아', '플러스엠 엔터테인먼트', nan, '유니버설픽쳐스인터내셔널 코리아', 'UIP코리아',\n",
       "       '한국소니픽쳐스릴리징브에나비스타영화', '워너브러더스 코리아시네마서비스', 'CGV아트하우스', '싸이더스',\n",
       "       '판씨네마', '와우픽쳐스', '키위미디어그룹', '쇼이스트씨제이이엔엠', '코리아픽쳐스', '기타', '영화사청어람',\n",
       "       '프라임엔터테인먼트', '아이러브시네마', '인디스토리', '이수C&E', '에이스메이커무비웍스', '필라멘트픽쳐스',\n",
       "       '엠케이픽처스', '오퍼스픽쳐스', '스튜디오이쩜영', '두엔터테인먼트', '쇼이스트', '워터홀컴퍼니',\n",
       "       '에스케이텔레콤씨제이이엔엠', '씨네그루다우기술', '드림팩트엔터테인먼트', '튜브엔터테인먼트', '더콘텐츠온',\n",
       "       '조이앤시네마', '에스비에스콘텐츠허브', '제이앤씨미디어그룹', '씨너스엔터테인먼트', '에스케이텔레콤',\n",
       "       '씨에이치엔터테인먼트', '워터홀컴퍼니쇼박스', '콜럼비아트라이스타', '판씨네마넥스트엔터테인먼트월드',\n",
       "       '키다리이엔티', '에이라인', '동숭아트센터', '오퍼스픽쳐스쇼박스', '영화특별시에스엠씨', '스튜디오210',\n",
       "       '바이포엠스튜디오', '유니코리아문예투자', '프라임픽쳐스', '누리픽쳐스', '글뫼', '나이너스엔터테인먼트',\n",
       "       '벤티지홀딩스', '스마일이엔티', '마인드마크', '이언픽쳐스', '화앤담이엔티', '올스타엔터테인먼트',\n",
       "       '리틀빅픽쳐스', '엔케이컨텐츠', '롯데컬처웍스키다리이엔티', '영화사오원', '대교 미디어콘텐츠사업본부',\n",
       "       '에이원엔터테인먼트', '미디어데이', '다자인소프트', '팝엔터테인먼트', '유나이티드픽처스', ' 우리네트웍스',\n",
       "       '메리크리스마스', '엣나인필름', '씨네그루', '시나브로엔터테인먼트', '영화사청어람엠엔에프씨', '케이디미디어',\n",
       "       'TCO제이앤씨미디어그룹', '판씨네마프레인글로벌', '씨제이 씨지브이', '영화사올', '콘텐츠지오', '성원아이컴',\n",
       "       '스튜디오플러스', 'TCO', '미로비젼', ' 마운틴픽쳐스', '트리니티픽쳐스', '박수엔터테인먼트',\n",
       "       '동아수출공사', '오드', '마운틴픽쳐스', '키다리스튜디오', '스폰지이엔티', '아펙스 엔터테인먼트', '더쿱',\n",
       "       '실버스푼', '씨제이 씨지브이레드아이스 엔터테인먼트', '롯데쇼핑롯데시네마', 'CGV ICECON',\n",
       "       '씨너스엔터테인먼트엣나인필름', '프레인글로벌', '다우기술', '대원미디어', '대명문화공장', '타임스토리그룹',\n",
       "       '팝파트너스', 'CBS', '예지림엔터테인먼트', '디스테이션', '엠플러스픽쳐스', '플레너스시네마서비스',\n",
       "       '인벤트스톤', '영화사한결', '영화사 빅', '홈초이스', '퍼스트런', '영화사 진진', '코리아스크린',\n",
       "       '하준사', '그노스', '이놀미디어', '스폰지', '모멘텀엔터테인먼트', '씨네필운', '메가박스',\n",
       "       '미디어라인코리아', '메가박스중앙', '유레카픽쳐스', '티캐스트', '셀트리온엔터테인먼트', '투니버스온미디어',\n",
       "       '화천공사', '마인스 엔터테인먼트', '감자시네마서비스', '그린나래미디어홈초이스', '오시네마', '영화사 그램',\n",
       "       '미디어필름인터내셔날', '스톰픽쳐스코리아', '콘텐츠판다', 'THE 픽쳐스', '그린나래미디어', '찬란',\n",
       "       '와이드 릴리즈', '아이코닉스', '에이아이씨코리아', '페퍼민트앤컴퍼니', '커넥트픽쳐스', '티캐스트콘텐츠허브',\n",
       "       'KT&G 상상마당 영화사업팀 컴퍼니에스에스', 'TCO더콘텐츠온', '씨제이 씨지브이케이티알파',\n",
       "       '대원씨앤에이홀딩스', '동우에이앤이박수엔터테인먼트', '삼지애니메이션', '아우라엔터테인먼트', '윤스',\n",
       "       '애니플러스', '지어소프트', '왓챠', '트리플픽쳐스', '씨제이포디플렉스 ', '씨네월드', '무빙픽쳐스컴퍼니',\n",
       "       '케이티알파', '영화사구안', '파이오니아21', '더블앤조이픽쳐스', '팬엔터테인먼트', '씨제이 씨지브이씨네필운',\n",
       "       '크리픽쳐스', '무비즈엔터테인먼트', '씨제이포디플렉스', '블루라벨픽쳐스', '트윈플러스파트너스',\n",
       "       '그린나래미디어버킷스튜디오', '씨네그루영화사구안', '삼백상회', '스튜디오디에이치엘', '다날엔터테인먼트',\n",
       "       '씨지브이신도림', '새인컴퍼니', '포켓몬코리아', '태원엔터테인먼트', '시네마달', '와이드 릴리즈시네마서비스',\n",
       "       '콘텐츠패밀리', '와이즈베이', '아이비젼엔터테인먼트', '영화사 백두대간', '영화사 조제', '판씨네마미로비젼',\n",
       "       '버킷스튜디오', '엔터모드', '미로스페이스', '판씨네마케이티알파', 'T-JOY', '라이크콘텐츠',\n",
       "       '인터비스앤파트너스', '힘컨텐츠디스테이션', ' 왓챠', '그린나래미디어프레인글로벌', '영화사 안다미로',\n",
       "       '브리즈픽처스', '얼리버드픽쳐스', '데이지엔터테인먼트', '유로커뮤니케이션', '모인그룹', '소스원프로덕션',\n",
       "       '온 피크', '씨에이엔', '메인타이틀픽쳐스', '토이 엔터테인먼트', '신한영화', '그린나래미디어하이스트레인저',\n",
       "       ' 디에스이이디', '프리비젼엔터테인먼트', '엠제이픽쳐스', '마노엔터테인먼트', '필름더데이즈',\n",
       "       '소서러스어프렌티스', '영화제작전원사', '인디플러그', '에스에이치필름', '더 피플', '시너지미디어',\n",
       "       '코카반', '어뮤즈', '골든타이드픽처스', '레드로버', '이모션픽처스', '브에나비스타인터내셔널', '미디어캐슬',\n",
       "       '이미지팩토리', '서태지컴퍼니', '에스와이코마드', '태창엔터테인먼트', '이달투', '그린나래미디어인터파크',\n",
       "       '그린나래미디어영화사 안다미로', '비엠', '에스피엠', '메가박스중앙바이포엠스튜디오', '디오시네마',\n",
       "       '브릿지웍스 엔터테인먼트', '마스엔터테인먼트코리아', '그린나래미디어키위미디어그룹', ' 컨텐츠썬',\n",
       "       '머스트씨무비릴리징컴퍼니', ' 더쿱', '씨네포트', '빅웨이브시네마', '플레이리스트', '메가픽쳐스제이씨',\n",
       "       '해피송', '아이 엠', '제인앤유', '에픽캔', '필름뱅크', '드림웨스트픽쳐스', '필름메신저', '씨네진',\n",
       "       'M&M 인터내셔널', '파인스토리', 'KBS 미디어', '그린나래미디어영화사벌집', '오키넷', ' 씨네룩스',\n",
       "       '영화사 마농', '블룸즈베리파트너스', '<나쁜 나라> 배급위원회', '제이에스필름', '스튜디오느림보',\n",
       "       '화인픽쳐스', '빅버젯', '아우라픽처스', '영화사 마농씨네클럽봉봉미엘', '영화사 화수분', '영화사조아',\n",
       "       ' 포커스픽쳐', '필름오마쥬', '라인트리엔터테인먼트', '스튜디오 프로그레시브 인큐베이터', '엘지유플러스',\n",
       "       '풍경소리', '시네마 뉴원', '단유필름', '띵크', '글뫼 ', '명필름', '씨네파크',\n",
       "       'TCO전망좋은 영화사', '세종커뮤니케이션스', '엔픽플', '메타플레이', 'TCO디스테이션', '영화사 풀',\n",
       "       '미디어소프트', '그린나래미디어키다리이엔티', '마오필름', ' 슈아픽처스', '동우에이앤이', '알토미디어',\n",
       "       '신도필림', '씨에이씨엔터테인먼트', '더핑크퐁컴퍼니', '태양미디어그룹', '앤드플러스미디어웍스', '머스트씨무비',\n",
       "       'TCO조이앤시네마', '그린나래미디어다날엔터테인먼트', '아미가스필름', '소나무픽쳐스', '중헌홀딩스',\n",
       "       '블룸즈베리리소시스리미티드', '플레이그램', '알앤오엔터테인먼트', '디지컴코리아엠앤엠', ' 블루필름웍스',\n",
       "       '크로스픽쳐스', '애니박스 엔터테인먼트', '콘텐츠존', '인터파크', '스튜디오 산타클로스엔터테인먼트',\n",
       "       '뮤제엔터테인먼트', '뉴원시네마', '씨네21아이', '위드시네마', '블루필름웍스', '스크린조이',\n",
       "       '와이지엔터테인먼트', '문필름코리아', '비싸이드 픽쳐스', '김기덕 필름', '한마음프로덕션', '영화사샘'],\n",
       "      dtype=object)"
      ]
     },
     "execution_count": 5,
     "metadata": {},
     "output_type": "execute_result"
    }
   ],
   "source": [
    "df['배급사'].unique()"
   ]
  },
  {
   "cell_type": "code",
   "execution_count": null,
   "metadata": {},
   "outputs": [],
   "source": [
    "# 배급사가 cgv icecon 인 데이터 추출\n",
    "# df.loc[df['배급사']=='CGV ICECON']\n",
    "\n",
    "df.loc[df['배급사']=='SK 브로드밴드']"
   ]
  },
  {
   "cell_type": "code",
   "execution_count": null,
   "metadata": {
    "id": "hVfiaeWzTM1l"
   },
   "outputs": [],
   "source": [
    "movie_labels = pd.get_dummies(movie_resize,columns = ['영화형태','국적','장르','등급','영화구분'])"
   ]
  },
  {
   "cell_type": "code",
   "execution_count": null,
   "metadata": {
    "id": "aTyhCzrqTOwW"
   },
   "outputs": [],
   "source": [
    "not_used = ['영화명', '감독', '배급사','개봉일']\n",
    "movie_DL = movie_labels.drop(not_used, axis=1)"
   ]
  },
  {
   "cell_type": "code",
   "execution_count": null,
   "metadata": {
    "colab": {
     "base_uri": "https://localhost:8080/",
     "height": 707
    },
    "executionInfo": {
     "elapsed": 5,
     "status": "ok",
     "timestamp": 1679446474161,
     "user": {
      "displayName": "Seong-jin Oh",
      "userId": "11643747649955714296"
     },
     "user_tz": -540
    },
    "id": "j8CiosUZygVk",
    "outputId": "b198721c-536b-4d2f-f93b-7b234a2dab0c"
   },
   "outputs": [],
   "source": [
    "movie_DL"
   ]
  },
  {
   "cell_type": "code",
   "execution_count": null,
   "metadata": {
    "id": "QF-zV0a8TQm9"
   },
   "outputs": [],
   "source": [
    "독립 = movie_DL[['전국스크린수', '전국 매출액','영화형태_단편', '영화형태_옴니버스', '영화형태_장편', '국적_기타',\n",
    "       '국적_독일', '국적_미국', '국적_영국', '국적_일본', '국적_중국', '국적_프랑스', '국적_한국', '장르_SF',\n",
    "       '장르_가족', '장르_공연', '장르_공포(호러)', '장르_기타', '장르_다큐멘터리', '장르_드라마',\n",
    "       '장르_멜로/로맨스', '장르_뮤지컬', '장르_미스터리', '장르_범죄', '장르_사극', '장르_서부극(웨스턴)',\n",
    "       '장르_성인물(에로)', '장르_스릴러', '장르_애니메이션', '장르_액션', '장르_어드벤처', '장르_전쟁',\n",
    "       '장르_코미디', '장르_판타지', '등급_12세관람가', '등급_15세관람가', '등급_전체관람가', '등급_청소년관람불가',\n",
    "       '영화구분_독립/예술영화', '영화구분_일반영화']]\n",
    "종속 = movie_DL[['전국 관객수']]"
   ]
  },
  {
   "cell_type": "code",
   "execution_count": null,
   "metadata": {
    "id": "ooCs0i8ITSW0"
   },
   "outputs": [],
   "source": [
    "from sklearn.model_selection import train_test_split\n",
    "train_input, test_input, train_target,test_target = train_test_split(독립,종속,test_size=0.2,random_state=42)"
   ]
  },
  {
   "cell_type": "code",
   "execution_count": null,
   "metadata": {
    "id": "U_YkFJdBU3C1"
   },
   "outputs": [],
   "source": []
  }
 ],
 "metadata": {
  "accelerator": "GPU",
  "colab": {
   "authorship_tag": "ABX9TyO4N5p4BUt8upwTGHydm1QD",
   "provenance": []
  },
  "gpuClass": "standard",
  "kernelspec": {
   "display_name": "Python 3 (ipykernel)",
   "language": "python",
   "name": "python3"
  },
  "language_info": {
   "codemirror_mode": {
    "name": "ipython",
    "version": 3
   },
   "file_extension": ".py",
   "mimetype": "text/x-python",
   "name": "python",
   "nbconvert_exporter": "python",
   "pygments_lexer": "ipython3",
   "version": "3.9.13"
  }
 },
 "nbformat": 4,
 "nbformat_minor": 1
}
