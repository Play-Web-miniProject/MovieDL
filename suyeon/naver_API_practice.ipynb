{
 "cells": [
  {
   "attachments": {},
   "cell_type": "markdown",
   "metadata": {},
   "source": [
    "# 크롤링 시작하기"
   ]
  },
  {
   "attachments": {},
   "cell_type": "markdown",
   "metadata": {},
   "source": [
    "## 함수 시작"
   ]
  },
  {
   "cell_type": "code",
   "execution_count": null,
   "metadata": {},
   "outputs": [],
   "source": [
    "import requests\n",
    "from bs4 import BeautifulSoup\n",
    "import time\n",
    "import csv \n",
    "import pandas as pd"
   ]
  },
  {
   "cell_type": "code",
   "execution_count": null,
   "metadata": {},
   "outputs": [],
   "source": [
    "urldata = pd.read_csv('../data/movie_data/concat.csv', encoding='utf-8')[['영화명','네이버URL']]"
   ]
  },
  {
   "cell_type": "code",
   "execution_count": null,
   "metadata": {},
   "outputs": [],
   "source": [
    "urldata.head()"
   ]
  },
  {
   "cell_type": "code",
   "execution_count": null,
   "metadata": {},
   "outputs": [],
   "source": [
    "name = []\n",
    "code = []\n",
    "\n",
    "for i in range(0, len(urldata)):\n",
    "    code.append(urldata['네이버URL'][i].split(\"=\")[-1])\n",
    "    name.append(urldata['영화명'][i])"
   ]
  },
  {
   "cell_type": "code",
   "execution_count": null,
   "metadata": {},
   "outputs": [],
   "source": [
    "print(name, code)"
   ]
  },
  {
   "cell_type": "code",
   "execution_count": null,
   "metadata": {},
   "outputs": [],
   "source": [
    "movie_list = name[:10]\n",
    "movie_code = code[:10]\n",
    "\n",
    "# movie_list = ['스즈메의 문단속']\n",
    "# movie_code = ['215932']\n",
    "\n",
    "cnt = 10\n",
    "need_reviews_cnt = cnt\n",
    "movie_title = []\n",
    "reviews = []\n",
    "review_total = []\n",
    "\n",
    "#page를 1부터 1씩 증가하며 URL을 다음 페이지로 바꿈 \n",
    "for i, code in enumerate(movie_code):\n",
    "    movie_title.append(movie_list[i])\n",
    "    url = f'https://movie.naver.com/movie/bi/mi/pointWriteFormList.naver?code={code}&type=after&isActualPointWriteExecute=false&isMileageSubscriptionAlready=false&isMileageSubscriptionReject=false&page=1'\n",
    "    #get : request로 url의  html문서의 내용 요청\n",
    "    html = requests.get(url)\n",
    "    #html을 받아온 문서를 .content로 지정 후 soup객체로 변환\n",
    "    soup = BeautifulSoup(html.content,'html.parser')\n",
    "    #find_all : 지정한 태그의 내용을 모두 찾아 리스트로 반환\n",
    "    score_total = int(soup.find(\"div\",{\"class\":\"score_total\"}).find(\"em\").text.replace(\",\",\"\"))\n",
    "    max_range = score_total//10 + 2 if score_total%10 != 0 else score_total//10 + 1\n",
    "    \n",
    "    review_data=[]\n",
    "    for page in range(1,max_range):\n",
    "        url = f'https://movie.naver.com/movie/bi/mi/pointWriteFormList.naver?code={code}&type=after&isActualPointWriteExecute=false&isMileageSubscriptionAlready=false&isMileageSubscriptionReject=false&page={page}'\n",
    "        \n",
    "        #get : request로 url의  html문서의 내용 요청\n",
    "        html = requests.get(url)\n",
    "        #html을 받아온 문서를 .content로 지정 후 soup객체로 변환\n",
    "        soup = BeautifulSoup(html.content,'html.parser')\n",
    "        #find_all : 지정한 태그의 내용을 모두 찾아 리스트로 반환\n",
    "        \n",
    "        if need_reviews_cnt == 0:\n",
    "            need_reviews_cnt = cnt\n",
    "            break\n",
    "\n",
    "        \n",
    "        reviews = soup.find_all(\"div\",{\"class\":\"score_reple\"}) #리스트로 저장해\n",
    "        for review in reviews:\n",
    "            sentence = review.find_all(\"span\")\n",
    "            \n",
    "            if sentence[0].text != \"관람객\":\n",
    "                review_data.append(sentence[0].text.strip())\n",
    "\n",
    "            elif sentence[1].text == '스포일러가 포함된 감상평입니다. 감상평 보기':\n",
    "                # review_data.append(sentence[3].text.strip())\n",
    "                review_data.append(sentence[3].find(\"a\").get('data-src'))\n",
    "\n",
    "            else:\n",
    "                review_data.append(sentence[1].text.strip())\n",
    "                # print(sentence[1].text.strip())\n",
    "\n",
    "            need_reviews_cnt -= 1       # 나중에 빼기\n",
    "            \n",
    "\n",
    "        time.sleep(0.5)\n",
    "\n",
    "    review_total.append(review_data)\n",
    "    \n",
    "\n",
    "review_dict = {\n",
    "    \"영화명\" : movie_title,\n",
    "    \"리뷰\" : review_total\n",
    "}\n",
    "\n",
    "review_df = pd.DataFrame(review_dict)\n",
    "review_df.to_csv('review_utf8.csv', encoding='utf-8')"
   ]
  },
  {
   "attachments": {},
   "cell_type": "markdown",
   "metadata": {},
   "source": [
    "# 리뷰 데이터 전처리"
   ]
  },
  {
   "attachments": {},
   "cell_type": "markdown",
   "metadata": {},
   "source": [
    "## 라이브러리 설치 및 임포트"
   ]
  },
  {
   "cell_type": "code",
   "execution_count": null,
   "metadata": {},
   "outputs": [],
   "source": [
    "!pip install git+https://github.com/haven-jeon/PyKoSpacing.git"
   ]
  },
  {
   "cell_type": "code",
   "execution_count": null,
   "metadata": {},
   "outputs": [],
   "source": [
    "!pip install kss"
   ]
  },
  {
   "cell_type": "code",
   "execution_count": null,
   "metadata": {},
   "outputs": [],
   "source": [
    "!pip install soynlp"
   ]
  },
  {
   "cell_type": "code",
   "execution_count": 1,
   "metadata": {},
   "outputs": [],
   "source": [
    "import kss\n",
    "import re\n",
    "import pandas as pd\n",
    "from tqdm import tqdm\n",
    "from soynlp.normalizer import *\n",
    "from konlpy.tag import Okt\n",
    "from pykospacing import Spacing\n",
    "from kss import split_sentences\n",
    "from collections import Counter"
   ]
  },
  {
   "attachments": {},
   "cell_type": "markdown",
   "metadata": {},
   "source": [
    "## 리뷰 데이터 불러오기"
   ]
  },
  {
   "cell_type": "code",
   "execution_count": 54,
   "metadata": {},
   "outputs": [],
   "source": [
    "# 리뷰 데이터 불러오기\n",
    "review_data = './review_utf8.csv'\n",
    "df = pd.read_csv(review_data, encoding='UTF-8', index_col=0)"
   ]
  },
  {
   "cell_type": "code",
   "execution_count": 55,
   "metadata": {},
   "outputs": [
    {
     "data": {
      "text/html": [
       "<div>\n",
       "<style scoped>\n",
       "    .dataframe tbody tr th:only-of-type {\n",
       "        vertical-align: middle;\n",
       "    }\n",
       "\n",
       "    .dataframe tbody tr th {\n",
       "        vertical-align: top;\n",
       "    }\n",
       "\n",
       "    .dataframe thead th {\n",
       "        text-align: right;\n",
       "    }\n",
       "</style>\n",
       "<table border=\"1\" class=\"dataframe\">\n",
       "  <thead>\n",
       "    <tr style=\"text-align: right;\">\n",
       "      <th></th>\n",
       "      <th>영화명</th>\n",
       "      <th>리뷰</th>\n",
       "    </tr>\n",
       "  </thead>\n",
       "  <tbody>\n",
       "    <tr>\n",
       "      <th>0</th>\n",
       "      <td>명량</td>\n",
       "      <td>['오늘 명량 시사회로 방금 보고 왔음. 단연코 올해의 수작임. 밑에 평론가들 캐릭...</td>\n",
       "    </tr>\n",
       "    <tr>\n",
       "      <th>1</th>\n",
       "      <td>극한직업</td>\n",
       "      <td>['일단 진선규님 진짜 연기를 다양하게 잘하셔서 놀랐어요 오랜만에 부담없이 진짜 코...</td>\n",
       "    </tr>\n",
       "    <tr>\n",
       "      <th>2</th>\n",
       "      <td>신과함께-죄와 벌</td>\n",
       "      <td>['이정재가 홍보 따라다닌 이유를 알겠음 ㅋㅋㅋ 그리고 관심병사 연기 도랐다', '...</td>\n",
       "    </tr>\n",
       "    <tr>\n",
       "      <th>3</th>\n",
       "      <td>국제시장</td>\n",
       "      <td>['영화내내 가족에게 잘해야겠다 생각이 들었다.우리 아버지는 날위해 모든것을바치신사...</td>\n",
       "    </tr>\n",
       "    <tr>\n",
       "      <th>4</th>\n",
       "      <td>어벤져스: 엔드게임</td>\n",
       "      <td>['마블 3000만큼 사랑합니다', 'Avengers Assemble!', \"I'm...</td>\n",
       "    </tr>\n",
       "  </tbody>\n",
       "</table>\n",
       "</div>"
      ],
      "text/plain": [
       "          영화명                                                 리뷰\n",
       "0          명량  ['오늘 명량 시사회로 방금 보고 왔음. 단연코 올해의 수작임. 밑에 평론가들 캐릭...\n",
       "1        극한직업  ['일단 진선규님 진짜 연기를 다양하게 잘하셔서 놀랐어요 오랜만에 부담없이 진짜 코...\n",
       "2   신과함께-죄와 벌  ['이정재가 홍보 따라다닌 이유를 알겠음 ㅋㅋㅋ 그리고 관심병사 연기 도랐다', '...\n",
       "3        국제시장  ['영화내내 가족에게 잘해야겠다 생각이 들었다.우리 아버지는 날위해 모든것을바치신사...\n",
       "4  어벤져스: 엔드게임  ['마블 3000만큼 사랑합니다', 'Avengers Assemble!', \"I'm..."
      ]
     },
     "execution_count": 55,
     "metadata": {},
     "output_type": "execute_result"
    }
   ],
   "source": [
    "df.head()"
   ]
  },
  {
   "cell_type": "code",
   "execution_count": 56,
   "metadata": {},
   "outputs": [
    {
     "data": {
      "text/plain": [
       "\"['오늘 명량 시사회로 방금 보고 왔음. 단연코 올해의 수작임. 밑에 평론가들 캐릭터 어쩌고 하는데 류승룡 캐릭터 더 살리면 일본장수 미화한다며 입털게 분명. 평론가들 하는 짓이라곤 남이 차린 밥상 맛있네 맛없네 까대며...', '이순신, 그는 신이다.', '군도보다 훨씬 잼있음..극장가서 꼭 보세요', '29일 시사회로 봤어요냉정하게이건 꼭 봐야해..굿', '오늘 아침에 조조로 보고왔습니다. 8월4일에 해군에 입대하는데. 그전에 보기 잘한 영화같습니다. 평소에 영화 많이 좋아하고 자주보는 편인데. 무지 재미있게 봤습니다. 나라 잘지키고 오겠습니다 필승', '정말 재미있네요 잘보고 왔습니다 시사회', '극찬할 수는 없지만 이 정도면 내용, 영상, 연출 전부 꽤나 뛰어난 작품이지 않은가? 평론가들의 평점 6점은 도대체 어떻게 해서 나온 점수인지... 블랙펄 같은 배가 나오고 판옥선이 거북선으로 트랜스포머하는 장면이 ...', '국가에 버림을 받아도 의리로 지키려는 충신. 피를 흘리면서 싸우는 군인들의 투지. 두려움을 넘어선 백성들의 의지. 소중한 가족들을 잃은 민족의 한...  슬픈 명작이었습니다....', '보는 내내 가슴찡하고 울컥하는 진짜 최고의 영화ㅠㅠ한 순간도 놓칠 수 없는 해전씬이 특히 압권!!', '작금의 이시점에 국가가 혼란하고 위태할수록국가를 직간접으로 책임지고 있는 리더에게 무엇이 필요한지 리더의 마음이 한치의 흔들림없이 무엇을 향하고 있어야 하는지를 세치의 혀가 아닌 온몸으로 400년전 구국의영웅이 20...']\""
      ]
     },
     "execution_count": 56,
     "metadata": {},
     "output_type": "execute_result"
    }
   ],
   "source": [
    "df['리뷰'][0]"
   ]
  },
  {
   "cell_type": "code",
   "execution_count": 57,
   "metadata": {},
   "outputs": [],
   "source": [
    "# split으로 나누기 \n",
    "for i in range(len(df)):\n",
    "    df['리뷰'][i] = df['리뷰'][i].replace('[', '').replace(']', '').split(\"', '\")"
   ]
  },
  {
   "cell_type": "code",
   "execution_count": 58,
   "metadata": {},
   "outputs": [
    {
     "data": {
      "text/plain": [
       "[\"'오늘 명량 시사회로 방금 보고 왔음. 단연코 올해의 수작임. 밑에 평론가들 캐릭터 어쩌고 하는데 류승룡 캐릭터 더 살리면 일본장수 미화한다며 입털게 분명. 평론가들 하는 짓이라곤 남이 차린 밥상 맛있네 맛없네 까대며...\",\n",
       " '이순신, 그는 신이다.',\n",
       " '군도보다 훨씬 잼있음..극장가서 꼭 보세요',\n",
       " '29일 시사회로 봤어요냉정하게이건 꼭 봐야해..굿',\n",
       " '오늘 아침에 조조로 보고왔습니다. 8월4일에 해군에 입대하는데. 그전에 보기 잘한 영화같습니다. 평소에 영화 많이 좋아하고 자주보는 편인데. 무지 재미있게 봤습니다. 나라 잘지키고 오겠습니다 필승',\n",
       " '정말 재미있네요 잘보고 왔습니다 시사회',\n",
       " '극찬할 수는 없지만 이 정도면 내용, 영상, 연출 전부 꽤나 뛰어난 작품이지 않은가? 평론가들의 평점 6점은 도대체 어떻게 해서 나온 점수인지... 블랙펄 같은 배가 나오고 판옥선이 거북선으로 트랜스포머하는 장면이 ...',\n",
       " '국가에 버림을 받아도 의리로 지키려는 충신. 피를 흘리면서 싸우는 군인들의 투지. 두려움을 넘어선 백성들의 의지. 소중한 가족들을 잃은 민족의 한...  슬픈 명작이었습니다....',\n",
       " '보는 내내 가슴찡하고 울컥하는 진짜 최고의 영화ㅠㅠ한 순간도 놓칠 수 없는 해전씬이 특히 압권!!',\n",
       " \"작금의 이시점에 국가가 혼란하고 위태할수록국가를 직간접으로 책임지고 있는 리더에게 무엇이 필요한지 리더의 마음이 한치의 흔들림없이 무엇을 향하고 있어야 하는지를 세치의 혀가 아닌 온몸으로 400년전 구국의영웅이 20...'\"]"
      ]
     },
     "execution_count": 58,
     "metadata": {},
     "output_type": "execute_result"
    }
   ],
   "source": [
    "df['리뷰'][0]"
   ]
  },
  {
   "cell_type": "code",
   "execution_count": 59,
   "metadata": {},
   "outputs": [
    {
     "data": {
      "text/html": [
       "<div>\n",
       "<style scoped>\n",
       "    .dataframe tbody tr th:only-of-type {\n",
       "        vertical-align: middle;\n",
       "    }\n",
       "\n",
       "    .dataframe tbody tr th {\n",
       "        vertical-align: top;\n",
       "    }\n",
       "\n",
       "    .dataframe thead th {\n",
       "        text-align: right;\n",
       "    }\n",
       "</style>\n",
       "<table border=\"1\" class=\"dataframe\">\n",
       "  <thead>\n",
       "    <tr style=\"text-align: right;\">\n",
       "      <th></th>\n",
       "      <th>영화명</th>\n",
       "      <th>리뷰</th>\n",
       "    </tr>\n",
       "  </thead>\n",
       "  <tbody>\n",
       "    <tr>\n",
       "      <th>0</th>\n",
       "      <td>명량</td>\n",
       "      <td>['오늘 명량 시사회로 방금 보고 왔음. 단연코 올해의 수작임. 밑에 평론가들 캐릭...</td>\n",
       "    </tr>\n",
       "    <tr>\n",
       "      <th>1</th>\n",
       "      <td>극한직업</td>\n",
       "      <td>['일단 진선규님 진짜 연기를 다양하게 잘하셔서 놀랐어요 오랜만에 부담없이 진짜 코...</td>\n",
       "    </tr>\n",
       "    <tr>\n",
       "      <th>2</th>\n",
       "      <td>신과함께-죄와 벌</td>\n",
       "      <td>['이정재가 홍보 따라다닌 이유를 알겠음 ㅋㅋㅋ 그리고 관심병사 연기 도랐다, 남자...</td>\n",
       "    </tr>\n",
       "    <tr>\n",
       "      <th>3</th>\n",
       "      <td>국제시장</td>\n",
       "      <td>['영화내내 가족에게 잘해야겠다 생각이 들었다.우리 아버지는 날위해 모든것을바치신사...</td>\n",
       "    </tr>\n",
       "    <tr>\n",
       "      <th>4</th>\n",
       "      <td>어벤져스: 엔드게임</td>\n",
       "      <td>['마블 3000만큼 사랑합니다, Avengers Assemble!', \"I'm I...</td>\n",
       "    </tr>\n",
       "    <tr>\n",
       "      <th>5</th>\n",
       "      <td>겨울왕국 2</td>\n",
       "      <td>['올라프의 1편요약이 기가맥힙니다, 크리스토퍼 뮤비에서 좀 흠칫함, 미래가 보이지...</td>\n",
       "    </tr>\n",
       "    <tr>\n",
       "      <th>6</th>\n",
       "      <td>아바타</td>\n",
       "      <td>['영화사인 한 획을 그은 영화, 스토리 전개 뻔할지도 몰라요 근데 좋음  스토리 ...</td>\n",
       "    </tr>\n",
       "    <tr>\n",
       "      <th>7</th>\n",
       "      <td>베테랑</td>\n",
       "      <td>['머야 이거 암살 보다 재미 있네, 황정민, 유해진, 오달수의 연기력도 대단하지만...</td>\n",
       "    </tr>\n",
       "    <tr>\n",
       "      <th>8</th>\n",
       "      <td>괴물</td>\n",
       "      <td>['뻔한 스토리로 뻔하지 않은 영화를 만들었다, 좀 똑똑한 사람들은 이 영화를 보고...</td>\n",
       "    </tr>\n",
       "    <tr>\n",
       "      <th>9</th>\n",
       "      <td>도둑들</td>\n",
       "      <td>['ㅋㅋㅋ스토리도 탄탄하고 연기자들 연기도 누구 하나 나쁘지 않았는데 왜 저렇게 별...</td>\n",
       "    </tr>\n",
       "  </tbody>\n",
       "</table>\n",
       "</div>"
      ],
      "text/plain": [
       "          영화명                                                 리뷰\n",
       "0          명량  ['오늘 명량 시사회로 방금 보고 왔음. 단연코 올해의 수작임. 밑에 평론가들 캐릭...\n",
       "1        극한직업  ['일단 진선규님 진짜 연기를 다양하게 잘하셔서 놀랐어요 오랜만에 부담없이 진짜 코...\n",
       "2   신과함께-죄와 벌  ['이정재가 홍보 따라다닌 이유를 알겠음 ㅋㅋㅋ 그리고 관심병사 연기 도랐다, 남자...\n",
       "3        국제시장  ['영화내내 가족에게 잘해야겠다 생각이 들었다.우리 아버지는 날위해 모든것을바치신사...\n",
       "4  어벤져스: 엔드게임  ['마블 3000만큼 사랑합니다, Avengers Assemble!', \"I'm I...\n",
       "5      겨울왕국 2  ['올라프의 1편요약이 기가맥힙니다, 크리스토퍼 뮤비에서 좀 흠칫함, 미래가 보이지...\n",
       "6         아바타  ['영화사인 한 획을 그은 영화, 스토리 전개 뻔할지도 몰라요 근데 좋음  스토리 ...\n",
       "7         베테랑  ['머야 이거 암살 보다 재미 있네, 황정민, 유해진, 오달수의 연기력도 대단하지만...\n",
       "8          괴물  ['뻔한 스토리로 뻔하지 않은 영화를 만들었다, 좀 똑똑한 사람들은 이 영화를 보고...\n",
       "9         도둑들  ['ㅋㅋㅋ스토리도 탄탄하고 연기자들 연기도 누구 하나 나쁘지 않았는데 왜 저렇게 별..."
      ]
     },
     "execution_count": 59,
     "metadata": {},
     "output_type": "execute_result"
    }
   ],
   "source": [
    "df"
   ]
  },
  {
   "attachments": {},
   "cell_type": "markdown",
   "metadata": {},
   "source": [
    "## 자연어 처리"
   ]
  },
  {
   "attachments": {},
   "cell_type": "markdown",
   "metadata": {},
   "source": [
    "1. 한 개의 리뷰 안에 여러 개의 문장이 있어 => 문장 토큰화\n",
    "2. 리뷰에서 영어표현, puncation, 이모티콘은 모두 제거한다. (=한글 표현만 남긴다)\n",
    "3. 반복되는 문자 정제 (=와하하하하하 같은 것)\n",
    "4. 띄어쓰기 변환기를 통해 띄어쓰기가 되어있지 않은 문장들을 제대로 변환한다.\n",
    "5. 형태소 분석기를 통해 각각의 리뷰를 형태소 단위로 분리한다.\n",
    "6. 한글자로 되어있는 것 제거\n",
    "7. 빈도수가 많은 순으로 정렬 후 의미없는 단어(불용어) 제거\n",
    "8. 최소빈도수 이하의 것들은 제거한다.\n",
    "9. 잘못 분리 된 의미있는 단어들을 찾아서 사용자 단어 사전에 추가 (ex. 디테일 => 디 + 테일로 분리됨)"
   ]
  },
  {
   "attachments": {},
   "cell_type": "markdown",
   "metadata": {},
   "source": [
    "### 1) 문장 토큰화"
   ]
  },
  {
   "cell_type": "code",
   "execution_count": 60,
   "metadata": {},
   "outputs": [],
   "source": [
    "# # 문장 토큰화  KSS(Korean Sentence Splitter)\n",
    "\n",
    "for i in range(len(df)):\n",
    "    df['리뷰'][i] = kss.split_sentences(df['리뷰'][i])"
   ]
  },
  {
   "cell_type": "code",
   "execution_count": 61,
   "metadata": {},
   "outputs": [
    {
     "data": {
      "text/html": [
       "<div>\n",
       "<style scoped>\n",
       "    .dataframe tbody tr th:only-of-type {\n",
       "        vertical-align: middle;\n",
       "    }\n",
       "\n",
       "    .dataframe tbody tr th {\n",
       "        vertical-align: top;\n",
       "    }\n",
       "\n",
       "    .dataframe thead th {\n",
       "        text-align: right;\n",
       "    }\n",
       "</style>\n",
       "<table border=\"1\" class=\"dataframe\">\n",
       "  <thead>\n",
       "    <tr style=\"text-align: right;\">\n",
       "      <th></th>\n",
       "      <th>영화명</th>\n",
       "      <th>리뷰</th>\n",
       "    </tr>\n",
       "  </thead>\n",
       "  <tbody>\n",
       "    <tr>\n",
       "      <th>0</th>\n",
       "      <td>명량</td>\n",
       "      <td>[['오늘 명량 시사회로 방금 보고 왔음., 단연코 올해의 수작임., 밑에 평론가들...</td>\n",
       "    </tr>\n",
       "    <tr>\n",
       "      <th>1</th>\n",
       "      <td>극한직업</td>\n",
       "      <td>[['일단 진선규님 진짜 연기를 다양하게 잘하셔서 놀랐어요, 오랜만에 부담없이 진짜...</td>\n",
       "    </tr>\n",
       "    <tr>\n",
       "      <th>2</th>\n",
       "      <td>신과함께-죄와 벌</td>\n",
       "      <td>[['이정재가 홍보 따라다닌 이유를 알겠음 ㅋㅋㅋ, 그리고 관심병사 연기 도랐다],...</td>\n",
       "    </tr>\n",
       "    <tr>\n",
       "      <th>3</th>\n",
       "      <td>국제시장</td>\n",
       "      <td>[['영화내내 가족에게 잘해야겠다, 생각이 들었다., 우리 아버지는 날위해 모든것을...</td>\n",
       "    </tr>\n",
       "    <tr>\n",
       "      <th>4</th>\n",
       "      <td>어벤져스: 엔드게임</td>\n",
       "      <td>[['마블 3000만큼 사랑합니다], [Avengers Assemble!', \"I'...</td>\n",
       "    </tr>\n",
       "  </tbody>\n",
       "</table>\n",
       "</div>"
      ],
      "text/plain": [
       "          영화명                                                 리뷰\n",
       "0          명량  [['오늘 명량 시사회로 방금 보고 왔음., 단연코 올해의 수작임., 밑에 평론가들...\n",
       "1        극한직업  [['일단 진선규님 진짜 연기를 다양하게 잘하셔서 놀랐어요, 오랜만에 부담없이 진짜...\n",
       "2   신과함께-죄와 벌  [['이정재가 홍보 따라다닌 이유를 알겠음 ㅋㅋㅋ, 그리고 관심병사 연기 도랐다],...\n",
       "3        국제시장  [['영화내내 가족에게 잘해야겠다, 생각이 들었다., 우리 아버지는 날위해 모든것을...\n",
       "4  어벤져스: 엔드게임  [['마블 3000만큼 사랑합니다], [Avengers Assemble!', \"I'..."
      ]
     },
     "execution_count": 61,
     "metadata": {},
     "output_type": "execute_result"
    }
   ],
   "source": [
    "df.head()"
   ]
  },
  {
   "cell_type": "code",
   "execution_count": 76,
   "metadata": {},
   "outputs": [
    {
     "data": {
      "text/plain": [
       "[[\"'오늘 명량 시사회로 방금 보고 왔음.\",\n",
       "  '단연코 올해의 수작임.',\n",
       "  '밑에 평론가들 캐릭터 어쩌고 하는데 류승룡 캐릭터 더 살리면 일본장수 미화한다며 입털게 분명. 평론가들 하는 짓이라곤 남이 차린 밥상 맛있네',\n",
       "  '맛없네',\n",
       "  '까대며...'],\n",
       " ['이순신, 그는 신이다.'],\n",
       " ['군도보다 훨씬 잼있음..', '극장가서 꼭 보세요'],\n",
       " ['29일 시사회로 봤어요', '냉정하게이건 꼭 봐야해..', '굿'],\n",
       " ['오늘 아침에 조조로 보고왔습니다.',\n",
       "  '8월4일에 해군에 입대하는데.',\n",
       "  '그전에 보기 잘한 영화같습니다.',\n",
       "  '평소에 영화 많이 좋아하고 자주보는 편인데.',\n",
       "  '무지 재미있게 봤습니다.',\n",
       "  '나라 잘지키고 오겠습니다',\n",
       "  '필승'],\n",
       " ['정말 재미있네요', '잘보고 왔습니다', '시사회'],\n",
       " ['극찬할 수는 없지만 이 정도면 내용, 영상, 연출 전부 꽤나 뛰어난 작품이지 않은가?',\n",
       "  '평론가들의 평점 6점은 도대체 어떻게 해서 나온 점수인지...',\n",
       "  '블랙펄 같은 배가 나오고 판옥선이 거북선으로 트랜스포머하는 장면이 ...'],\n",
       " ['국가에 버림을 받아도 의리로 지키려는 충신.',\n",
       "  '피를 흘리면서 싸우는 군인들의 투지.',\n",
       "  '두려움을 넘어선 백성들의 의지.',\n",
       "  '소중한 가족들을 잃은 민족의 한...',\n",
       "  '슬픈 명작이었습니다....'],\n",
       " ['보는 내내 가슴찡하고 울컥하는 진짜 최고의 영화ㅠㅠ한 순간도 놓칠 수 없는 해전씬이 특히 압권!!'],\n",
       " [\"작금의 이시점에 국가가 혼란하고 위태할수록국가를 직간접으로 책임지고 있는 리더에게 무엇이 필요한지 리더의 마음이 한치의 흔들림없이 무엇을 향하고 있어야 하는지를 세치의 혀가 아닌 온몸으로 400년전 구국의영웅이 20...'\"]]"
      ]
     },
     "execution_count": 76,
     "metadata": {},
     "output_type": "execute_result"
    }
   ],
   "source": [
    "df['리뷰'][0]"
   ]
  },
  {
   "attachments": {},
   "cell_type": "markdown",
   "metadata": {},
   "source": [
    "### 2) 한글 표현 남기기"
   ]
  },
  {
   "cell_type": "code",
   "execution_count": 87,
   "metadata": {},
   "outputs": [],
   "source": [
    "# 정규표현식을 통해 한글 단어만 남기고 모두 제거하기\n",
    "# def extract_word(re1):\n",
    "#     hangul = re.compile('[^가-힣]')\n",
    "#     result = hangul.sub(' ', re1)\n",
    "#     return result\n",
    "\n",
    "def extract_word(rev):\n",
    "    result = []\n",
    "    for i in range(len(rev)):\n",
    "        for j in range(len(rev[i])):\n",
    "            result.append(re.sub('[^가-힣]', \" \", rev[i][j]))\n",
    "    return result"
   ]
  },
  {
   "cell_type": "code",
   "execution_count": 82,
   "metadata": {},
   "outputs": [
    {
     "data": {
      "text/plain": [
       "[\"'오늘 명량 시사회로 방금 보고 왔음.\",\n",
       " '단연코 올해의 수작임.',\n",
       " '밑에 평론가들 캐릭터 어쩌고 하는데 류승룡 캐릭터 더 살리면 일본장수 미화한다며 입털게 분명. 평론가들 하는 짓이라곤 남이 차린 밥상 맛있네',\n",
       " '맛없네',\n",
       " '까대며...']"
      ]
     },
     "execution_count": 82,
     "metadata": {},
     "output_type": "execute_result"
    }
   ],
   "source": [
    "df['리뷰'][0][0]"
   ]
  },
  {
   "attachments": {},
   "cell_type": "markdown",
   "metadata": {},
   "source": [
    "한글 코드 범위   \n",
    "ㄱ ~ ㅎ: 0x3131 ~ 0x314e   \n",
    "ㅏ ~ ㅣ: 0x314f ~ 0x3163   \n",
    "가 ~ 힣: 0xac00 ~ 0xd7a3"
   ]
  },
  {
   "cell_type": "code",
   "execution_count": 89,
   "metadata": {},
   "outputs": [
    {
     "name": "stdout",
     "output_type": "stream",
     "text": [
      "Before Extraction :  [[\"'오늘 명량 시사회로 방금 보고 왔음.\", '단연코 올해의 수작임.', '밑에 평론가들 캐릭터 어쩌고 하는데 류승룡 캐릭터 더 살리면 일본장수 미화한다며 입털게 분명. 평론가들 하는 짓이라곤 남이 차린 밥상 맛있네', '맛없네', '까대며...'], ['이순신, 그는 신이다.'], ['군도보다 훨씬 잼있음..', '극장가서 꼭 보세요'], ['29일 시사회로 봤어요', '냉정하게이건 꼭 봐야해..', '굿'], ['오늘 아침에 조조로 보고왔습니다.', '8월4일에 해군에 입대하는데.', '그전에 보기 잘한 영화같습니다.', '평소에 영화 많이 좋아하고 자주보는 편인데.', '무지 재미있게 봤습니다.', '나라 잘지키고 오겠습니다', '필승'], ['정말 재미있네요', '잘보고 왔습니다', '시사회'], ['극찬할 수는 없지만 이 정도면 내용, 영상, 연출 전부 꽤나 뛰어난 작품이지 않은가?', '평론가들의 평점 6점은 도대체 어떻게 해서 나온 점수인지...', '블랙펄 같은 배가 나오고 판옥선이 거북선으로 트랜스포머하는 장면이 ...'], ['국가에 버림을 받아도 의리로 지키려는 충신.', '피를 흘리면서 싸우는 군인들의 투지.', '두려움을 넘어선 백성들의 의지.', '소중한 가족들을 잃은 민족의 한...', '슬픈 명작이었습니다....'], ['보는 내내 가슴찡하고 울컥하는 진짜 최고의 영화ㅠㅠ한 순간도 놓칠 수 없는 해전씬이 특히 압권!!'], [\"작금의 이시점에 국가가 혼란하고 위태할수록국가를 직간접으로 책임지고 있는 리더에게 무엇이 필요한지 리더의 마음이 한치의 흔들림없이 무엇을 향하고 있어야 하는지를 세치의 혀가 아닌 온몸으로 400년전 구국의영웅이 20...'\"]]\n",
      "After Extraction :  [' 오늘 명량 시사회로 방금 보고 왔음 ', '단연코 올해의 수작임 ', '밑에 평론가들 캐릭터 어쩌고 하는데 류승룡 캐릭터 더 살리면 일본장수 미화한다며 입털게 분명  평론가들 하는 짓이라곤 남이 차린 밥상 맛있네', '맛없네', '까대며   ', '이순신  그는 신이다 ', '군도보다 훨씬 잼있음  ', '극장가서 꼭 보세요', '  일 시사회로 봤어요', '냉정하게이건 꼭 봐야해  ', '굿', '오늘 아침에 조조로 보고왔습니다 ', ' 월 일에 해군에 입대하는데 ', '그전에 보기 잘한 영화같습니다 ', '평소에 영화 많이 좋아하고 자주보는 편인데 ', '무지 재미있게 봤습니다 ', '나라 잘지키고 오겠습니다', '필승', '정말 재미있네요', '잘보고 왔습니다', '시사회', '극찬할 수는 없지만 이 정도면 내용  영상  연출 전부 꽤나 뛰어난 작품이지 않은가 ', '평론가들의 평점  점은 도대체 어떻게 해서 나온 점수인지   ', '블랙펄 같은 배가 나오고 판옥선이 거북선으로 트랜스포머하는 장면이    ', '국가에 버림을 받아도 의리로 지키려는 충신 ', '피를 흘리면서 싸우는 군인들의 투지 ', '두려움을 넘어선 백성들의 의지 ', '소중한 가족들을 잃은 민족의 한   ', '슬픈 명작이었습니다    ', '보는 내내 가슴찡하고 울컥하는 진짜 최고의 영화  한 순간도 놓칠 수 없는 해전씬이 특히 압권  ', '작금의 이시점에 국가가 혼란하고 위태할수록국가를 직간접으로 책임지고 있는 리더에게 무엇이 필요한지 리더의 마음이 한치의 흔들림없이 무엇을 향하고 있어야 하는지를 세치의 혀가 아닌 온몸으로    년전 구국의영웅이       ']\n"
     ]
    }
   ],
   "source": [
    "# 어떤 식으로 바뀌는 지 확인해보기\n",
    "print(\"Before Extraction : \",df['리뷰'][0])\n",
    "print(\"After Extraction : \", extract_word(df['리뷰'][0]))"
   ]
  },
  {
   "cell_type": "code",
   "execution_count": 90,
   "metadata": {},
   "outputs": [],
   "source": [
    "# 전체 데이터에 대해 위에 함수 실행\n",
    "\n",
    "df['리뷰'] = df['리뷰'].apply(lambda x:extract_word(x))"
   ]
  },
  {
   "cell_type": "code",
   "execution_count": 94,
   "metadata": {},
   "outputs": [
    {
     "data": {
      "text/plain": [
       "[' 오늘 명량 시사회로 방금 보고 왔음 ',\n",
       " '단연코 올해의 수작임 ',\n",
       " '밑에 평론가들 캐릭터 어쩌고 하는데 류승룡 캐릭터 더 살리면 일본장수 미화한다며 입털게 분명  평론가들 하는 짓이라곤 남이 차린 밥상 맛있네',\n",
       " '맛없네',\n",
       " '까대며   ',\n",
       " '이순신  그는 신이다 ',\n",
       " '군도보다 훨씬 잼있음  ',\n",
       " '극장가서 꼭 보세요',\n",
       " '  일 시사회로 봤어요',\n",
       " '냉정하게이건 꼭 봐야해  ',\n",
       " '굿',\n",
       " '오늘 아침에 조조로 보고왔습니다 ',\n",
       " ' 월 일에 해군에 입대하는데 ',\n",
       " '그전에 보기 잘한 영화같습니다 ',\n",
       " '평소에 영화 많이 좋아하고 자주보는 편인데 ',\n",
       " '무지 재미있게 봤습니다 ',\n",
       " '나라 잘지키고 오겠습니다',\n",
       " '필승',\n",
       " '정말 재미있네요',\n",
       " '잘보고 왔습니다',\n",
       " '시사회',\n",
       " '극찬할 수는 없지만 이 정도면 내용  영상  연출 전부 꽤나 뛰어난 작품이지 않은가 ',\n",
       " '평론가들의 평점  점은 도대체 어떻게 해서 나온 점수인지   ',\n",
       " '블랙펄 같은 배가 나오고 판옥선이 거북선으로 트랜스포머하는 장면이    ',\n",
       " '국가에 버림을 받아도 의리로 지키려는 충신 ',\n",
       " '피를 흘리면서 싸우는 군인들의 투지 ',\n",
       " '두려움을 넘어선 백성들의 의지 ',\n",
       " '소중한 가족들을 잃은 민족의 한   ',\n",
       " '슬픈 명작이었습니다    ',\n",
       " '보는 내내 가슴찡하고 울컥하는 진짜 최고의 영화  한 순간도 놓칠 수 없는 해전씬이 특히 압권  ',\n",
       " '작금의 이시점에 국가가 혼란하고 위태할수록국가를 직간접으로 책임지고 있는 리더에게 무엇이 필요한지 리더의 마음이 한치의 흔들림없이 무엇을 향하고 있어야 하는지를 세치의 혀가 아닌 온몸으로    년전 구국의영웅이       ']"
      ]
     },
     "execution_count": 94,
     "metadata": {},
     "output_type": "execute_result"
    }
   ],
   "source": [
    "df['리뷰'][0]"
   ]
  },
  {
   "cell_type": "code",
   "execution_count": 97,
   "metadata": {},
   "outputs": [
    {
     "data": {
      "text/plain": [
       "' 오늘 명량 시사회로 방금 보고 왔음 '"
      ]
     },
     "execution_count": 97,
     "metadata": {},
     "output_type": "execute_result"
    }
   ],
   "source": [
    "df['리뷰'][0][0]"
   ]
  },
  {
   "cell_type": "code",
   "execution_count": 100,
   "metadata": {},
   "outputs": [
    {
     "data": {
      "text/plain": [
       "31"
      ]
     },
     "execution_count": 100,
     "metadata": {},
     "output_type": "execute_result"
    }
   ],
   "source": [
    "len(df['리뷰'][0])"
   ]
  },
  {
   "attachments": {},
   "cell_type": "markdown",
   "metadata": {},
   "source": [
    "### 2) 반복된 문자 정제"
   ]
  },
  {
   "cell_type": "code",
   "execution_count": null,
   "metadata": {},
   "outputs": [
    {
     "ename": "TypeError",
     "evalue": "ord() expected a character, but string of length 21 found",
     "output_type": "error",
     "traceback": [
      "\u001b[1;31m---------------------------------------------------------------------------\u001b[0m\n",
      "\u001b[1;31mTypeError\u001b[0m                                 Traceback (most recent call last)\n",
      "\u001b[1;32m~\\AppData\\Local\\Temp\\ipykernel_5536\\988617725.py\u001b[0m in \u001b[0;36m<module>\u001b[1;34m\u001b[0m\n",
      "\u001b[0;32m      1\u001b[0m \u001b[1;31m# SOYNLP를 이용한 반복되는 문자 정제\u001b[0m\u001b[1;33m\u001b[0m\u001b[1;33m\u001b[0m\u001b[0m\n",
      "\u001b[0;32m      2\u001b[0m \u001b[1;32mfor\u001b[0m \u001b[0mi\u001b[0m \u001b[1;32min\u001b[0m \u001b[0mrange\u001b[0m\u001b[1;33m(\u001b[0m\u001b[0mlen\u001b[0m\u001b[1;33m(\u001b[0m\u001b[0mdf\u001b[0m\u001b[1;33m)\u001b[0m\u001b[1;33m)\u001b[0m\u001b[1;33m:\u001b[0m\u001b[1;33m\u001b[0m\u001b[1;33m\u001b[0m\u001b[0m\n",
      "\u001b[1;32m----> 3\u001b[1;33m     \u001b[0mdf\u001b[0m\u001b[1;33m[\u001b[0m\u001b[1;34m'리뷰'\u001b[0m\u001b[1;33m]\u001b[0m\u001b[1;33m[\u001b[0m\u001b[0mi\u001b[0m\u001b[1;33m]\u001b[0m \u001b[1;33m=\u001b[0m \u001b[0memoticon_normalize\u001b[0m\u001b[1;33m(\u001b[0m\u001b[0mdf\u001b[0m\u001b[1;33m[\u001b[0m\u001b[1;34m'리뷰'\u001b[0m\u001b[1;33m]\u001b[0m\u001b[1;33m[\u001b[0m\u001b[0mi\u001b[0m\u001b[1;33m]\u001b[0m\u001b[1;33m,\u001b[0m \u001b[0mnum_repeats\u001b[0m\u001b[1;33m=\u001b[0m\u001b[1;36m4\u001b[0m\u001b[1;33m)\u001b[0m\u001b[1;33m\u001b[0m\u001b[1;33m\u001b[0m\u001b[0m\n",
      "\u001b[0m\n",
      "\u001b[1;32m~\\AppData\\Roaming\\Python\\Python39\\site-packages\\soynlp\\normalizer\\_normalizer.py\u001b[0m in \u001b[0;36memoticon_normalize\u001b[1;34m(sent, num_repeats)\u001b[0m\n",
      "\u001b[0;32m     62\u001b[0m             \u001b[1;32mreturn\u001b[0m \u001b[1;33m-\u001b[0m\u001b[1;36m1\u001b[0m\u001b[1;33m\u001b[0m\u001b[1;33m\u001b[0m\u001b[0m\n",
      "\u001b[0;32m     63\u001b[0m \u001b[1;33m\u001b[0m\u001b[0m\n",
      "\u001b[1;32m---> 64\u001b[1;33m     \u001b[0midxs\u001b[0m \u001b[1;33m=\u001b[0m \u001b[1;33m[\u001b[0m\u001b[0mpattern\u001b[0m\u001b[1;33m(\u001b[0m\u001b[0mord\u001b[0m\u001b[1;33m(\u001b[0m\u001b[0mc\u001b[0m\u001b[1;33m)\u001b[0m\u001b[1;33m)\u001b[0m \u001b[1;32mfor\u001b[0m \u001b[0mc\u001b[0m \u001b[1;32min\u001b[0m \u001b[0msent\u001b[0m\u001b[1;33m]\u001b[0m\u001b[1;33m\u001b[0m\u001b[1;33m\u001b[0m\u001b[0m\n",
      "\u001b[0m\u001b[0;32m     65\u001b[0m     \u001b[0msent_\u001b[0m \u001b[1;33m=\u001b[0m \u001b[1;33m[\u001b[0m\u001b[1;33m]\u001b[0m\u001b[1;33m\u001b[0m\u001b[1;33m\u001b[0m\u001b[0m\n",
      "\u001b[0;32m     66\u001b[0m     \u001b[0mlast_idx\u001b[0m \u001b[1;33m=\u001b[0m \u001b[0mlen\u001b[0m\u001b[1;33m(\u001b[0m\u001b[0midxs\u001b[0m\u001b[1;33m)\u001b[0m \u001b[1;33m-\u001b[0m \u001b[1;36m1\u001b[0m\u001b[1;33m\u001b[0m\u001b[1;33m\u001b[0m\u001b[0m\n",
      "\n",
      "\u001b[1;32m~\\AppData\\Roaming\\Python\\Python39\\site-packages\\soynlp\\normalizer\\_normalizer.py\u001b[0m in \u001b[0;36m<listcomp>\u001b[1;34m(.0)\u001b[0m\n",
      "\u001b[0;32m     62\u001b[0m             \u001b[1;32mreturn\u001b[0m \u001b[1;33m-\u001b[0m\u001b[1;36m1\u001b[0m\u001b[1;33m\u001b[0m\u001b[1;33m\u001b[0m\u001b[0m\n",
      "\u001b[0;32m     63\u001b[0m \u001b[1;33m\u001b[0m\u001b[0m\n",
      "\u001b[1;32m---> 64\u001b[1;33m     \u001b[0midxs\u001b[0m \u001b[1;33m=\u001b[0m \u001b[1;33m[\u001b[0m\u001b[0mpattern\u001b[0m\u001b[1;33m(\u001b[0m\u001b[0mord\u001b[0m\u001b[1;33m(\u001b[0m\u001b[0mc\u001b[0m\u001b[1;33m)\u001b[0m\u001b[1;33m)\u001b[0m \u001b[1;32mfor\u001b[0m \u001b[0mc\u001b[0m \u001b[1;32min\u001b[0m \u001b[0msent\u001b[0m\u001b[1;33m]\u001b[0m\u001b[1;33m\u001b[0m\u001b[1;33m\u001b[0m\u001b[0m\n",
      "\u001b[0m\u001b[0;32m     65\u001b[0m     \u001b[0msent_\u001b[0m \u001b[1;33m=\u001b[0m \u001b[1;33m[\u001b[0m\u001b[1;33m]\u001b[0m\u001b[1;33m\u001b[0m\u001b[1;33m\u001b[0m\u001b[0m\n",
      "\u001b[0;32m     66\u001b[0m     \u001b[0mlast_idx\u001b[0m \u001b[1;33m=\u001b[0m \u001b[0mlen\u001b[0m\u001b[1;33m(\u001b[0m\u001b[0midxs\u001b[0m\u001b[1;33m)\u001b[0m \u001b[1;33m-\u001b[0m \u001b[1;36m1\u001b[0m\u001b[1;33m\u001b[0m\u001b[1;33m\u001b[0m\u001b[0m\n",
      "\n",
      "\u001b[1;31mTypeError\u001b[0m: ord() expected a character, but string of length 21 found"
     ]
    }
   ],
   "source": [
    "# SOYNLP를 이용한 반복되는 문자 정제\n",
    "for i in range()\n",
    "for j in range(len(df['리뷰'])):\n",
    "    review['리뷰'][i] = emoticon_normalize(review['리뷰'][i], num_repeats=4)\n"
   ]
  },
  {
   "cell_type": "code",
   "execution_count": 96,
   "metadata": {},
   "outputs": [
    {
     "ename": "TypeError",
     "evalue": "ord() expected a character, but string of length 21 found",
     "output_type": "error",
     "traceback": [
      "\u001b[1;31m---------------------------------------------------------------------------\u001b[0m",
      "\u001b[1;31mTypeError\u001b[0m                                 Traceback (most recent call last)",
      "\u001b[1;32m~\\AppData\\Local\\Temp\\ipykernel_5536\\988617725.py\u001b[0m in \u001b[0;36m<module>\u001b[1;34m\u001b[0m\n\u001b[0;32m      1\u001b[0m \u001b[1;31m# SOYNLP를 이용한 반복되는 문자 정제\u001b[0m\u001b[1;33m\u001b[0m\u001b[1;33m\u001b[0m\u001b[0m\n\u001b[0;32m      2\u001b[0m \u001b[1;32mfor\u001b[0m \u001b[0mi\u001b[0m \u001b[1;32min\u001b[0m \u001b[0mrange\u001b[0m\u001b[1;33m(\u001b[0m\u001b[0mlen\u001b[0m\u001b[1;33m(\u001b[0m\u001b[0mdf\u001b[0m\u001b[1;33m)\u001b[0m\u001b[1;33m)\u001b[0m\u001b[1;33m:\u001b[0m\u001b[1;33m\u001b[0m\u001b[1;33m\u001b[0m\u001b[0m\n\u001b[1;32m----> 3\u001b[1;33m     \u001b[0mdf\u001b[0m\u001b[1;33m[\u001b[0m\u001b[1;34m'리뷰'\u001b[0m\u001b[1;33m]\u001b[0m\u001b[1;33m[\u001b[0m\u001b[0mi\u001b[0m\u001b[1;33m]\u001b[0m \u001b[1;33m=\u001b[0m \u001b[0memoticon_normalize\u001b[0m\u001b[1;33m(\u001b[0m\u001b[0mdf\u001b[0m\u001b[1;33m[\u001b[0m\u001b[1;34m'리뷰'\u001b[0m\u001b[1;33m]\u001b[0m\u001b[1;33m[\u001b[0m\u001b[0mi\u001b[0m\u001b[1;33m]\u001b[0m\u001b[1;33m,\u001b[0m \u001b[0mnum_repeats\u001b[0m\u001b[1;33m=\u001b[0m\u001b[1;36m4\u001b[0m\u001b[1;33m)\u001b[0m\u001b[1;33m\u001b[0m\u001b[1;33m\u001b[0m\u001b[0m\n\u001b[0m",
      "\u001b[1;32m~\\AppData\\Roaming\\Python\\Python39\\site-packages\\soynlp\\normalizer\\_normalizer.py\u001b[0m in \u001b[0;36memoticon_normalize\u001b[1;34m(sent, num_repeats)\u001b[0m\n\u001b[0;32m     62\u001b[0m             \u001b[1;32mreturn\u001b[0m \u001b[1;33m-\u001b[0m\u001b[1;36m1\u001b[0m\u001b[1;33m\u001b[0m\u001b[1;33m\u001b[0m\u001b[0m\n\u001b[0;32m     63\u001b[0m \u001b[1;33m\u001b[0m\u001b[0m\n\u001b[1;32m---> 64\u001b[1;33m     \u001b[0midxs\u001b[0m \u001b[1;33m=\u001b[0m \u001b[1;33m[\u001b[0m\u001b[0mpattern\u001b[0m\u001b[1;33m(\u001b[0m\u001b[0mord\u001b[0m\u001b[1;33m(\u001b[0m\u001b[0mc\u001b[0m\u001b[1;33m)\u001b[0m\u001b[1;33m)\u001b[0m \u001b[1;32mfor\u001b[0m \u001b[0mc\u001b[0m \u001b[1;32min\u001b[0m \u001b[0msent\u001b[0m\u001b[1;33m]\u001b[0m\u001b[1;33m\u001b[0m\u001b[1;33m\u001b[0m\u001b[0m\n\u001b[0m\u001b[0;32m     65\u001b[0m     \u001b[0msent_\u001b[0m \u001b[1;33m=\u001b[0m \u001b[1;33m[\u001b[0m\u001b[1;33m]\u001b[0m\u001b[1;33m\u001b[0m\u001b[1;33m\u001b[0m\u001b[0m\n\u001b[0;32m     66\u001b[0m     \u001b[0mlast_idx\u001b[0m \u001b[1;33m=\u001b[0m \u001b[0mlen\u001b[0m\u001b[1;33m(\u001b[0m\u001b[0midxs\u001b[0m\u001b[1;33m)\u001b[0m \u001b[1;33m-\u001b[0m \u001b[1;36m1\u001b[0m\u001b[1;33m\u001b[0m\u001b[1;33m\u001b[0m\u001b[0m\n",
      "\u001b[1;32m~\\AppData\\Roaming\\Python\\Python39\\site-packages\\soynlp\\normalizer\\_normalizer.py\u001b[0m in \u001b[0;36m<listcomp>\u001b[1;34m(.0)\u001b[0m\n\u001b[0;32m     62\u001b[0m             \u001b[1;32mreturn\u001b[0m \u001b[1;33m-\u001b[0m\u001b[1;36m1\u001b[0m\u001b[1;33m\u001b[0m\u001b[1;33m\u001b[0m\u001b[0m\n\u001b[0;32m     63\u001b[0m \u001b[1;33m\u001b[0m\u001b[0m\n\u001b[1;32m---> 64\u001b[1;33m     \u001b[0midxs\u001b[0m \u001b[1;33m=\u001b[0m \u001b[1;33m[\u001b[0m\u001b[0mpattern\u001b[0m\u001b[1;33m(\u001b[0m\u001b[0mord\u001b[0m\u001b[1;33m(\u001b[0m\u001b[0mc\u001b[0m\u001b[1;33m)\u001b[0m\u001b[1;33m)\u001b[0m \u001b[1;32mfor\u001b[0m \u001b[0mc\u001b[0m \u001b[1;32min\u001b[0m \u001b[0msent\u001b[0m\u001b[1;33m]\u001b[0m\u001b[1;33m\u001b[0m\u001b[1;33m\u001b[0m\u001b[0m\n\u001b[0m\u001b[0;32m     65\u001b[0m     \u001b[0msent_\u001b[0m \u001b[1;33m=\u001b[0m \u001b[1;33m[\u001b[0m\u001b[1;33m]\u001b[0m\u001b[1;33m\u001b[0m\u001b[1;33m\u001b[0m\u001b[0m\n\u001b[0;32m     66\u001b[0m     \u001b[0mlast_idx\u001b[0m \u001b[1;33m=\u001b[0m \u001b[0mlen\u001b[0m\u001b[1;33m(\u001b[0m\u001b[0midxs\u001b[0m\u001b[1;33m)\u001b[0m \u001b[1;33m-\u001b[0m \u001b[1;36m1\u001b[0m\u001b[1;33m\u001b[0m\u001b[1;33m\u001b[0m\u001b[0m\n",
      "\u001b[1;31mTypeError\u001b[0m: ord() expected a character, but string of length 21 found"
     ]
    }
   ],
   "source": [
    "# SOYNLP를 이용한 반복되는 문자 정제\n",
    "for i in range(len(review\\)):\n",
    "    review['리뷰'][i] = emoticon_normalize(review['리뷰'][i], num_repeats=4)\n"
   ]
  },
  {
   "cell_type": "code",
   "execution_count": null,
   "metadata": {},
   "outputs": [],
   "source": [
    "review.head()"
   ]
  },
  {
   "attachments": {},
   "cell_type": "markdown",
   "metadata": {},
   "source": [
    "### 3) 띄어쓰기 고치기"
   ]
  },
  {
   "cell_type": "code",
   "execution_count": null,
   "metadata": {},
   "outputs": [],
   "source": [
    "# 띄어쓰기 고치기\n",
    "from pykospacing import Spacing\n",
    "spacing = Spacing()\n",
    "\n",
    "for i in range(len(review)):\n",
    "    review['리뷰'][i] = spacing(review['리뷰'][i]) "
   ]
  },
  {
   "cell_type": "code",
   "execution_count": null,
   "metadata": {},
   "outputs": [],
   "source": [
    "# 바뀌었는지 전, 후 확인해보기\n",
    "print(\"Before Fixing : \",review['리뷰'][0])\n",
    "print(\"After Fixing : \", spacing(review['리뷰'][0]))\n",
    "print(\"Before Fixing : \",review['리뷰'][1])\n",
    "print(\"After Fixing : \", spacing(review['리뷰'][1]))\n",
    "print(\"Before Fixing : \",review['리뷰'][2])\n",
    "print(\"After Fixing : \", spacing(review['리뷰'][2]))"
   ]
  },
  {
   "cell_type": "code",
   "execution_count": null,
   "metadata": {},
   "outputs": [],
   "source": [
    "review.head()"
   ]
  },
  {
   "attachments": {},
   "cell_type": "markdown",
   "metadata": {},
   "source": [
    "### 3) 형태소 분석"
   ]
  },
  {
   "cell_type": "code",
   "execution_count": null,
   "metadata": {},
   "outputs": [],
   "source": [
    "from konlpy.tag import Okt\n",
    "from konlpy.tag import Kkma"
   ]
  },
  {
   "cell_type": "code",
   "execution_count": null,
   "metadata": {},
   "outputs": [],
   "source": [
    "# Okt 모델 사용\n",
    "okt = Okt()\n",
    "for i in range(0,len(review)):\n",
    "    review['리뷰'][i] = okt.morphs(review['리뷰'][i],stem=True)\n",
    "# \" \".join(review['리뷰'].tolist())\n",
    "# words = okt.morphs(words,stem=True)"
   ]
  },
  {
   "cell_type": "code",
   "execution_count": null,
   "metadata": {},
   "outputs": [],
   "source": [
    "review"
   ]
  },
  {
   "attachments": {},
   "cell_type": "markdown",
   "metadata": {},
   "source": [
    "# 크롤링 코드 연습"
   ]
  },
  {
   "cell_type": "code",
   "execution_count": null,
   "metadata": {},
   "outputs": [],
   "source": [
    "movie_list = ['더 퍼스트 슬램덩크', '스즈메의 문단속']\n",
    "movie_code = ['223800', '215932']\n",
    "\n",
    "cnt = 10\n",
    "need_reviews_cnt = cnt\n",
    "movie_title = []\n",
    "reviews = []\n",
    "review_total = []\n",
    "\n",
    "#page를 1부터 1씩 증가하며 URL을 다음 페이지로 바꿈 \n",
    "for i, code in enumerate(movie_code):\n",
    "    movie_title.append(movie_list[i])\n",
    "    url = f'https://movie.naver.com/movie/bi/mi/pointWriteFormList.naver?code={code}&type=after&isActualPointWriteExecute=false&isMileageSubscriptionAlready=false&isMileageSubscriptionReject=false&page=1'\n",
    "    #get : request로 url의  html문서의 내용 요청\n",
    "    html = requests.get(url)\n",
    "    #html을 받아온 문서를 .content로 지정 후 soup객체로 변환\n",
    "    soup = BeautifulSoup(html.content,'html.parser')\n",
    "    #find_all : 지정한 태그의 내용을 모두 찾아 리스트로 반환\n",
    "    score_total = int(soup.find(\"div\",{\"class\":\"score_total\"}).find(\"em\").text.replace(\",\",\"\"))\n",
    "    max_range = score_total//10 + 2 if score_total%10 != 0 else score_total//10 + 1\n",
    "    \n",
    "    review_data=[]\n",
    "    for page in range(1,max_range):\n",
    "        url = f'https://movie.naver.com/movie/bi/mi/pointWriteFormList.naver?code={code}&type=after&isActualPointWriteExecute=false&isMileageSubscriptionAlready=false&isMileageSubscriptionReject=false&page={page}'\n",
    "        #get : request로 url의  html문서의 내용 요청\n",
    "        html = requests.get(url)\n",
    "        #html을 받아온 문서를 .content로 지정 후 soup객체로 변환\n",
    "        soup = BeautifulSoup(html.content,'html.parser')\n",
    "        #find_all : 지정한 태그의 내용을 모두 찾아 리스트로 반환\n",
    "        \n",
    "        if need_reviews_cnt == 0:\n",
    "            need_reviews_cnt = cnt\n",
    "            break\n",
    "\n",
    "        \n",
    "        reviews = soup.find_all(\"div\",{\"class\":\"score_reple\"}) #리스트로 저장해\n",
    "        for review in reviews:\n",
    "            sentence = review.find_all(\"span\")\n",
    "            \n",
    "            if sentence[0].text != \"관람객\":\n",
    "                review_data.append(sentence[0].text.strip())\n",
    "            elif sentence[1].text == \"스포일러가 포함된 감상평입니다. \":\n",
    "                review_data.append(sentence[2].find('a').get('data-src'))\n",
    "            else:\n",
    "                review_data.append(sentence[1].text.strip())\n",
    "            need_reviews_cnt -= 1       # 나중에 빼기\n",
    "            print(need_reviews_cnt)\n",
    "            \n",
    "\n",
    "        time.sleep(0.5)\n",
    "\n",
    "    review_total.append(review_data)\n",
    "    \n",
    "\n",
    "review_dict = {\n",
    "    \"영화명\" : movie_title,\n",
    "    \"리뷰\" : review_total\n",
    "}\n",
    "\n",
    "review_df = pd.DataFrame(review_dict)\n",
    "review_df \n",
    "\n",
    "#     #한 페이지의 리뷰 리스트의 리뷰를 하나씩 보면서 데이터 추출\n",
    "#     for review in reviews:\n",
    "#         sentence = review.find(\"a\",{\"class\":\"report\"}).get(\"onclick\").split(\"', '\")[2]\n",
    "#         #만약 리뷰 내용이 비어있다면 데이터를 사용하지 않음\n",
    "#         if sentence != \"\":\n",
    "#             movie = review.find(\"a\",{\"class\":\"movie color_b\"}).get_text()\n",
    "#             score = review.find(\"em\").get_text()\n",
    "#             review_data.append([movie,sentence,int(score)])\n",
    "#             need_reviews_cnt-= 1\n",
    "#     #현재까지 수집된 리뷰가 목표 수집 리뷰보다 많아진 경우 크롤링 중지        \n",
    "#     if need_reviews_cnt < 0:                                         \n",
    "#         break\n",
    "#     #다음 페이지를 조회하기 전 0.5초 시간 차를 두기\n",
    "#     time.sleep(0.5)\n",
    "     \n",
    "# columns_name = [\"movie\",\"sentence\",\"score\"]\n",
    "# with open ( \"samples.csv\", \"w\", newline =\"\",encoding = 'utf-8' ) as f:\n",
    "#     write = csv.writer(f)\n",
    "#     write.writerow(columns_name)\n",
    "#     write.writerows(review_data)"
   ]
  },
  {
   "cell_type": "code",
   "execution_count": null,
   "metadata": {},
   "outputs": [],
   "source": [
    "# print(movie_title, len(review_data))\n",
    "# print(review_data[0])\n",
    "print((review_total[1][-10:]))\n",
    "print(len(review_total[0]))\n"
   ]
  },
  {
   "attachments": {},
   "cell_type": "markdown",
   "metadata": {},
   "source": [
    "# "
   ]
  },
  {
   "attachments": {},
   "cell_type": "markdown",
   "metadata": {},
   "source": [
    "# 맨아래"
   ]
  }
 ],
 "metadata": {
  "kernelspec": {
   "display_name": "base",
   "language": "python",
   "name": "python3"
  },
  "language_info": {
   "codemirror_mode": {
    "name": "ipython",
    "version": 3
   },
   "file_extension": ".py",
   "mimetype": "text/x-python",
   "name": "python",
   "nbconvert_exporter": "python",
   "pygments_lexer": "ipython3",
   "version": "3.9.13"
  },
  "orig_nbformat": 4
 },
 "nbformat": 4,
 "nbformat_minor": 2
}
