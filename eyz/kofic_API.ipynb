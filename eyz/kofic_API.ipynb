{
 "cells": [
  {
   "cell_type": "code",
   "execution_count": 4,
   "metadata": {},
   "outputs": [],
   "source": [
    "from bs4 import BeautifulSoup\n",
    "import requests as rq\n",
    "import pandas as pd\n",
    "import time\n",
    "import xmltodict"
   ]
  },
  {
   "cell_type": "code",
   "execution_count": 10,
   "metadata": {},
   "outputs": [
    {
     "data": {
      "text/plain": [
       "['20196655',\n",
       " '20166101',\n",
       " '20173901',\n",
       " '20143253',\n",
       " '20173226',\n",
       " '20219630',\n",
       " '20226798',\n",
       " '20190735',\n",
       " '20151261',\n",
       " '20172941',\n",
       " '20050226',\n",
       " '20060404',\n",
       " '20204548',\n",
       " '20211382',\n",
       " '20217027',\n",
       " '20211567',\n",
       " '20175208',\n",
       " '20210140',\n",
       " '20162569',\n",
       " '20227762',\n",
       " '20209076',\n",
       " '20204485',\n",
       " '20215973',\n",
       " '20218768',\n",
       " '20227715',\n",
       " '20228788',\n",
       " '20228767',\n",
       " '20227221',\n",
       " '20227235',\n",
       " '20226397',\n",
       " '20226385',\n",
       " '20226399',\n",
       " '20226398',\n",
       " '20226396',\n",
       " '20072177',\n",
       " '20225182',\n",
       " '20227445',\n",
       " '20196478',\n",
       " '20080379',\n",
       " '20225180',\n",
       " '20224572',\n",
       " '20228301',\n",
       " '20225633',\n",
       " '20225238',\n",
       " '20185046',\n",
       " '20180522',\n",
       " '20155702',\n",
       " '20182447',\n",
       " '20211944',\n",
       " '20172305',\n",
       " '20130703',\n",
       " '20217826',\n",
       " '20182221',\n",
       " '20200566',\n",
       " '20223740',\n",
       " '20228230',\n",
       " '20228438',\n",
       " '20183046',\n",
       " '20201989',\n",
       " '20217399',\n",
       " '20211565',\n",
       " '20148982',\n",
       " '20202181',\n",
       " '20228950',\n",
       " '20202822',\n",
       " '20193265',\n",
       " '20224689',\n",
       " '20210364',\n",
       " '20081338',\n",
       " '20156102',\n",
       " '20228309',\n",
       " '20227791',\n",
       " '20228308',\n",
       " '20228640',\n",
       " '20212913',\n",
       " '20206063',\n",
       " '20202962',\n",
       " '20210397',\n",
       " '20211546',\n",
       " '20181823',\n",
       " '20193170',\n",
       " '20193172',\n",
       " '20207855',\n",
       " '20209627',\n",
       " '20224598',\n",
       " '20212435',\n",
       " '20212436',\n",
       " '20212828',\n",
       " '20200768',\n",
       " '20212968',\n",
       " '20212969',\n",
       " '20212987',\n",
       " '20212971',\n",
       " '20223286',\n",
       " '20212864',\n",
       " '20212863',\n",
       " '20212881',\n",
       " '20223205',\n",
       " '20212862',\n",
       " '20219271']"
      ]
     },
     "metadata": {},
     "output_type": "display_data"
    }
   ],
   "source": [
    "\n",
    "# key = 'e591c0ff1b9b14792b1698407aa017fb'\n",
    "key = 'f5eef3421c602c6cb7ea224104795888'\n",
    "\n",
    "movie_code = []\n",
    "# (1,(20572//100)+1)\n",
    "for page in range(1,2):\n",
    "    url = 'https://kobis.or.kr/kobisopenapi/webservice/rest/movie/searchMovieList.xml'\n",
    "    req_parameter = {'key':key,\n",
    "                     'openStartDt':2003,\n",
    "                     'openEndDt':2022,\n",
    "                     'curPage':page,\n",
    "                     'itemPerPage':100,\n",
    "                     'movieTypeCd':220101}\n",
    "    r = rq.get(url, params = req_parameter)\n",
    "    movie_data = xmltodict.parse(r.text)\n",
    "    for i in range(100):\n",
    "        movie_code.append(movie_data['movieListResult']['movieList']['movie'][i]['movieCd'])\n",
    "\n",
    "display(movie_code)\n",
    "\n",
    "    "
   ]
  },
  {
   "cell_type": "code",
   "execution_count": 11,
   "metadata": {},
   "outputs": [
    {
     "data": {
      "text/plain": [
       "100"
      ]
     },
     "execution_count": 11,
     "metadata": {},
     "output_type": "execute_result"
    }
   ],
   "source": [
    "len(movie_code)"
   ]
  }
 ],
 "metadata": {
  "kernelspec": {
   "display_name": "base",
   "language": "python",
   "name": "python3"
  },
  "language_info": {
   "codemirror_mode": {
    "name": "ipython",
    "version": 3
   },
   "file_extension": ".py",
   "mimetype": "text/x-python",
   "name": "python",
   "nbconvert_exporter": "python",
   "pygments_lexer": "ipython3",
   "version": "3.9.13"
  },
  "orig_nbformat": 4
 },
 "nbformat": 4,
 "nbformat_minor": 2
}
