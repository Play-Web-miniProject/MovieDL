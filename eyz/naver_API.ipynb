{
 "cells": [
  {
   "cell_type": "code",
   "execution_count": 1,
   "metadata": {},
   "outputs": [
    {
     "name": "stdout",
     "output_type": "stream",
     "text": [
      "{\n",
      "\t\"lastBuildDate\":\"Mon, 20 Mar 2023 20:17:52 +0900\",\n",
      "\t\"total\":6,\n",
      "\t\"start\":1,\n",
      "\t\"display\":6,\n",
      "\t\"items\":[\n",
      "\t\t{\n",
      "\t\t\t\"title\":\"<b>겨울왕국<\\/b> 2\",\n",
      "\t\t\t\"link\":\"https:\\/\\/movie.naver.com\\/movie\\/bi\\/mi\\/basic.nhn?code=136873\",\n",
      "\t\t\t\"image\":\"https:\\/\\/ssl.pstatic.net\\/imgmovie\\/mdi\\/mit110\\/1368\\/136873_P18_100537.jpg\",\n",
      "\t\t\t\"subtitle\":\"Frozen 2\",\n",
      "\t\t\t\"pubDate\":\"2019\",\n",
      "\t\t\t\"director\":\"크리스 벅|제니퍼 리|\",\n",
      "\t\t\t\"actor\":\"크리스틴 벨|이디나 멘젤|\",\n",
      "\t\t\t\"userRating\":\"8.69\"\n",
      "\t\t},\n",
      "\t\t{\n",
      "\t\t\t\"title\":\"<b>겨울왕국<\\/b>의 무민\",\n",
      "\t\t\t\"link\":\"https:\\/\\/movie.naver.com\\/movie\\/bi\\/mi\\/basic.nhn?code=163850\",\n",
      "\t\t\t\"image\":\"https:\\/\\/ssl.pstatic.net\\/imgmovie\\/mdi\\/mit110\\/1638\\/163850_P01_101514.jpg\",\n",
      "\t\t\t\"subtitle\":\"Moomins and the Winter Wonderland\",\n",
      "\t\t\t\"pubDate\":\"2017\",\n",
      "\t\t\t\"director\":\"이라 카르페란|야쿱 론스키|\",\n",
      "\t\t\t\"actor\":\"빌 스카스가드|알리시아 비칸데르|스텔란 스카스가드|\",\n",
      "\t\t\t\"userRating\":\"7.42\"\n",
      "\t\t},\n",
      "\t\t{\n",
      "\t\t\t\"title\":\"올라프의 <b>겨울왕국<\\/b> 어드벤처\",\n",
      "\t\t\t\"link\":\"https:\\/\\/movie.naver.com\\/movie\\/bi\\/mi\\/basic.nhn?code=164140\",\n",
      "\t\t\t\"image\":\"https:\\/\\/ssl.pstatic.net\\/imgmovie\\/mdi\\/mit110\\/1641\\/164140_P02_100737.jpg\",\n",
      "\t\t\t\"subtitle\":\"Olaf&apos;s Frozen Adventure\",\n",
      "\t\t\t\"pubDate\":\"2017\",\n",
      "\t\t\t\"director\":\"케빈 디터스|스티비 워머스|\",\n",
      "\t\t\t\"actor\":\"조시 게드|크리스틴 벨|이디나 멘젤|조나단 그로프|\",\n",
      "\t\t\t\"userRating\":\"7.56\"\n",
      "\t\t},\n",
      "\t\t{\n",
      "\t\t\t\"title\":\"<b>겨울왕국<\\/b>: 오로라를 찾아서\",\n",
      "\t\t\t\"link\":\"https:\\/\\/movie.naver.com\\/movie\\/bi\\/mi\\/basic.nhn?code=157404\",\n",
      "\t\t\t\"image\":\"https:\\/\\/ssl.pstatic.net\\/imgmovie\\/mdi\\/mit110\\/1574\\/157404_P01_164445.jpg\",\n",
      "\t\t\t\"subtitle\":\"Lego Disney Frozen: Northern Lights\",\n",
      "\t\t\t\"pubDate\":\"2016\",\n",
      "\t\t\t\"director\":\"질 윌퍼트|\",\n",
      "\t\t\t\"actor\":\"크리스 에드거리|조시 게드|조나단 그로프|카터 하스팅스|시아란 힌즈|이디나 멘젤|\",\n",
      "\t\t\t\"userRating\":\"6.57\"\n",
      "\t\t},\n",
      "\t\t{\n",
      "\t\t\t\"title\":\"<b>겨울왕국<\\/b> 열기\",\n",
      "\t\t\t\"link\":\"https:\\/\\/movie.naver.com\\/movie\\/bi\\/mi\\/basic.nhn?code=126014\",\n",
      "\t\t\t\"image\":\"https:\\/\\/ssl.pstatic.net\\/imgmovie\\/mdi\\/mit110\\/1260\\/126014_P01_163812.jpg\",\n",
      "\t\t\t\"subtitle\":\"Frozen Fever\",\n",
      "\t\t\t\"pubDate\":\"2015\",\n",
      "\t\t\t\"director\":\"크리스 벅|제니퍼 리|\",\n",
      "\t\t\t\"actor\":\"이디나 멘젤|크리스틴 벨|조나단 그로프|조시 게드|\",\n",
      "\t\t\t\"userRating\":\"9.32\"\n",
      "\t\t},\n",
      "\t\t{\n",
      "\t\t\t\"title\":\"<b>겨울왕국<\\/b>\",\n",
      "\t\t\t\"link\":\"https:\\/\\/movie.naver.com\\/movie\\/bi\\/mi\\/basic.nhn?code=100931\",\n",
      "\t\t\t\"image\":\"https:\\/\\/ssl.pstatic.net\\/imgmovie\\/mdi\\/mit110\\/1009\\/100931_P98_151621.jpg\",\n",
      "\t\t\t\"subtitle\":\"Frozen\",\n",
      "\t\t\t\"pubDate\":\"2013\",\n",
      "\t\t\t\"director\":\"크리스 벅|제니퍼 리|\",\n",
      "\t\t\t\"actor\":\"크리스틴 벨|이디나 멘젤|\",\n",
      "\t\t\t\"userRating\":\"9.13\"\n",
      "\t\t}\n",
      "\t]\n",
      "}\n"
     ]
    }
   ],
   "source": [
    "import os\n",
    "import sys\n",
    "import urllib.request\n",
    "\n",
    "def get_movie(movie_name_list):\n",
    "    client_id = \"viO54DlhW87ESywUDwWb\"\n",
    "    client_secret = \"7ZHAscDgKs\"\n",
    "    for i in movie_name_list:\n",
    "        encText = urllib.parse.quote('\"겨울왕국\"')\n",
    "        # url = \"https://openapi.naver.com/v1/search/movie.json?query=\" + encText # JSON 결과\n",
    "        url = \"https://openapi.naver.com/v1/search/movie.xml?query=\" + encText # XML 결과\n",
    "        request = urllib.request.Request(url)\n",
    "        request.add_header(\"X-Naver-Client-Id\",client_id)\n",
    "        request.add_header(\"X-Naver-Client-Secret\",client_secret)\n",
    "        response = urllib.request.urlopen(request)\n",
    "        rescode = response.getcode()\n",
    "        if(rescode==200):\n",
    "            response_body = response.read()\n",
    "            print(response_body.decode('utf-8'))\n",
    "        else:\n",
    "            print(\"Error Code:\" + rescode)"
   ]
  },
  {
   "cell_type": "code",
   "execution_count": 2,
   "metadata": {},
   "outputs": [
    {
     "name": "stdout",
     "output_type": "stream",
     "text": [
      "<?xml version=\"1.0\" encoding=\"UTF-8\"?><rss version=\"2.0\"><channel><title>Naver Open API - movie ::&apos;&amp;quot;겨울왕국&amp;quot;&apos;</title><link>https://search.naver.com</link><description>Naver Search Result</description><lastBuildDate>Mon, 20 Mar 2023 20:22:49 +0900</lastBuildDate><total>6</total><start>1</start><display>6</display><item><title>&lt;b&gt;겨울왕국&lt;/b&gt; 2</title><link>https://movie.naver.com/movie/bi/mi/basic.nhn?code=136873</link><image>https://ssl.pstatic.net/imgmovie/mdi/mit110/1368/136873_P18_100537.jpg</image><subtitle>Frozen 2</subtitle><pubDate>2019</pubDate><director>크리스 벅|제니퍼 리|</director><actor>크리스틴 벨|이디나 멘젤|</actor><userRating>8.69</userRating></item><item><title>&lt;b&gt;겨울왕국&lt;/b&gt;의 무민</title><link>https://movie.naver.com/movie/bi/mi/basic.nhn?code=163850</link><image>https://ssl.pstatic.net/imgmovie/mdi/mit110/1638/163850_P01_101514.jpg</image><subtitle>Moomins and the Winter Wonderland</subtitle><pubDate>2017</pubDate><director>이라 카르페란|야쿱 론스키|</director><actor>빌 스카스가드|알리시아 비칸데르|스텔란 스카스가드|</actor><userRating>7.42</userRating></item><item><title>올라프의 &lt;b&gt;겨울왕국&lt;/b&gt; 어드벤처</title><link>https://movie.naver.com/movie/bi/mi/basic.nhn?code=164140</link><image>https://ssl.pstatic.net/imgmovie/mdi/mit110/1641/164140_P02_100737.jpg</image><subtitle>Olaf&amp;apos;s Frozen Adventure</subtitle><pubDate>2017</pubDate><director>케빈 디터스|스티비 워머스|</director><actor>조시 게드|크리스틴 벨|이디나 멘젤|조나단 그로프|</actor><userRating>7.56</userRating></item><item><title>&lt;b&gt;겨울왕국&lt;/b&gt;: 오로라를 찾아서</title><link>https://movie.naver.com/movie/bi/mi/basic.nhn?code=157404</link><image>https://ssl.pstatic.net/imgmovie/mdi/mit110/1574/157404_P01_164445.jpg</image><subtitle>Lego Disney Frozen: Northern Lights</subtitle><pubDate>2016</pubDate><director>질 윌퍼트|</director><actor>크리스 에드거리|조시 게드|조나단 그로프|카터 하스팅스|시아란 힌즈|이디나 멘젤|</actor><userRating>6.57</userRating></item><item><title>&lt;b&gt;겨울왕국&lt;/b&gt; 열기</title><link>https://movie.naver.com/movie/bi/mi/basic.nhn?code=126014</link><image>https://ssl.pstatic.net/imgmovie/mdi/mit110/1260/126014_P01_163812.jpg</image><subtitle>Frozen Fever</subtitle><pubDate>2015</pubDate><director>크리스 벅|제니퍼 리|</director><actor>이디나 멘젤|크리스틴 벨|조나단 그로프|조시 게드|</actor><userRating>9.32</userRating></item><item><title>&lt;b&gt;겨울왕국&lt;/b&gt;</title><link>https://movie.naver.com/movie/bi/mi/basic.nhn?code=100931</link><image>https://ssl.pstatic.net/imgmovie/mdi/mit110/1009/100931_P98_151621.jpg</image><subtitle>Frozen</subtitle><pubDate>2013</pubDate><director>크리스 벅|제니퍼 리|</director><actor>크리스틴 벨|이디나 멘젤|</actor><userRating>9.13</userRating></item></channel></rss>\n"
     ]
    }
   ],
   "source": [
    "encText = urllib.parse.quote('\"겨울왕국\"')\n",
    "# url = \"https://openapi.naver.com/v1/search/movie.json?query=\" + encText # JSON 결과\n",
    "url = \"https://openapi.naver.com/v1/search/movie.xml?query=\" + encText # XML 결과\n",
    "request = urllib.request.Request(url)\n",
    "request.add_header(\"X-Naver-Client-Id\",client_id)\n",
    "request.add_header(\"X-Naver-Client-Secret\",client_secret)\n",
    "response = urllib.request.urlopen(request)\n",
    "rescode = response.getcode()\n",
    "if(rescode==200):\n",
    "    response_body = response.read()\n",
    "    print(response_body.decode('utf-8'))\n",
    "else:\n",
    "    print(\"Error Code:\" + rescode)"
   ]
  },
  {
   "cell_type": "code",
   "execution_count": 56,
   "metadata": {},
   "outputs": [],
   "source": [
    "response = urllib.request.urlopen(request)\n",
    "response_body = response.read()\n",
    "xml_data = response_body.decode('utf-8')"
   ]
  },
  {
   "cell_type": "code",
   "execution_count": 57,
   "metadata": {},
   "outputs": [],
   "source": [
    "import xmltodict\n",
    "dict_data = xmltodict.parse(xml_data, xml_attribs=False)"
   ]
  },
  {
   "cell_type": "code",
   "execution_count": 58,
   "metadata": {},
   "outputs": [
    {
     "data": {
      "text/plain": [
       "{'rss': {'channel': {'title': \"Naver Open API - movie ::'&quot;겨울왕국&quot;'\",\n",
       "   'link': 'https://search.naver.com',\n",
       "   'description': 'Naver Search Result',\n",
       "   'lastBuildDate': 'Mon, 20 Mar 2023 20:55:55 +0900',\n",
       "   'total': '6',\n",
       "   'start': '1',\n",
       "   'display': '6',\n",
       "   'item': [{'title': '<b>겨울왕국</b> 2',\n",
       "     'link': 'https://movie.naver.com/movie/bi/mi/basic.nhn?code=136873',\n",
       "     'image': 'https://ssl.pstatic.net/imgmovie/mdi/mit110/1368/136873_P18_100537.jpg',\n",
       "     'subtitle': 'Frozen 2',\n",
       "     'pubDate': '2019',\n",
       "     'director': '크리스 벅|제니퍼 리|',\n",
       "     'actor': '크리스틴 벨|이디나 멘젤|',\n",
       "     'userRating': '8.69'},\n",
       "    {'title': '<b>겨울왕국</b>의 무민',\n",
       "     'link': 'https://movie.naver.com/movie/bi/mi/basic.nhn?code=163850',\n",
       "     'image': 'https://ssl.pstatic.net/imgmovie/mdi/mit110/1638/163850_P01_101514.jpg',\n",
       "     'subtitle': 'Moomins and the Winter Wonderland',\n",
       "     'pubDate': '2017',\n",
       "     'director': '이라 카르페란|야쿱 론스키|',\n",
       "     'actor': '빌 스카스가드|알리시아 비칸데르|스텔란 스카스가드|',\n",
       "     'userRating': '7.42'},\n",
       "    {'title': '올라프의 <b>겨울왕국</b> 어드벤처',\n",
       "     'link': 'https://movie.naver.com/movie/bi/mi/basic.nhn?code=164140',\n",
       "     'image': 'https://ssl.pstatic.net/imgmovie/mdi/mit110/1641/164140_P02_100737.jpg',\n",
       "     'subtitle': 'Olaf&apos;s Frozen Adventure',\n",
       "     'pubDate': '2017',\n",
       "     'director': '케빈 디터스|스티비 워머스|',\n",
       "     'actor': '조시 게드|크리스틴 벨|이디나 멘젤|조나단 그로프|',\n",
       "     'userRating': '7.56'},\n",
       "    {'title': '<b>겨울왕국</b>: 오로라를 찾아서',\n",
       "     'link': 'https://movie.naver.com/movie/bi/mi/basic.nhn?code=157404',\n",
       "     'image': 'https://ssl.pstatic.net/imgmovie/mdi/mit110/1574/157404_P01_164445.jpg',\n",
       "     'subtitle': 'Lego Disney Frozen: Northern Lights',\n",
       "     'pubDate': '2016',\n",
       "     'director': '질 윌퍼트|',\n",
       "     'actor': '크리스 에드거리|조시 게드|조나단 그로프|카터 하스팅스|시아란 힌즈|이디나 멘젤|',\n",
       "     'userRating': '6.57'},\n",
       "    {'title': '<b>겨울왕국</b> 열기',\n",
       "     'link': 'https://movie.naver.com/movie/bi/mi/basic.nhn?code=126014',\n",
       "     'image': 'https://ssl.pstatic.net/imgmovie/mdi/mit110/1260/126014_P01_163812.jpg',\n",
       "     'subtitle': 'Frozen Fever',\n",
       "     'pubDate': '2015',\n",
       "     'director': '크리스 벅|제니퍼 리|',\n",
       "     'actor': '이디나 멘젤|크리스틴 벨|조나단 그로프|조시 게드|',\n",
       "     'userRating': '9.32'},\n",
       "    {'title': '<b>겨울왕국</b>',\n",
       "     'link': 'https://movie.naver.com/movie/bi/mi/basic.nhn?code=100931',\n",
       "     'image': 'https://ssl.pstatic.net/imgmovie/mdi/mit110/1009/100931_P98_151621.jpg',\n",
       "     'subtitle': 'Frozen',\n",
       "     'pubDate': '2013',\n",
       "     'director': '크리스 벅|제니퍼 리|',\n",
       "     'actor': '크리스틴 벨|이디나 멘젤|',\n",
       "     'userRating': '9.13'}]}}}"
      ]
     },
     "execution_count": 58,
     "metadata": {},
     "output_type": "execute_result"
    }
   ],
   "source": [
    "dict_data"
   ]
  }
 ],
 "metadata": {
  "kernelspec": {
   "display_name": "base",
   "language": "python",
   "name": "python3"
  },
  "language_info": {
   "codemirror_mode": {
    "name": "ipython",
    "version": 3
   },
   "file_extension": ".py",
   "mimetype": "text/x-python",
   "name": "python",
   "nbconvert_exporter": "python",
   "pygments_lexer": "ipython3",
   "version": "3.9.13"
  },
  "orig_nbformat": 4
 },
 "nbformat": 4,
 "nbformat_minor": 2
}
