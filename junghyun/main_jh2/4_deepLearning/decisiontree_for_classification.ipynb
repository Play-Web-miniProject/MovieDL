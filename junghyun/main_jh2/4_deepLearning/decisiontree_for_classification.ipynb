{
 "cells": [
  {
   "cell_type": "code",
   "execution_count": null,
   "metadata": {},
   "outputs": [],
   "source": [
    "import tensorflow as tf\n",
    "import numpy as np\n",
    "import pandas as pd\n",
    "import matplotlib.pyplot as plt\n",
    "import seaborn as sns\n",
    "\n",
    "#import pandas_profiling\n",
    "import datetime"
   ]
  },
  {
   "cell_type": "code",
   "execution_count": null,
   "metadata": {},
   "outputs": [],
   "source": [
    "from sklearn.tree import DecisionTreeClassifier\n",
    "from sklearn.datasets import load_iris\n",
    "from sklearn.model_selection import train_test_split\n",
    "from sklearn.metrics import accuracy_score\n"
   ]
  },
  {
   "cell_type": "code",
   "execution_count": null,
   "metadata": {},
   "outputs": [],
   "source": [
    "\n",
    "movie_final_분류 = pd.read_csv('../3_merge_top300/movie_final_cls.csv',encoding='utf-8')"
   ]
  },
  {
   "cell_type": "code",
   "execution_count": null,
   "metadata": {},
   "outputs": [],
   "source": [
    "\n",
    "movie_final_분류.head()"
   ]
  },
  {
   "cell_type": "code",
   "execution_count": null,
   "metadata": {},
   "outputs": [],
   "source": [
    "from sklearn.preprocessing import LabelEncoder\n",
    "\n",
    "le_form = LabelEncoder()\n",
    "le_nation = LabelEncoder()\n",
    "le_genre = LabelEncoder()\n",
    "le_rating = LabelEncoder()\n",
    "le_class = LabelEncoder()\n",
    "le_season = LabelEncoder()\n",
    "le_year = LabelEncoder()\n",
    "\n",
    "movie_labels = movie_final_분류.copy()\n",
    "movie_labels['영화형태'] = le_form.fit_transform(movie_final_분류['영화형태'])\n",
    "movie_labels['국적'] = le_nation.fit_transform(movie_final_분류['국적'])\n",
    "movie_labels['장르'] = le_genre.fit_transform(movie_final_분류['장르'])\n",
    "movie_labels['등급'] = le_rating.fit_transform(movie_final_분류['등급'])\n",
    "movie_labels['영화구분'] = le_class.fit_transform(movie_final_분류['영화구분'])\n",
    "movie_labels['계절'] = le_season.fit_transform(movie_final_분류['계절'])\n",
    "movie_labels['연도'] = le_year.fit_transform(movie_final_분류['연도'])\n",
    "movie_labels.drop(['Unnamed: 0'],axis=1,inplace=True)\n",
    "movie_labels.head(3)\n"
   ]
  },
  {
   "cell_type": "code",
   "execution_count": null,
   "metadata": {},
   "outputs": [],
   "source": [
    "\n",
    "not_used = ['영화명', '감독', '배급사', '영화형태', '개봉일', '영화구분', '월']\n",
    "\n",
    "movie_DL = movie_labels.drop(not_used, axis=1)\n",
    "movie_DL.head()"
   ]
  },
  {
   "cell_type": "code",
   "execution_count": null,
   "metadata": {},
   "outputs": [],
   "source": [
    "# 독립 = movie_DL[['장르', '등급', '감독_흥행','총 관객수',\n",
    "#                '배급사_흥행','주연배우_흥행','계절', '전국 스크린수','연도','코로나']].copy()\n",
    "\n",
    "# 종속 = movie_DL[['분류클래스']].copy()\n",
    "\n",
    "# display(독립.info(), 종속.info())"
   ]
  },
  {
   "cell_type": "code",
   "execution_count": null,
   "metadata": {},
   "outputs": [],
   "source": [
    "import tensorflow as tf\n",
    "\n",
    "# 클래스 가중치를 준비합니다.\n",
    "weights = tf.constant(weights, dtype=tf.float32)\n",
    "\n",
    "# 손실 함수를 정의합니다.\n",
    "loss_fn = tf.keras.losses.SparseCategoricalCrossentropy(from_logits=True)\n",
    "\n",
    "# 가중치를 적용하는 훈련 스텝을 정의합니다.\n",
    "@tf.function\n",
    "def train_step(inputs, labels):\n",
    "    with tf.GradientTape() as tape:\n",
    "        logits = model(inputs, training=True)\n",
    "        loss = loss_fn(labels, logits, sample_weight=weights)\n",
    "    gradients = tape.gradient(loss, model.trainable_variables)\n",
    "    optimizer.apply_gradients(zip(gradients, model.trainable_variables))\n",
    "    return loss\n"
   ]
  }
 ],
 "metadata": {
  "kernelspec": {
   "display_name": "tensorflow",
   "language": "python",
   "name": "python3"
  },
  "language_info": {
   "codemirror_mode": {
    "name": "ipython",
    "version": 3
   },
   "file_extension": ".py",
   "mimetype": "text/x-python",
   "name": "python",
   "nbconvert_exporter": "python",
   "pygments_lexer": "ipython3",
   "version": "3.10.10"
  },
  "orig_nbformat": 4
 },
 "nbformat": 4,
 "nbformat_minor": 2
}
